{
 "cells": [
  {
   "cell_type": "markdown",
   "metadata": {},
   "source": [
    "## Estimating richness using breakaway\n",
    "## This generates Supplemental Figure 1"
   ]
  },
  {
   "cell_type": "code",
   "execution_count": 17,
   "metadata": {
    "scrolled": true
   },
   "outputs": [],
   "source": [
    "# Loading required packages\n",
    "library(plyr)\n",
    "library(dplyr)\n",
    "library(reshape)\n",
    "library(ggplot2)\n",
    "library(phyloseq)\n",
    "library(breakaway)\n",
    "library(wesanderson)"
   ]
  },
  {
   "cell_type": "code",
   "execution_count": 18,
   "metadata": {},
   "outputs": [],
   "source": [
    "ps = readRDS(file=\"CHTC/Dada2_Results_OA20_PEAR_Full/ps.fungi\")"
   ]
  },
  {
   "cell_type": "code",
   "execution_count": 19,
   "metadata": {},
   "outputs": [],
   "source": [
    "FreqTableGenerator = function(Sample){\n",
    "    df = data.frame(t(otu_table(ps))[,Sample])\n",
    "    # Grab the OTU table\n",
    "    colnames(df)=\"Frequency\"\n",
    "    # Add a column for the frequencies of the OTUs\n",
    "    df = df %>%\n",
    "        group_by(Frequency)%>%\n",
    "        summarize(nOTUs=n())%>%\n",
    "        arrange(Frequency)\n",
    "    # Summarize the total OTUs that are present at each frequency\n",
    "    df = df[df$Frequency>1,]\n",
    "    # Cut out the 0 and 1 frequencies (because dada2 trimmed singletons)\n",
    "    colnames(df)=NULL\n",
    "    # Omit column names\n",
    "    df = as.matrix(df)\n",
    "    # Spit out a nice matrix\n",
    "    df\n",
    "}\n",
    "# Generates the frequency table summary needed by breakaway"
   ]
  },
  {
   "cell_type": "code",
   "execution_count": 20,
   "metadata": {},
   "outputs": [],
   "source": [
    "Samples = sample_names(ps)"
   ]
  },
  {
   "cell_type": "code",
   "execution_count": 21,
   "metadata": {},
   "outputs": [],
   "source": [
    "report = data.frame(name=\"\",Richness_estimate=\"\",Richness_stderr=\"\",Richness_model=\"\")\n",
    "breakawayrunner = function(SampleName){\n",
    "    df = FreqTableGenerator(SampleName)\n",
    "    if(df[1,1]==2 & (sum(df[1:6,1])==sum(c(2:7)))){\n",
    "        # First, check that the first frequency count is, indeed, 2,\n",
    "        # and there are at least 6 consecutive counts (could actually just do this test)\n",
    "            m = breakaway_nof1(df, answers=TRUE, plot=FALSE, print=FALSE)\n",
    "        # Run breakaway for the no singletons data\n",
    "            Richness_model = m$name\n",
    "            Richness_estimate = m$est\n",
    "            Richness_stderr = m$seest\n",
    "            name = SampleName\n",
    "        # Grab the outputs\n",
    "            report = data.frame(name,Richness_estimate,Richness_stderr,Richness_model)\n",
    "        # Generate a report\n",
    "    } else {\n",
    "        name = SampleName\n",
    "        report=data.frame(name)\n",
    "        # If breakaway isn't going to work anyway, just spit out the name (and NAs)\n",
    "        }\n",
    "\n",
    "    report\n",
    "\n",
    "}"
   ]
  },
  {
   "cell_type": "code",
   "execution_count": 22,
   "metadata": {},
   "outputs": [
    {
     "data": {
      "text/html": [
       "<table>\n",
       "<thead><tr><th scope=col>X1</th><th scope=col>name</th><th scope=col>Richness_estimate</th><th scope=col>Richness_stderr</th><th scope=col>Richness_model</th></tr></thead>\n",
       "<tbody>\n",
       "\t<tr><td>1          </td><td>15S-NT-19O </td><td> 505.4377  </td><td>   30.42776</td><td>WLRM       </td></tr>\n",
       "\t<tr><td>2          </td><td>15S-NT-20O </td><td> 367.1483  </td><td> 1139.13057</td><td>model_1_1  </td></tr>\n",
       "\t<tr><td>3          </td><td>15S-NT-21M </td><td> 315.9218  </td><td>  110.29103</td><td>model_1_1  </td></tr>\n",
       "\t<tr><td>4          </td><td>15S-NT-21O </td><td>1706.3637  </td><td>55012.99048</td><td>model_2_1  </td></tr>\n",
       "\t<tr><td>5          </td><td>15S-NT-22M </td><td> 344.9411  </td><td>   21.71090</td><td>WLRM       </td></tr>\n",
       "\t<tr><td>6          </td><td>15S-NT-22O </td><td> 818.8278  </td><td> 4476.50293</td><td>model_2_1  </td></tr>\n",
       "</tbody>\n",
       "</table>\n"
      ],
      "text/latex": [
       "\\begin{tabular}{r|lllll}\n",
       " X1 & name & Richness\\_estimate & Richness\\_stderr & Richness\\_model\\\\\n",
       "\\hline\n",
       "\t 1           & 15S-NT-19O  &  505.4377   &    30.42776 & WLRM       \\\\\n",
       "\t 2             & 15S-NT-20O    &  367.1483     &  1139.13057   & model\\_1\\_1\\\\\n",
       "\t 3             & 15S-NT-21M    &  315.9218     &   110.29103   & model\\_1\\_1\\\\\n",
       "\t 4             & 15S-NT-21O    & 1706.3637     & 55012.99048   & model\\_2\\_1\\\\\n",
       "\t 5           & 15S-NT-22M  &  344.9411   &    21.71090 & WLRM       \\\\\n",
       "\t 6             & 15S-NT-22O    &  818.8278     &  4476.50293   & model\\_2\\_1\\\\\n",
       "\\end{tabular}\n"
      ],
      "text/markdown": [
       "\n",
       "X1 | name | Richness_estimate | Richness_stderr | Richness_model | \n",
       "|---|---|---|---|---|---|\n",
       "| 1           | 15S-NT-19O  |  505.4377   |    30.42776 | WLRM        | \n",
       "| 2           | 15S-NT-20O  |  367.1483   |  1139.13057 | model_1_1   | \n",
       "| 3           | 15S-NT-21M  |  315.9218   |   110.29103 | model_1_1   | \n",
       "| 4           | 15S-NT-21O  | 1706.3637   | 55012.99048 | model_2_1   | \n",
       "| 5           | 15S-NT-22M  |  344.9411   |    21.71090 | WLRM        | \n",
       "| 6           | 15S-NT-22O  |  818.8278   |  4476.50293 | model_2_1   | \n",
       "\n",
       "\n"
      ],
      "text/plain": [
       "  X1 name       Richness_estimate Richness_stderr Richness_model\n",
       "1 1  15S-NT-19O  505.4377            30.42776     WLRM          \n",
       "2 2  15S-NT-20O  367.1483          1139.13057     model_1_1     \n",
       "3 3  15S-NT-21M  315.9218           110.29103     model_1_1     \n",
       "4 4  15S-NT-21O 1706.3637         55012.99048     model_2_1     \n",
       "5 5  15S-NT-22M  344.9411            21.71090     WLRM          \n",
       "6 6  15S-NT-22O  818.8278          4476.50293     model_2_1     "
      ]
     },
     "metadata": {},
     "output_type": "display_data"
    }
   ],
   "source": [
    "# Running Breakaway\n",
    "Reports = mdply(Samples,breakawayrunner)\n",
    "head(Reports)"
   ]
  },
  {
   "cell_type": "code",
   "execution_count": 23,
   "metadata": {},
   "outputs": [
    {
     "data": {
      "text/html": [
       "<table>\n",
       "<thead><tr><th scope=col>Richness_model</th><th scope=col>n()</th></tr></thead>\n",
       "<tbody>\n",
       "\t<tr><td>WLRM     </td><td>23       </td></tr>\n",
       "\t<tr><td>model_1_1</td><td>66       </td></tr>\n",
       "\t<tr><td>model_2_1</td><td>11       </td></tr>\n",
       "\t<tr><td>model_3_2</td><td> 1       </td></tr>\n",
       "</tbody>\n",
       "</table>\n"
      ],
      "text/latex": [
       "\\begin{tabular}{r|ll}\n",
       " Richness\\_model & n()\\\\\n",
       "\\hline\n",
       "\t WLRM      & 23       \\\\\n",
       "\t model\\_1\\_1 & 66           \\\\\n",
       "\t model\\_2\\_1 & 11           \\\\\n",
       "\t model\\_3\\_2 &  1           \\\\\n",
       "\\end{tabular}\n"
      ],
      "text/markdown": [
       "\n",
       "Richness_model | n() | \n",
       "|---|---|---|---|\n",
       "| WLRM      | 23        | \n",
       "| model_1_1 | 66        | \n",
       "| model_2_1 | 11        | \n",
       "| model_3_2 |  1        | \n",
       "\n",
       "\n"
      ],
      "text/plain": [
       "  Richness_model n()\n",
       "1 WLRM           23 \n",
       "2 model_1_1      66 \n",
       "3 model_2_1      11 \n",
       "4 model_3_2       1 "
      ]
     },
     "metadata": {},
     "output_type": "display_data"
    }
   ],
   "source": [
    "Report_Summary = Reports %>%\n",
    "    group_by(Richness_model)%>%\n",
    "    summarize(n())\n",
    "Report_Summary"
   ]
  },
  {
   "cell_type": "code",
   "execution_count": 24,
   "metadata": {},
   "outputs": [],
   "source": [
    "# Add richness estimates and standard error to the sample dataframe\n",
    "sample_data(ps)[,colnames(Reports)[3:5]]=Reports[,3:5]"
   ]
  },
  {
   "cell_type": "code",
   "execution_count": 25,
   "metadata": {},
   "outputs": [],
   "source": [
    "# Grabbing the sample data\n",
    "d = sample_data(ps)"
   ]
  },
  {
   "cell_type": "code",
   "execution_count": 26,
   "metadata": {},
   "outputs": [],
   "source": [
    "# Setting up function to propagate errors from richness estimates\n",
    "BettaRunner = function(Veg_Comm){\n",
    "    d = d[d$Veg_Comm==Veg_Comm,]\n",
    "    CoVars = data.frame(Veg_Comm=d$Veg_Comm,Severity_Class=d$Severity_Class)\n",
    "    CoVars$Severity=c(rep(\"\",dim(CoVars)[1]))\n",
    "    SeverityOptions = levels(CoVars$Severity_Class)\n",
    "    N = length(SeverityOptions)\n",
    "    for (i in 1:dim(CoVars)[1]){\n",
    "        Severity_Class = paste(CoVars$Severity_Class[i])    \n",
    "        if(\"Unburned\" %in% SeverityOptions){CoVars$Unburned[i] = ifelse(Severity_Class==\"Unburned\",1,0)}\n",
    "        if(\"Low\" %in% SeverityOptions){CoVars$Low[i] = ifelse(Severity_Class==\"Low\",1,0)}\n",
    "        if(\"Moderate\" %in% SeverityOptions){CoVars$Moderate[i] = ifelse(Severity_Class==\"Moderate\",1,0)}\n",
    "        if(\"High\" %in% SeverityOptions){CoVars$High[i] = ifelse(Severity_Class==\"High\",1,0)}\n",
    "    }\n",
    "    nmax = 3+N\n",
    "    CoVars = as.matrix(CoVars[,4:nmax])\n",
    "    Richness_estimates = as.vector(d$Richness_estimate)\n",
    "    Richness_stderr = as.vector(d$Richness_stderr)\n",
    "    BettaEst = betta(Richness_estimates,Richness_stderr,CoVars)\n",
    "    X = data.frame(BettaEst$table)\n",
    "    X$Veg_Comm = Veg_Comm\n",
    "    return(X)\n",
    "}"
   ]
  },
  {
   "cell_type": "code",
   "execution_count": 27,
   "metadata": {},
   "outputs": [],
   "source": [
    "# Which vegetation communities we will apply the function to (all of them)\n",
    "Veg_Comms = levels(d$Veg_Comm)"
   ]
  },
  {
   "cell_type": "code",
   "execution_count": 28,
   "metadata": {},
   "outputs": [],
   "source": [
    "# Run the function on all veg comms\n",
    "x = lapply(Veg_Comms,FUN=BettaRunner)"
   ]
  },
  {
   "cell_type": "code",
   "execution_count": 29,
   "metadata": {},
   "outputs": [],
   "source": [
    "x[[1]]$Severity_Class=row.names(x[[1]])\n",
    "x[[2]]$Severity_Class=row.names(x[[2]])\n",
    "x[[3]]$Severity_Class=row.names(x[[3]])\n",
    "x[[4]]$Severity_Class=row.names(x[[4]])\n",
    "x[[5]]$Severity_Class=row.names(x[[5]])"
   ]
  },
  {
   "cell_type": "code",
   "execution_count": 30,
   "metadata": {},
   "outputs": [
    {
     "data": {
      "text/html": [
       "<table>\n",
       "<thead><tr><th></th><th scope=col>Estimates</th><th scope=col>Standard.Errors</th><th scope=col>p.values</th><th scope=col>Veg_Comm</th><th scope=col>Severity_Class</th><th scope=col>p.adj</th><th scope=col>Ymin</th><th scope=col>Ymax</th><th scope=col>comb</th></tr></thead>\n",
       "<tbody>\n",
       "\t<tr><th scope=row>Unburned</th><td>403.2771              </td><td> 219.51588            </td><td>0.066                 </td><td>Black Spruce          </td><td>Unburned              </td><td>1.000                 </td><td>  -26.97398           </td><td> 833.5283             </td><td>Black Spruce Unburned </td></tr>\n",
       "\t<tr><th scope=row>Moderate</th><td>517.9439              </td><td> 158.21462            </td><td>0.001                 </td><td>Black Spruce          </td><td>Moderate              </td><td>0.016                 </td><td>  207.84324           </td><td> 828.0446             </td><td>Black Spruce Moderate </td></tr>\n",
       "\t<tr><th scope=row>Unburned1</th><td>443.6937              </td><td>  96.29126            </td><td>0.000                 </td><td>Jack Pine             </td><td>Unburned              </td><td>0.000                 </td><td>  254.96280           </td><td> 632.4245             </td><td>Jack Pine Unburned    </td></tr>\n",
       "\t<tr><th scope=row>Low</th><td>434.9206              </td><td> 108.78287            </td><td>0.000                 </td><td>Jack Pine             </td><td>Low                   </td><td>0.000                 </td><td>  221.70616           </td><td> 648.1350             </td><td>Jack Pine Low         </td></tr>\n",
       "\t<tr><th scope=row>Moderate1</th><td>286.2213              </td><td>  57.23543            </td><td>0.000                 </td><td>Jack Pine             </td><td>Moderate              </td><td>0.000                 </td><td>  174.03988           </td><td> 398.4028             </td><td>Jack Pine Moderate    </td></tr>\n",
       "\t<tr><th scope=row>High</th><td>236.3571              </td><td>  33.58243            </td><td>0.000                 </td><td>Jack Pine             </td><td>High                  </td><td>0.000                 </td><td>  170.53553           </td><td> 302.1787             </td><td>Jack Pine High        </td></tr>\n",
       "\t<tr><th scope=row>Unburned2</th><td>410.1505              </td><td>  43.60432            </td><td>0.000                 </td><td>Mixedwood             </td><td>Unburned              </td><td>0.000                 </td><td>  324.68605           </td><td> 495.6150             </td><td>Mixedwood Unburned    </td></tr>\n",
       "\t<tr><th scope=row>Low1</th><td>422.6467              </td><td>  39.93388            </td><td>0.000                 </td><td>Mixedwood             </td><td>Low                   </td><td>0.000                 </td><td>  344.37631           </td><td> 500.9171             </td><td>Mixedwood Low         </td></tr>\n",
       "\t<tr><th scope=row>Moderate2</th><td>401.3868              </td><td>  33.36321            </td><td>0.000                 </td><td>Mixedwood             </td><td>Moderate              </td><td>0.000                 </td><td>  335.99488           </td><td> 466.7787             </td><td>Mixedwood Moderate    </td></tr>\n",
       "\t<tr><th scope=row>High1</th><td>223.2758              </td><td>  52.10218            </td><td>0.000                 </td><td>Mixedwood             </td><td>High                  </td><td>0.000                 </td><td>  121.15551           </td><td> 325.3961             </td><td>Mixedwood High        </td></tr>\n",
       "\t<tr><th scope=row>Unburned3</th><td>220.3758              </td><td> 139.04430            </td><td>0.113                 </td><td>Open Wetland          </td><td>Unburned              </td><td>1.000                 </td><td>  -52.15103           </td><td> 492.9026             </td><td>Open Wetland Unburned </td></tr>\n",
       "\t<tr><th scope=row>Low2</th><td>571.3682              </td><td>  85.43683            </td><td>0.000                 </td><td>Open Wetland          </td><td>Low                   </td><td>0.000                 </td><td>  403.91197           </td><td> 738.8243             </td><td>Open Wetland Low      </td></tr>\n",
       "\t<tr><th scope=row>Moderate3</th><td>303.4625              </td><td> 140.86759            </td><td>0.031                 </td><td>Open Wetland          </td><td>Moderate              </td><td>0.496                 </td><td>   27.36202           </td><td> 579.5630             </td><td>Open Wetland Moderate </td></tr>\n",
       "\t<tr><th scope=row>Unburned4</th><td>610.7139              </td><td> 159.77401            </td><td>0.000                 </td><td>Treed Wetland         </td><td>Unburned              </td><td>0.000                 </td><td>  297.55682           </td><td> 923.8709             </td><td>Treed Wetland Unburned</td></tr>\n",
       "\t<tr><th scope=row>Low3</th><td>805.9571              </td><td>1214.60214            </td><td>0.507                 </td><td>Treed Wetland         </td><td>Low                   </td><td>1.000                 </td><td>-1574.66310           </td><td>3186.5773             </td><td>Treed Wetland Low     </td></tr>\n",
       "\t<tr><th scope=row>Moderate4</th><td>392.2982              </td><td> 112.18329            </td><td>0.000                 </td><td>Treed Wetland         </td><td>Moderate              </td><td>0.000                 </td><td>  172.41895           </td><td> 612.1774             </td><td>Treed Wetland Moderate</td></tr>\n",
       "</tbody>\n",
       "</table>\n"
      ],
      "text/latex": [
       "\\begin{tabular}{r|lllllllll}\n",
       "  & Estimates & Standard.Errors & p.values & Veg\\_Comm & Severity\\_Class & p.adj & Ymin & Ymax & comb\\\\\n",
       "\\hline\n",
       "\tUnburned & 403.2771               &  219.51588             & 0.066                  & Black Spruce           & Unburned               & 1.000                  &   -26.97398            &  833.5283              & Black Spruce Unburned \\\\\n",
       "\tModerate & 517.9439               &  158.21462             & 0.001                  & Black Spruce           & Moderate               & 0.016                  &   207.84324            &  828.0446              & Black Spruce Moderate \\\\\n",
       "\tUnburned1 & 443.6937               &   96.29126             & 0.000                  & Jack Pine              & Unburned               & 0.000                  &   254.96280            &  632.4245              & Jack Pine Unburned    \\\\\n",
       "\tLow & 434.9206               &  108.78287             & 0.000                  & Jack Pine              & Low                    & 0.000                  &   221.70616            &  648.1350              & Jack Pine Low         \\\\\n",
       "\tModerate1 & 286.2213               &   57.23543             & 0.000                  & Jack Pine              & Moderate               & 0.000                  &   174.03988            &  398.4028              & Jack Pine Moderate    \\\\\n",
       "\tHigh & 236.3571               &   33.58243             & 0.000                  & Jack Pine              & High                   & 0.000                  &   170.53553            &  302.1787              & Jack Pine High        \\\\\n",
       "\tUnburned2 & 410.1505               &   43.60432             & 0.000                  & Mixedwood              & Unburned               & 0.000                  &   324.68605            &  495.6150              & Mixedwood Unburned    \\\\\n",
       "\tLow1 & 422.6467               &   39.93388             & 0.000                  & Mixedwood              & Low                    & 0.000                  &   344.37631            &  500.9171              & Mixedwood Low         \\\\\n",
       "\tModerate2 & 401.3868               &   33.36321             & 0.000                  & Mixedwood              & Moderate               & 0.000                  &   335.99488            &  466.7787              & Mixedwood Moderate    \\\\\n",
       "\tHigh1 & 223.2758               &   52.10218             & 0.000                  & Mixedwood              & High                   & 0.000                  &   121.15551            &  325.3961              & Mixedwood High        \\\\\n",
       "\tUnburned3 & 220.3758               &  139.04430             & 0.113                  & Open Wetland           & Unburned               & 1.000                  &   -52.15103            &  492.9026              & Open Wetland Unburned \\\\\n",
       "\tLow2 & 571.3682               &   85.43683             & 0.000                  & Open Wetland           & Low                    & 0.000                  &   403.91197            &  738.8243              & Open Wetland Low      \\\\\n",
       "\tModerate3 & 303.4625               &  140.86759             & 0.031                  & Open Wetland           & Moderate               & 0.496                  &    27.36202            &  579.5630              & Open Wetland Moderate \\\\\n",
       "\tUnburned4 & 610.7139               &  159.77401             & 0.000                  & Treed Wetland          & Unburned               & 0.000                  &   297.55682            &  923.8709              & Treed Wetland Unburned\\\\\n",
       "\tLow3 & 805.9571               & 1214.60214             & 0.507                  & Treed Wetland          & Low                    & 1.000                  & -1574.66310            & 3186.5773              & Treed Wetland Low     \\\\\n",
       "\tModerate4 & 392.2982               &  112.18329             & 0.000                  & Treed Wetland          & Moderate               & 0.000                  &   172.41895            &  612.1774              & Treed Wetland Moderate\\\\\n",
       "\\end{tabular}\n"
      ],
      "text/markdown": [
       "\n",
       "| <!--/--> | Estimates | Standard.Errors | p.values | Veg_Comm | Severity_Class | p.adj | Ymin | Ymax | comb | \n",
       "|---|---|---|---|---|---|---|---|---|---|---|---|---|---|---|---|\n",
       "| Unburned | 403.2771               |  219.51588             | 0.066                  | Black Spruce           | Unburned               | 1.000                  |   -26.97398            |  833.5283              | Black Spruce Unburned  | \n",
       "| Moderate | 517.9439               |  158.21462             | 0.001                  | Black Spruce           | Moderate               | 0.016                  |   207.84324            |  828.0446              | Black Spruce Moderate  | \n",
       "| Unburned1 | 443.6937               |   96.29126             | 0.000                  | Jack Pine              | Unburned               | 0.000                  |   254.96280            |  632.4245              | Jack Pine Unburned     | \n",
       "| Low | 434.9206               |  108.78287             | 0.000                  | Jack Pine              | Low                    | 0.000                  |   221.70616            |  648.1350              | Jack Pine Low          | \n",
       "| Moderate1 | 286.2213               |   57.23543             | 0.000                  | Jack Pine              | Moderate               | 0.000                  |   174.03988            |  398.4028              | Jack Pine Moderate     | \n",
       "| High | 236.3571               |   33.58243             | 0.000                  | Jack Pine              | High                   | 0.000                  |   170.53553            |  302.1787              | Jack Pine High         | \n",
       "| Unburned2 | 410.1505               |   43.60432             | 0.000                  | Mixedwood              | Unburned               | 0.000                  |   324.68605            |  495.6150              | Mixedwood Unburned     | \n",
       "| Low1 | 422.6467               |   39.93388             | 0.000                  | Mixedwood              | Low                    | 0.000                  |   344.37631            |  500.9171              | Mixedwood Low          | \n",
       "| Moderate2 | 401.3868               |   33.36321             | 0.000                  | Mixedwood              | Moderate               | 0.000                  |   335.99488            |  466.7787              | Mixedwood Moderate     | \n",
       "| High1 | 223.2758               |   52.10218             | 0.000                  | Mixedwood              | High                   | 0.000                  |   121.15551            |  325.3961              | Mixedwood High         | \n",
       "| Unburned3 | 220.3758               |  139.04430             | 0.113                  | Open Wetland           | Unburned               | 1.000                  |   -52.15103            |  492.9026              | Open Wetland Unburned  | \n",
       "| Low2 | 571.3682               |   85.43683             | 0.000                  | Open Wetland           | Low                    | 0.000                  |   403.91197            |  738.8243              | Open Wetland Low       | \n",
       "| Moderate3 | 303.4625               |  140.86759             | 0.031                  | Open Wetland           | Moderate               | 0.496                  |    27.36202            |  579.5630              | Open Wetland Moderate  | \n",
       "| Unburned4 | 610.7139               |  159.77401             | 0.000                  | Treed Wetland          | Unburned               | 0.000                  |   297.55682            |  923.8709              | Treed Wetland Unburned | \n",
       "| Low3 | 805.9571               | 1214.60214             | 0.507                  | Treed Wetland          | Low                    | 1.000                  | -1574.66310            | 3186.5773              | Treed Wetland Low      | \n",
       "| Moderate4 | 392.2982               |  112.18329             | 0.000                  | Treed Wetland          | Moderate               | 0.000                  |   172.41895            |  612.1774              | Treed Wetland Moderate | \n",
       "\n",
       "\n"
      ],
      "text/plain": [
       "          Estimates Standard.Errors p.values Veg_Comm      Severity_Class p.adj\n",
       "Unburned  403.2771   219.51588      0.066    Black Spruce  Unburned       1.000\n",
       "Moderate  517.9439   158.21462      0.001    Black Spruce  Moderate       0.016\n",
       "Unburned1 443.6937    96.29126      0.000    Jack Pine     Unburned       0.000\n",
       "Low       434.9206   108.78287      0.000    Jack Pine     Low            0.000\n",
       "Moderate1 286.2213    57.23543      0.000    Jack Pine     Moderate       0.000\n",
       "High      236.3571    33.58243      0.000    Jack Pine     High           0.000\n",
       "Unburned2 410.1505    43.60432      0.000    Mixedwood     Unburned       0.000\n",
       "Low1      422.6467    39.93388      0.000    Mixedwood     Low            0.000\n",
       "Moderate2 401.3868    33.36321      0.000    Mixedwood     Moderate       0.000\n",
       "High1     223.2758    52.10218      0.000    Mixedwood     High           0.000\n",
       "Unburned3 220.3758   139.04430      0.113    Open Wetland  Unburned       1.000\n",
       "Low2      571.3682    85.43683      0.000    Open Wetland  Low            0.000\n",
       "Moderate3 303.4625   140.86759      0.031    Open Wetland  Moderate       0.496\n",
       "Unburned4 610.7139   159.77401      0.000    Treed Wetland Unburned       0.000\n",
       "Low3      805.9571  1214.60214      0.507    Treed Wetland Low            1.000\n",
       "Moderate4 392.2982   112.18329      0.000    Treed Wetland Moderate       0.000\n",
       "          Ymin        Ymax      comb                  \n",
       "Unburned    -26.97398  833.5283 Black Spruce Unburned \n",
       "Moderate    207.84324  828.0446 Black Spruce Moderate \n",
       "Unburned1   254.96280  632.4245 Jack Pine Unburned    \n",
       "Low         221.70616  648.1350 Jack Pine Low         \n",
       "Moderate1   174.03988  398.4028 Jack Pine Moderate    \n",
       "High        170.53553  302.1787 Jack Pine High        \n",
       "Unburned2   324.68605  495.6150 Mixedwood Unburned    \n",
       "Low1        344.37631  500.9171 Mixedwood Low         \n",
       "Moderate2   335.99488  466.7787 Mixedwood Moderate    \n",
       "High1       121.15551  325.3961 Mixedwood High        \n",
       "Unburned3   -52.15103  492.9026 Open Wetland Unburned \n",
       "Low2        403.91197  738.8243 Open Wetland Low      \n",
       "Moderate3    27.36202  579.5630 Open Wetland Moderate \n",
       "Unburned4   297.55682  923.8709 Treed Wetland Unburned\n",
       "Low3      -1574.66310 3186.5773 Treed Wetland Low     \n",
       "Moderate4   172.41895  612.1774 Treed Wetland Moderate"
      ]
     },
     "metadata": {},
     "output_type": "display_data"
    }
   ],
   "source": [
    "# Join into dataframe and adjust errors\n",
    "x = rbind(x[[1]],x[[2]],x[[3]],x[[4]],x[[5]])\n",
    "x = data.frame(x)\n",
    "x$p.adj = p.adjust(x$p.values, method = \"bonferroni\")\n",
    "x$Ymin = x$Estimates-1.96*x$Standard.Errors\n",
    "x$Ymax = x$Estimates+1.96*x$Standard.Errors\n",
    "x$comb = paste(x$Veg_Comm,x$Severity_Class)\n",
    "x"
   ]
  },
  {
   "cell_type": "code",
   "execution_count": 31,
   "metadata": {},
   "outputs": [],
   "source": [
    "# Setting factors\n",
    "x$Severity_Class=factor(x$Severity_Class,levels=c(\"Unburned\",\"Low\",\"Moderate\",\"High\"))\n",
    "x$Veg_Comm = factor(x$Veg_Comm, levels=c(\"Black Spruce\", \"Jack Pine\", \"Mixedwood\", \"Treed Wetland\", \"Open Wetland\"))"
   ]
  },
  {
   "cell_type": "code",
   "execution_count": 32,
   "metadata": {},
   "outputs": [
    {
     "name": "stderr",
     "output_type": "stream",
     "text": [
      "Warning message:\n",
      "“Removed 1 rows containing missing values (geom_errorbar).”"
     ]
    },
    {
     "data": {},
     "metadata": {},
     "output_type": "display_data"
    },
    {
     "data": {
      "image/png": "[encoded data removed]",
      "text/plain": [
       "plot without title"
      ]
     },
     "metadata": {},
     "output_type": "display_data"
    }
   ],
   "source": [
    "# Plotting the data\n",
    "\n",
    "options(repr.plot.width=7, repr.plot.height=4)\n",
    "p = ggplot(x)\n",
    "p = p + geom_errorbar(aes(x=Severity_Class,min = Ymax, max = Ymin,color=Severity_Class),width=0.5)\n",
    "p = p + geom_point(aes(x=Severity_Class,y=Estimates,color=Severity_Class))\n",
    "p = p + facet_wrap(~Veg_Comm)\n",
    "palette = wes_palette(\"Darjeeling\")[c(2,3,4,1,5)]\n",
    "p = p + scale_colour_manual(values=palette)\n",
    "p = p + theme_bw() +\n",
    "  theme(\n",
    "    plot.background = element_blank()\n",
    "   ,panel.grid.major = element_blank()\n",
    "   ,panel.grid.minor = element_blank()\n",
    "   ,strip.background = element_rect(colour=\"white\", fill=\"white\"))\n",
    "p = p + theme(axis.text.x = element_text(angle=55,hjust=1))\n",
    "p = p + ylab(\"Mean Richness Estimate\")\n",
    "p = p + xlab(\"\")\n",
    "p = p + guides(colour=guide_legend(title=\"Severity Class\"))\n",
    "p = p + ylim(-200,1200)\n",
    "p"
   ]
  },
  {
   "cell_type": "code",
   "execution_count": null,
   "metadata": {},
   "outputs": [],
   "source": []
  }
 ],
 "metadata": {
  "kernelspec": {
   "display_name": "R",
   "language": "R",
   "name": "ir"
  },
  "language_info": {
   "codemirror_mode": "r",
   "file_extension": ".r",
   "mimetype": "text/x-r-source",
   "name": "R",
   "pygments_lexer": "r",
   "version": "3.4.3"
  }
 },
 "nbformat": 4,
 "nbformat_minor": 2
}
