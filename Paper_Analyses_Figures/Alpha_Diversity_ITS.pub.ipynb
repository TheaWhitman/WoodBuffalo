{
 "cells": [
  {
   "cell_type": "markdown",
   "metadata": {},
   "source": [
    "## Estimating richness using breakaway\n",
    "## This generates Supplemental Figure 1"
   ]
  },
  {
   "cell_type": "code",
   "execution_count": 1,
   "metadata": {
    "scrolled": true
   },
   "outputs": [
    {
     "name": "stderr",
     "output_type": "stream",
     "text": [
      "\n",
      "Attaching package: ‘dplyr’\n",
      "\n",
      "The following objects are masked from ‘package:plyr’:\n",
      "\n",
      "    arrange, count, desc, failwith, id, mutate, rename, summarise,\n",
      "    summarize\n",
      "\n",
      "The following objects are masked from ‘package:stats’:\n",
      "\n",
      "    filter, lag\n",
      "\n",
      "The following objects are masked from ‘package:base’:\n",
      "\n",
      "    intersect, setdiff, setequal, union\n",
      "\n",
      "\n",
      "Attaching package: ‘reshape’\n",
      "\n",
      "The following object is masked from ‘package:dplyr’:\n",
      "\n",
      "    rename\n",
      "\n",
      "The following objects are masked from ‘package:plyr’:\n",
      "\n",
      "    rename, round_any\n",
      "\n"
     ]
    }
   ],
   "source": [
    "# Loading required packages\n",
    "library(plyr)\n",
    "library(dplyr)\n",
    "library(reshape)\n",
    "library(ggplot2)\n",
    "library(phyloseq)\n",
    "library(breakaway)\n",
    "library(wesanderson)"
   ]
  },
  {
   "cell_type": "code",
   "execution_count": 3,
   "metadata": {},
   "outputs": [],
   "source": [
    "ps = readRDS(file=\"CHTC/Dada2_Results_OA20_PEAR_Full/ps.fungi\")"
   ]
  },
  {
   "cell_type": "code",
   "execution_count": 4,
   "metadata": {},
   "outputs": [],
   "source": [
    "FreqTableGenerator = function(Sample){\n",
    "    df = data.frame(t(otu_table(ps))[,Sample])\n",
    "    # Grab the OTU table\n",
    "    colnames(df)=\"Frequency\"\n",
    "    # Add a column for the frequencies of the OTUs\n",
    "    df = df %>%\n",
    "        group_by(Frequency)%>%\n",
    "        summarize(nOTUs=n())%>%\n",
    "        arrange(Frequency)\n",
    "    # Summarize the total OTUs that are present at each frequency\n",
    "    df = df[df$Frequency>1,]\n",
    "    # Cut out the 0 and 1 frequencies (because dada2 trimmed singletons)\n",
    "    colnames(df)=NULL\n",
    "    # Omit column names\n",
    "    df = as.matrix(df)\n",
    "    # Spit out a nice matrix\n",
    "    df\n",
    "}\n",
    "# Generates the frequency table summary needed by breakaway"
   ]
  },
  {
   "cell_type": "code",
   "execution_count": 5,
   "metadata": {},
   "outputs": [],
   "source": [
    "Samples = sample_names(ps)"
   ]
  },
  {
   "cell_type": "code",
   "execution_count": 6,
   "metadata": {},
   "outputs": [],
   "source": [
    "report = data.frame(name=\"\",Richness_estimate=\"\",Richness_stderr=\"\",Richness_model=\"\")\n",
    "breakawayrunner = function(SampleName){\n",
    "    df = FreqTableGenerator(SampleName)\n",
    "    if(df[1,1]==2 & (sum(df[1:6,1])==sum(c(2:7)))){\n",
    "        # First, check that the first frequency count is, indeed, 2,\n",
    "        # and there are at least 6 consecutive counts (could actually just do this test)\n",
    "            m = breakaway_nof1(df, answers=TRUE, plot=FALSE, print=FALSE)\n",
    "        # Run breakaway for the no singletons data\n",
    "            Richness_model = m$name\n",
    "            Richness_estimate = m$est\n",
    "            Richness_stderr = m$seest\n",
    "            name = SampleName\n",
    "        # Grab the outputs\n",
    "            report = data.frame(name,Richness_estimate,Richness_stderr,Richness_model)\n",
    "        # Generate a report\n",
    "    } else {\n",
    "        name = SampleName\n",
    "        report=data.frame(name)\n",
    "        # If breakaway isn't going to work anyway, just spit out the name (and NAs)\n",
    "        }\n",
    "\n",
    "    report\n",
    "\n",
    "}"
   ]
  },
  {
   "cell_type": "code",
   "execution_count": 7,
   "metadata": {},
   "outputs": [
    {
     "data": {
      "text/html": [
       "<table>\n",
       "<thead><tr><th scope=col>X1</th><th scope=col>name</th><th scope=col>Richness_estimate</th><th scope=col>Richness_stderr</th><th scope=col>Richness_model</th></tr></thead>\n",
       "<tbody>\n",
       "\t<tr><td>1          </td><td>15S-NT-19O </td><td> 505.4377  </td><td>   30.42776</td><td>WLRM       </td></tr>\n",
       "\t<tr><td>2          </td><td>15S-NT-20O </td><td> 367.1485  </td><td> 1139.13399</td><td>model_1_1  </td></tr>\n",
       "\t<tr><td>3          </td><td>15S-NT-21M </td><td> 288.0503  </td><td>   53.47072</td><td>model_1_1  </td></tr>\n",
       "\t<tr><td>4          </td><td>15S-NT-21O </td><td>1705.8115  </td><td>54972.53327</td><td>model_2_1  </td></tr>\n",
       "\t<tr><td>5          </td><td>15S-NT-22M </td><td> 344.9411  </td><td>   21.71090</td><td>WLRM       </td></tr>\n",
       "\t<tr><td>6          </td><td>15S-NT-22O </td><td> 818.8283  </td><td> 4476.50967</td><td>model_2_1  </td></tr>\n",
       "</tbody>\n",
       "</table>\n"
      ],
      "text/latex": [
       "\\begin{tabular}{r|lllll}\n",
       " X1 & name & Richness\\_estimate & Richness\\_stderr & Richness\\_model\\\\\n",
       "\\hline\n",
       "\t 1           & 15S-NT-19O  &  505.4377   &    30.42776 & WLRM       \\\\\n",
       "\t 2             & 15S-NT-20O    &  367.1485     &  1139.13399   & model\\_1\\_1\\\\\n",
       "\t 3             & 15S-NT-21M    &  288.0503     &    53.47072   & model\\_1\\_1\\\\\n",
       "\t 4             & 15S-NT-21O    & 1705.8115     & 54972.53327   & model\\_2\\_1\\\\\n",
       "\t 5           & 15S-NT-22M  &  344.9411   &    21.71090 & WLRM       \\\\\n",
       "\t 6             & 15S-NT-22O    &  818.8283     &  4476.50967   & model\\_2\\_1\\\\\n",
       "\\end{tabular}\n"
      ],
      "text/markdown": [
       "\n",
       "X1 | name | Richness_estimate | Richness_stderr | Richness_model | \n",
       "|---|---|---|---|---|---|\n",
       "| 1           | 15S-NT-19O  |  505.4377   |    30.42776 | WLRM        | \n",
       "| 2           | 15S-NT-20O  |  367.1485   |  1139.13399 | model_1_1   | \n",
       "| 3           | 15S-NT-21M  |  288.0503   |    53.47072 | model_1_1   | \n",
       "| 4           | 15S-NT-21O  | 1705.8115   | 54972.53327 | model_2_1   | \n",
       "| 5           | 15S-NT-22M  |  344.9411   |    21.71090 | WLRM        | \n",
       "| 6           | 15S-NT-22O  |  818.8283   |  4476.50967 | model_2_1   | \n",
       "\n",
       "\n"
      ],
      "text/plain": [
       "  X1 name       Richness_estimate Richness_stderr Richness_model\n",
       "1 1  15S-NT-19O  505.4377            30.42776     WLRM          \n",
       "2 2  15S-NT-20O  367.1485          1139.13399     model_1_1     \n",
       "3 3  15S-NT-21M  288.0503            53.47072     model_1_1     \n",
       "4 4  15S-NT-21O 1705.8115         54972.53327     model_2_1     \n",
       "5 5  15S-NT-22M  344.9411            21.71090     WLRM          \n",
       "6 6  15S-NT-22O  818.8283          4476.50967     model_2_1     "
      ]
     },
     "metadata": {},
     "output_type": "display_data"
    }
   ],
   "source": [
    "# Running Breakaway\n",
    "Reports = mdply(Samples,breakawayrunner)\n",
    "head(Reports)"
   ]
  },
  {
   "cell_type": "code",
   "execution_count": 8,
   "metadata": {},
   "outputs": [
    {
     "data": {
      "text/html": [
       "<table>\n",
       "<thead><tr><th scope=col>Richness_model</th><th scope=col>n()</th></tr></thead>\n",
       "<tbody>\n",
       "\t<tr><td>WLRM     </td><td>23       </td></tr>\n",
       "\t<tr><td>model_1_1</td><td>66       </td></tr>\n",
       "\t<tr><td>model_2_1</td><td>11       </td></tr>\n",
       "\t<tr><td>model_3_2</td><td> 1       </td></tr>\n",
       "</tbody>\n",
       "</table>\n"
      ],
      "text/latex": [
       "\\begin{tabular}{r|ll}\n",
       " Richness\\_model & n()\\\\\n",
       "\\hline\n",
       "\t WLRM      & 23       \\\\\n",
       "\t model\\_1\\_1 & 66           \\\\\n",
       "\t model\\_2\\_1 & 11           \\\\\n",
       "\t model\\_3\\_2 &  1           \\\\\n",
       "\\end{tabular}\n"
      ],
      "text/markdown": [
       "\n",
       "Richness_model | n() | \n",
       "|---|---|---|---|\n",
       "| WLRM      | 23        | \n",
       "| model_1_1 | 66        | \n",
       "| model_2_1 | 11        | \n",
       "| model_3_2 |  1        | \n",
       "\n",
       "\n"
      ],
      "text/plain": [
       "  Richness_model n()\n",
       "1 WLRM           23 \n",
       "2 model_1_1      66 \n",
       "3 model_2_1      11 \n",
       "4 model_3_2       1 "
      ]
     },
     "metadata": {},
     "output_type": "display_data"
    }
   ],
   "source": [
    "Report_Summary = Reports %>%\n",
    "    group_by(Richness_model)%>%\n",
    "    summarize(n())\n",
    "Report_Summary"
   ]
  },
  {
   "cell_type": "code",
   "execution_count": 9,
   "metadata": {},
   "outputs": [],
   "source": [
    "# Add richness estimates and standard error to the sample dataframe\n",
    "sample_data(ps)[,colnames(Reports)[3:5]]=Reports[,3:5]"
   ]
  },
  {
   "cell_type": "code",
   "execution_count": 10,
   "metadata": {},
   "outputs": [],
   "source": [
    "# Grabbing the sample data\n",
    "d = sample_data(ps)"
   ]
  },
  {
   "cell_type": "code",
   "execution_count": 13,
   "metadata": {},
   "outputs": [],
   "source": [
    "# Setting up function to propagate errors from richness estimates\n",
    "BettaRunner = function(Veg_Comm){\n",
    "    d = d[d$Veg_Comm==Veg_Comm,]\n",
    "    CoVars = data.frame(Veg_Comm=d$Veg_Comm,Severity_Class=d$Severity_Class)\n",
    "    CoVars$Severity=c(rep(\"\",dim(CoVars)[1]))\n",
    "    SeverityOptions = levels(CoVars$Severity_Class)\n",
    "    N = length(SeverityOptions)\n",
    "    for (i in 1:dim(CoVars)[1]){\n",
    "        Severity_Class = paste(CoVars$Severity_Class[i])    \n",
    "        if(\"Unburned\" %in% SeverityOptions){CoVars$Unburned[i] = ifelse(Severity_Class==\"Unburned\",1,0)}\n",
    "        if(\"Low\" %in% SeverityOptions){CoVars$Low[i] = ifelse(Severity_Class==\"Low\",1,0)}\n",
    "        if(\"Moderate\" %in% SeverityOptions){CoVars$Moderate[i] = ifelse(Severity_Class==\"Moderate\",1,0)}\n",
    "        if(\"High\" %in% SeverityOptions){CoVars$High[i] = ifelse(Severity_Class==\"High\",1,0)}\n",
    "    }\n",
    "    nmax = 3+N\n",
    "    CoVars = as.matrix(CoVars[,4:nmax])\n",
    "    Richness_estimates = as.vector(d$Richness_estimate)\n",
    "    Richness_stderr = as.vector(d$Richness_stderr)\n",
    "    BettaEst = betta(Richness_estimates,Richness_stderr,CoVars)\n",
    "    X = data.frame(BettaEst$table)\n",
    "    X$Veg_Comm = Veg_Comm\n",
    "    return(X)\n",
    "}"
   ]
  },
  {
   "cell_type": "code",
   "execution_count": 14,
   "metadata": {},
   "outputs": [],
   "source": [
    "# Which vegetation communities we will apply the function to (all of them)\n",
    "Veg_Comms = levels(d$Veg_Comm)"
   ]
  },
  {
   "cell_type": "code",
   "execution_count": 15,
   "metadata": {},
   "outputs": [],
   "source": [
    "# Run the function on all veg comms\n",
    "x = lapply(Veg_Comms,FUN=BettaRunner)"
   ]
  },
  {
   "cell_type": "code",
   "execution_count": 16,
   "metadata": {},
   "outputs": [],
   "source": [
    "x[[1]]$Severity_Class=row.names(x[[1]])\n",
    "x[[2]]$Severity_Class=row.names(x[[2]])\n",
    "x[[3]]$Severity_Class=row.names(x[[3]])\n",
    "x[[4]]$Severity_Class=row.names(x[[4]])\n",
    "x[[5]]$Severity_Class=row.names(x[[5]])"
   ]
  },
  {
   "cell_type": "code",
   "execution_count": 17,
   "metadata": {},
   "outputs": [
    {
     "data": {
      "text/html": [
       "<table>\n",
       "<thead><tr><th></th><th scope=col>Estimates</th><th scope=col>Standard.Errors</th><th scope=col>p.values</th><th scope=col>Veg_Comm</th><th scope=col>Severity_Class</th><th scope=col>p.adj</th><th scope=col>Ymin</th><th scope=col>Ymax</th><th scope=col>comb</th></tr></thead>\n",
       "<tbody>\n",
       "\t<tr><th scope=row>Unburned</th><td>392.9646              </td><td>  70.39760            </td><td>0.000                 </td><td>Black Spruce          </td><td>Unburned              </td><td>0.0                   </td><td>  254.9852969         </td><td> 530.9439             </td><td>Black Spruce Unburned </td></tr>\n",
       "\t<tr><th scope=row>Low</th><td>591.6347              </td><td>1143.24889            </td><td>0.605                 </td><td>Black Spruce          </td><td>Low                   </td><td>1.0                   </td><td>-1649.1330778         </td><td>2832.4026             </td><td>Black Spruce Low      </td></tr>\n",
       "\t<tr><th scope=row>Moderate</th><td>711.5364              </td><td> 194.26062            </td><td>0.000                 </td><td>Black Spruce          </td><td>Moderate              </td><td>0.0                   </td><td>  330.7856431         </td><td>1092.2873             </td><td>Black Spruce Moderate </td></tr>\n",
       "\t<tr><th scope=row>High</th><td>286.2533              </td><td>  61.16871            </td><td>0.000                 </td><td>Black Spruce          </td><td>High                  </td><td>0.0                   </td><td>  166.3626315         </td><td> 406.1440             </td><td>Black Spruce High     </td></tr>\n",
       "\t<tr><th scope=row>Unburned1</th><td>443.6545              </td><td>  82.98879            </td><td>0.000                 </td><td>Jack Pine             </td><td>Unburned              </td><td>0.0                   </td><td>  280.9964367         </td><td> 606.3125             </td><td>Jack Pine Unburned    </td></tr>\n",
       "\t<tr><th scope=row>Low1</th><td>243.2773              </td><td>  64.61067            </td><td>0.000                 </td><td>Jack Pine             </td><td>Low                   </td><td>0.0                   </td><td>  116.6403955         </td><td> 369.9142             </td><td>Jack Pine Low         </td></tr>\n",
       "\t<tr><th scope=row>Moderate1</th><td>364.8607              </td><td>  47.76481            </td><td>0.000                 </td><td>Jack Pine             </td><td>Moderate              </td><td>0.0                   </td><td>  271.2416248         </td><td> 458.4797             </td><td>Jack Pine Moderate    </td></tr>\n",
       "\t<tr><th scope=row>High1</th><td>214.7371              </td><td>  31.94725            </td><td>0.000                 </td><td>Jack Pine             </td><td>High                  </td><td>0.0                   </td><td>  152.1204837         </td><td> 277.3537             </td><td>Jack Pine High        </td></tr>\n",
       "\t<tr><th scope=row>Unburned2</th><td>448.2682              </td><td>  70.00330            </td><td>0.000                 </td><td>Mixedwood             </td><td>Unburned              </td><td>0.0                   </td><td>  311.0617753         </td><td> 585.4747             </td><td>Mixedwood Unburned    </td></tr>\n",
       "\t<tr><th scope=row>Low2</th><td>355.8125              </td><td>  55.71028            </td><td>0.000                 </td><td>Mixedwood             </td><td>Low                   </td><td>0.0                   </td><td>  246.6203486         </td><td> 465.0047             </td><td>Mixedwood Low         </td></tr>\n",
       "\t<tr><th scope=row>Moderate2</th><td>378.9708              </td><td>  54.29773            </td><td>0.000                 </td><td>Mixedwood             </td><td>Moderate              </td><td>0.0                   </td><td>  272.5472520         </td><td> 485.3944             </td><td>Mixedwood Moderate    </td></tr>\n",
       "\t<tr><th scope=row>High2</th><td>428.5815              </td><td>  81.65216            </td><td>0.000                 </td><td>Mixedwood             </td><td>High                  </td><td>0.0                   </td><td>  268.5432446         </td><td> 588.6197             </td><td>Mixedwood High        </td></tr>\n",
       "\t<tr><th scope=row>Unburned3</th><td>233.2536              </td><td> 174.87854            </td><td>0.182                 </td><td>Open Wetland          </td><td>Unburned              </td><td>1.0                   </td><td> -109.5083738         </td><td> 576.0155             </td><td>Open Wetland Unburned </td></tr>\n",
       "\t<tr><th scope=row>Low3</th><td>558.1070              </td><td>  93.58486            </td><td>0.000                 </td><td>Open Wetland          </td><td>Low                   </td><td>0.0                   </td><td>  374.6807209         </td><td> 741.5334             </td><td>Open Wetland Low      </td></tr>\n",
       "\t<tr><th scope=row>Moderate3</th><td>323.1928              </td><td> 165.13061            </td><td>0.050                 </td><td>Open Wetland          </td><td>Moderate              </td><td>0.9                   </td><td>   -0.4632265         </td><td> 646.8488             </td><td>Open Wetland Moderate </td></tr>\n",
       "\t<tr><th scope=row>Unburned4</th><td>610.7139              </td><td>  29.86304            </td><td>0.000                 </td><td>Treed Wetland         </td><td>Unburned              </td><td>0.0                   </td><td>  552.1823073         </td><td> 669.2454             </td><td>Treed Wetland Unburned</td></tr>\n",
       "\t<tr><th scope=row>Moderate4</th><td>505.4520              </td><td>  30.42757            </td><td>0.000                 </td><td>Treed Wetland         </td><td>Moderate              </td><td>0.0                   </td><td>  445.8139700         </td><td> 565.0900             </td><td>Treed Wetland Moderate</td></tr>\n",
       "\t<tr><th scope=row>High3</th><td>279.0523              </td><td>  19.97911            </td><td>0.000                 </td><td>Treed Wetland         </td><td>High                  </td><td>0.0                   </td><td>  239.8932471         </td><td> 318.2114             </td><td>Treed Wetland High    </td></tr>\n",
       "</tbody>\n",
       "</table>\n"
      ],
      "text/latex": [
       "\\begin{tabular}{r|lllllllll}\n",
       "  & Estimates & Standard.Errors & p.values & Veg\\_Comm & Severity\\_Class & p.adj & Ymin & Ymax & comb\\\\\n",
       "\\hline\n",
       "\tUnburned & 392.9646               &   70.39760             & 0.000                  & Black Spruce           & Unburned               & 0.0                    &   254.9852969          &  530.9439              & Black Spruce Unburned \\\\\n",
       "\tLow & 591.6347               & 1143.24889             & 0.605                  & Black Spruce           & Low                    & 1.0                    & -1649.1330778          & 2832.4026              & Black Spruce Low      \\\\\n",
       "\tModerate & 711.5364               &  194.26062             & 0.000                  & Black Spruce           & Moderate               & 0.0                    &   330.7856431          & 1092.2873              & Black Spruce Moderate \\\\\n",
       "\tHigh & 286.2533               &   61.16871             & 0.000                  & Black Spruce           & High                   & 0.0                    &   166.3626315          &  406.1440              & Black Spruce High     \\\\\n",
       "\tUnburned1 & 443.6545               &   82.98879             & 0.000                  & Jack Pine              & Unburned               & 0.0                    &   280.9964367          &  606.3125              & Jack Pine Unburned    \\\\\n",
       "\tLow1 & 243.2773               &   64.61067             & 0.000                  & Jack Pine              & Low                    & 0.0                    &   116.6403955          &  369.9142              & Jack Pine Low         \\\\\n",
       "\tModerate1 & 364.8607               &   47.76481             & 0.000                  & Jack Pine              & Moderate               & 0.0                    &   271.2416248          &  458.4797              & Jack Pine Moderate    \\\\\n",
       "\tHigh1 & 214.7371               &   31.94725             & 0.000                  & Jack Pine              & High                   & 0.0                    &   152.1204837          &  277.3537              & Jack Pine High        \\\\\n",
       "\tUnburned2 & 448.2682               &   70.00330             & 0.000                  & Mixedwood              & Unburned               & 0.0                    &   311.0617753          &  585.4747              & Mixedwood Unburned    \\\\\n",
       "\tLow2 & 355.8125               &   55.71028             & 0.000                  & Mixedwood              & Low                    & 0.0                    &   246.6203486          &  465.0047              & Mixedwood Low         \\\\\n",
       "\tModerate2 & 378.9708               &   54.29773             & 0.000                  & Mixedwood              & Moderate               & 0.0                    &   272.5472520          &  485.3944              & Mixedwood Moderate    \\\\\n",
       "\tHigh2 & 428.5815               &   81.65216             & 0.000                  & Mixedwood              & High                   & 0.0                    &   268.5432446          &  588.6197              & Mixedwood High        \\\\\n",
       "\tUnburned3 & 233.2536               &  174.87854             & 0.182                  & Open Wetland           & Unburned               & 1.0                    &  -109.5083738          &  576.0155              & Open Wetland Unburned \\\\\n",
       "\tLow3 & 558.1070               &   93.58486             & 0.000                  & Open Wetland           & Low                    & 0.0                    &   374.6807209          &  741.5334              & Open Wetland Low      \\\\\n",
       "\tModerate3 & 323.1928               &  165.13061             & 0.050                  & Open Wetland           & Moderate               & 0.9                    &    -0.4632265          &  646.8488              & Open Wetland Moderate \\\\\n",
       "\tUnburned4 & 610.7139               &   29.86304             & 0.000                  & Treed Wetland          & Unburned               & 0.0                    &   552.1823073          &  669.2454              & Treed Wetland Unburned\\\\\n",
       "\tModerate4 & 505.4520               &   30.42757             & 0.000                  & Treed Wetland          & Moderate               & 0.0                    &   445.8139700          &  565.0900              & Treed Wetland Moderate\\\\\n",
       "\tHigh3 & 279.0523               &   19.97911             & 0.000                  & Treed Wetland          & High                   & 0.0                    &   239.8932471          &  318.2114              & Treed Wetland High    \\\\\n",
       "\\end{tabular}\n"
      ],
      "text/markdown": [
       "\n",
       "| <!--/--> | Estimates | Standard.Errors | p.values | Veg_Comm | Severity_Class | p.adj | Ymin | Ymax | comb | \n",
       "|---|---|---|---|---|---|---|---|---|---|---|---|---|---|---|---|---|---|\n",
       "| Unburned | 392.9646               |   70.39760             | 0.000                  | Black Spruce           | Unburned               | 0.0                    |   254.9852969          |  530.9439              | Black Spruce Unburned  | \n",
       "| Low | 591.6347               | 1143.24889             | 0.605                  | Black Spruce           | Low                    | 1.0                    | -1649.1330778          | 2832.4026              | Black Spruce Low       | \n",
       "| Moderate | 711.5364               |  194.26062             | 0.000                  | Black Spruce           | Moderate               | 0.0                    |   330.7856431          | 1092.2873              | Black Spruce Moderate  | \n",
       "| High | 286.2533               |   61.16871             | 0.000                  | Black Spruce           | High                   | 0.0                    |   166.3626315          |  406.1440              | Black Spruce High      | \n",
       "| Unburned1 | 443.6545               |   82.98879             | 0.000                  | Jack Pine              | Unburned               | 0.0                    |   280.9964367          |  606.3125              | Jack Pine Unburned     | \n",
       "| Low1 | 243.2773               |   64.61067             | 0.000                  | Jack Pine              | Low                    | 0.0                    |   116.6403955          |  369.9142              | Jack Pine Low          | \n",
       "| Moderate1 | 364.8607               |   47.76481             | 0.000                  | Jack Pine              | Moderate               | 0.0                    |   271.2416248          |  458.4797              | Jack Pine Moderate     | \n",
       "| High1 | 214.7371               |   31.94725             | 0.000                  | Jack Pine              | High                   | 0.0                    |   152.1204837          |  277.3537              | Jack Pine High         | \n",
       "| Unburned2 | 448.2682               |   70.00330             | 0.000                  | Mixedwood              | Unburned               | 0.0                    |   311.0617753          |  585.4747              | Mixedwood Unburned     | \n",
       "| Low2 | 355.8125               |   55.71028             | 0.000                  | Mixedwood              | Low                    | 0.0                    |   246.6203486          |  465.0047              | Mixedwood Low          | \n",
       "| Moderate2 | 378.9708               |   54.29773             | 0.000                  | Mixedwood              | Moderate               | 0.0                    |   272.5472520          |  485.3944              | Mixedwood Moderate     | \n",
       "| High2 | 428.5815               |   81.65216             | 0.000                  | Mixedwood              | High                   | 0.0                    |   268.5432446          |  588.6197              | Mixedwood High         | \n",
       "| Unburned3 | 233.2536               |  174.87854             | 0.182                  | Open Wetland           | Unburned               | 1.0                    |  -109.5083738          |  576.0155              | Open Wetland Unburned  | \n",
       "| Low3 | 558.1070               |   93.58486             | 0.000                  | Open Wetland           | Low                    | 0.0                    |   374.6807209          |  741.5334              | Open Wetland Low       | \n",
       "| Moderate3 | 323.1928               |  165.13061             | 0.050                  | Open Wetland           | Moderate               | 0.9                    |    -0.4632265          |  646.8488              | Open Wetland Moderate  | \n",
       "| Unburned4 | 610.7139               |   29.86304             | 0.000                  | Treed Wetland          | Unburned               | 0.0                    |   552.1823073          |  669.2454              | Treed Wetland Unburned | \n",
       "| Moderate4 | 505.4520               |   30.42757             | 0.000                  | Treed Wetland          | Moderate               | 0.0                    |   445.8139700          |  565.0900              | Treed Wetland Moderate | \n",
       "| High3 | 279.0523               |   19.97911             | 0.000                  | Treed Wetland          | High                   | 0.0                    |   239.8932471          |  318.2114              | Treed Wetland High     | \n",
       "\n",
       "\n"
      ],
      "text/plain": [
       "          Estimates Standard.Errors p.values Veg_Comm      Severity_Class p.adj\n",
       "Unburned  392.9646    70.39760      0.000    Black Spruce  Unburned       0.0  \n",
       "Low       591.6347  1143.24889      0.605    Black Spruce  Low            1.0  \n",
       "Moderate  711.5364   194.26062      0.000    Black Spruce  Moderate       0.0  \n",
       "High      286.2533    61.16871      0.000    Black Spruce  High           0.0  \n",
       "Unburned1 443.6545    82.98879      0.000    Jack Pine     Unburned       0.0  \n",
       "Low1      243.2773    64.61067      0.000    Jack Pine     Low            0.0  \n",
       "Moderate1 364.8607    47.76481      0.000    Jack Pine     Moderate       0.0  \n",
       "High1     214.7371    31.94725      0.000    Jack Pine     High           0.0  \n",
       "Unburned2 448.2682    70.00330      0.000    Mixedwood     Unburned       0.0  \n",
       "Low2      355.8125    55.71028      0.000    Mixedwood     Low            0.0  \n",
       "Moderate2 378.9708    54.29773      0.000    Mixedwood     Moderate       0.0  \n",
       "High2     428.5815    81.65216      0.000    Mixedwood     High           0.0  \n",
       "Unburned3 233.2536   174.87854      0.182    Open Wetland  Unburned       1.0  \n",
       "Low3      558.1070    93.58486      0.000    Open Wetland  Low            0.0  \n",
       "Moderate3 323.1928   165.13061      0.050    Open Wetland  Moderate       0.9  \n",
       "Unburned4 610.7139    29.86304      0.000    Treed Wetland Unburned       0.0  \n",
       "Moderate4 505.4520    30.42757      0.000    Treed Wetland Moderate       0.0  \n",
       "High3     279.0523    19.97911      0.000    Treed Wetland High           0.0  \n",
       "          Ymin          Ymax      comb                  \n",
       "Unburned    254.9852969  530.9439 Black Spruce Unburned \n",
       "Low       -1649.1330778 2832.4026 Black Spruce Low      \n",
       "Moderate    330.7856431 1092.2873 Black Spruce Moderate \n",
       "High        166.3626315  406.1440 Black Spruce High     \n",
       "Unburned1   280.9964367  606.3125 Jack Pine Unburned    \n",
       "Low1        116.6403955  369.9142 Jack Pine Low         \n",
       "Moderate1   271.2416248  458.4797 Jack Pine Moderate    \n",
       "High1       152.1204837  277.3537 Jack Pine High        \n",
       "Unburned2   311.0617753  585.4747 Mixedwood Unburned    \n",
       "Low2        246.6203486  465.0047 Mixedwood Low         \n",
       "Moderate2   272.5472520  485.3944 Mixedwood Moderate    \n",
       "High2       268.5432446  588.6197 Mixedwood High        \n",
       "Unburned3  -109.5083738  576.0155 Open Wetland Unburned \n",
       "Low3        374.6807209  741.5334 Open Wetland Low      \n",
       "Moderate3    -0.4632265  646.8488 Open Wetland Moderate \n",
       "Unburned4   552.1823073  669.2454 Treed Wetland Unburned\n",
       "Moderate4   445.8139700  565.0900 Treed Wetland Moderate\n",
       "High3       239.8932471  318.2114 Treed Wetland High    "
      ]
     },
     "metadata": {},
     "output_type": "display_data"
    }
   ],
   "source": [
    "# Join into dataframe and adjust errors\n",
    "x = rbind(x[[1]],x[[2]],x[[3]],x[[4]],x[[5]])\n",
    "x = data.frame(x)\n",
    "x$p.adj = p.adjust(x$p.values, method = \"bonferroni\")\n",
    "x$Ymin = x$Estimates-1.96*x$Standard.Errors\n",
    "x$Ymax = x$Estimates+1.96*x$Standard.Errors\n",
    "x$comb = paste(x$Veg_Comm,x$Severity_Class)\n",
    "x"
   ]
  },
  {
   "cell_type": "code",
   "execution_count": 18,
   "metadata": {},
   "outputs": [],
   "source": [
    "# Setting factors\n",
    "x$Severity_Class=factor(x$Severity_Class,levels=c(\"Unburned\",\"Low\",\"Moderate\",\"High\"))\n",
    "x$Veg_Comm = factor(x$Veg_Comm, levels=c(\"Black Spruce\", \"Jack Pine\", \"Mixedwood\", \"Treed Wetland\", \"Open Wetland\"))"
   ]
  },
  {
   "cell_type": "code",
   "execution_count": 29,
   "metadata": {},
   "outputs": [
    {
     "name": "stderr",
     "output_type": "stream",
     "text": [
      "Warning message:\n",
      "“Removed 1 rows containing missing values (geom_errorbar).”"
     ]
    },
    {
     "data": {},
     "metadata": {},
     "output_type": "display_data"
    },
    {
     "data": {
      "image/png": "[encoded data removed]",
      "text/plain": [
       "plot without title"
      ]
     },
     "metadata": {},
     "output_type": "display_data"
    }
   ],
   "source": [
    "# Plotting the data\n",
    "\n",
    "options(repr.plot.width=7, repr.plot.height=4)\n",
    "p = ggplot(x)\n",
    "p = p + geom_errorbar(aes(x=Severity_Class,min = Ymax, max = Ymin,color=Severity_Class),width=0.5)\n",
    "p = p + geom_point(aes(x=Severity_Class,y=Estimates,color=Severity_Class))\n",
    "p = p + facet_wrap(~Veg_Comm)\n",
    "palette = wes_palette(\"Darjeeling\")[c(2,3,4,1,5)]\n",
    "p = p + scale_colour_manual(values=palette)\n",
    "p = p + theme_bw() +\n",
    "  theme(\n",
    "    plot.background = element_blank()\n",
    "   ,panel.grid.major = element_blank()\n",
    "   ,panel.grid.minor = element_blank()\n",
    "   ,strip.background = element_rect(colour=\"white\", fill=\"white\"))\n",
    "p = p + theme(axis.text.x = element_text(angle=55,hjust=1))\n",
    "p = p + ylab(\"Mean Richness Estimate\")\n",
    "p = p + xlab(\"\")\n",
    "p = p + guides(colour=guide_legend(title=\"Severity Class\"))\n",
    "p = p + ylim(-200,1200)\n",
    "p"
   ]
  },
  {
   "cell_type": "code",
   "execution_count": null,
   "metadata": {
    "collapsed": true
   },
   "outputs": [],
   "source": []
  }
 ],
 "metadata": {
  "kernelspec": {
   "display_name": "R",
   "language": "R",
   "name": "ir"
  },
  "language_info": {
   "codemirror_mode": "r",
   "file_extension": ".r",
   "mimetype": "text/x-r-source",
   "name": "R",
   "pygments_lexer": "r",
   "version": "3.4.3"
  }
 },
 "nbformat": 4,
 "nbformat_minor": 2
}
