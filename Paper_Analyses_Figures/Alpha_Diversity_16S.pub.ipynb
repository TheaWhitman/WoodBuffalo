{
 "cells": [
  {
   "cell_type": "markdown",
   "metadata": {},
   "source": [
    "## Estimating richness using breakaway\n",
    "## This generates Supplemental Figure 13"
   ]
  },
  {
   "cell_type": "code",
   "execution_count": 1,
   "metadata": {},
   "outputs": [
    {
     "name": "stderr",
     "output_type": "stream",
     "text": [
      "\n",
      "Attaching package: ‘plyr’\n",
      "\n",
      "The following objects are masked from ‘package:reshape’:\n",
      "\n",
      "    rename, round_any\n",
      "\n",
      "\n",
      "Attaching package: ‘dplyr’\n",
      "\n",
      "The following objects are masked from ‘package:plyr’:\n",
      "\n",
      "    arrange, count, desc, failwith, id, mutate, rename, summarise,\n",
      "    summarize\n",
      "\n",
      "The following object is masked from ‘package:reshape’:\n",
      "\n",
      "    rename\n",
      "\n",
      "The following objects are masked from ‘package:stats’:\n",
      "\n",
      "    filter, lag\n",
      "\n",
      "The following objects are masked from ‘package:base’:\n",
      "\n",
      "    intersect, setdiff, setequal, union\n",
      "\n"
     ]
    }
   ],
   "source": [
    "# Loading R packages\n",
    "library(reshape)\n",
    "library(ggplot2)\n",
    "library(phyloseq)\n",
    "library(plyr)\n",
    "library(dplyr)\n",
    "library(wesanderson)\n",
    "library(breakaway)"
   ]
  },
  {
   "cell_type": "code",
   "execution_count": 2,
   "metadata": {},
   "outputs": [],
   "source": [
    "# Importing the dataset\n",
    "ps = readRDS(\"../../../data/Seq_data/16S/CHTC/Dada2_Results_Full/ps.merged\")"
   ]
  },
  {
   "cell_type": "markdown",
   "metadata": {},
   "source": [
    "## Calculating richness estimates with Betta"
   ]
  },
  {
   "cell_type": "code",
   "execution_count": 3,
   "metadata": {},
   "outputs": [],
   "source": [
    "FreqTableGenerator = function(Sample){\n",
    "    df = data.frame(t(otu_table(ps))[,Sample])\n",
    "    # Grab the OTU table\n",
    "    colnames(df)=\"Frequency\"\n",
    "    # Add a column for the frequencies of the OTUs\n",
    "    df = df %>%\n",
    "        group_by(Frequency)%>%\n",
    "        summarize(nOTUs=n())%>%\n",
    "        arrange(Frequency)\n",
    "    # Summarize the total OTUs that are present at each frequency\n",
    "    df = df[df$Frequency>1,]\n",
    "    # Cut out the 0 and 1 frequencies (because dada2 trimmed singletons)\n",
    "    colnames(df)=NULL\n",
    "    # Omit column names\n",
    "    df = as.matrix(df)\n",
    "    # Spit out a nice matrix\n",
    "    df\n",
    "}\n",
    "# Generates the frequency table summary needed by breakaway"
   ]
  },
  {
   "cell_type": "code",
   "execution_count": 4,
   "metadata": {},
   "outputs": [],
   "source": [
    "Samples = sample_names(ps)"
   ]
  },
  {
   "cell_type": "code",
   "execution_count": 5,
   "metadata": {},
   "outputs": [],
   "source": [
    "# Function to run breakaway on the data\n",
    "report = data.frame(name=\"\",Richness_estimate=\"\",Richness_stderr=\"\",Richness_model=\"\")\n",
    "breakawayrunner = function(SampleName){\n",
    "    df = FreqTableGenerator(SampleName)\n",
    "    #print(head(df))\n",
    "    #print(SampleName)\n",
    "    #print(sum(df[,1]*df[,2]))\n",
    "    if(df[1,1]==2 & (sum(df[1:6,1])==sum(c(2:7)))){\n",
    "        # First, check that the first frequency count is, indeed, 2,\n",
    "        # and there are at least 6 consecutive counts (could actually just do this test)\n",
    "            m = breakaway_nof1(df, answers=TRUE, plot=FALSE, print=FALSE)\n",
    "        # Run breakaway for the no singletons data\n",
    "            Richness_model = m$name\n",
    "            Richness_estimate = m$est\n",
    "            Richness_stderr = m$seest\n",
    "            name = SampleName\n",
    "        # Grab the outputs\n",
    "            report = data.frame(name,Richness_estimate,Richness_stderr,Richness_model)\n",
    "        # Generate a report\n",
    "    } else {\n",
    "        name = SampleName\n",
    "        report=data.frame(name)\n",
    "        # If breakaway isn't going to work anyway, just spit out the name (and NAs)\n",
    "        }\n",
    "\n",
    "    report\n",
    "\n",
    "}"
   ]
  },
  {
   "cell_type": "code",
   "execution_count": 6,
   "metadata": {
    "scrolled": true
   },
   "outputs": [
    {
     "data": {
      "text/html": [
       "<table>\n",
       "<thead><tr><th scope=col>X1</th><th scope=col>name</th><th scope=col>Richness_estimate</th><th scope=col>Richness_stderr</th><th scope=col>Richness_model</th></tr></thead>\n",
       "<tbody>\n",
       "\t<tr><td>1           </td><td>15S-NT-19O  </td><td>1056.9100   </td><td>    3.140691</td><td>WLRM        </td></tr>\n",
       "\t<tr><td>2           </td><td>15S-NT-20O  </td><td> 760.6621   </td><td>13401.725485</td><td>model_1_1   </td></tr>\n",
       "\t<tr><td>3           </td><td>15S-NT-21M  </td><td> 605.1859   </td><td>    2.159701</td><td>WLRM        </td></tr>\n",
       "\t<tr><td>4           </td><td>15S-NT-21O  </td><td> 592.3375   </td><td>    5.801975</td><td>model_1_1   </td></tr>\n",
       "\t<tr><td>5           </td><td>15S-NT-22M  </td><td> 412.3188   </td><td>    3.121177</td><td>WLRM        </td></tr>\n",
       "\t<tr><td>6           </td><td>15S-NT-22O  </td><td> 460.4217   </td><td>    3.822670</td><td>WLRM        </td></tr>\n",
       "</tbody>\n",
       "</table>\n"
      ],
      "text/latex": [
       "\\begin{tabular}{r|lllll}\n",
       " X1 & name & Richness\\_estimate & Richness\\_stderr & Richness\\_model\\\\\n",
       "\\hline\n",
       "\t 1            & 15S-NT-19O   & 1056.9100    &     3.140691 & WLRM        \\\\\n",
       "\t 2             & 15S-NT-20O    &  760.6621     & 13401.725485  & model\\_1\\_1\\\\\n",
       "\t 3            & 15S-NT-21M   &  605.1859    &     2.159701 & WLRM        \\\\\n",
       "\t 4             & 15S-NT-21O    &  592.3375     &     5.801975  & model\\_1\\_1\\\\\n",
       "\t 5            & 15S-NT-22M   &  412.3188    &     3.121177 & WLRM        \\\\\n",
       "\t 6            & 15S-NT-22O   &  460.4217    &     3.822670 & WLRM        \\\\\n",
       "\\end{tabular}\n"
      ],
      "text/markdown": [
       "\n",
       "X1 | name | Richness_estimate | Richness_stderr | Richness_model | \n",
       "|---|---|---|---|---|---|\n",
       "| 1            | 15S-NT-19O   | 1056.9100    |     3.140691 | WLRM         | \n",
       "| 2            | 15S-NT-20O   |  760.6621    | 13401.725485 | model_1_1    | \n",
       "| 3            | 15S-NT-21M   |  605.1859    |     2.159701 | WLRM         | \n",
       "| 4            | 15S-NT-21O   |  592.3375    |     5.801975 | model_1_1    | \n",
       "| 5            | 15S-NT-22M   |  412.3188    |     3.121177 | WLRM         | \n",
       "| 6            | 15S-NT-22O   |  460.4217    |     3.822670 | WLRM         | \n",
       "\n",
       "\n"
      ],
      "text/plain": [
       "  X1 name       Richness_estimate Richness_stderr Richness_model\n",
       "1 1  15S-NT-19O 1056.9100             3.140691    WLRM          \n",
       "2 2  15S-NT-20O  760.6621         13401.725485    model_1_1     \n",
       "3 3  15S-NT-21M  605.1859             2.159701    WLRM          \n",
       "4 4  15S-NT-21O  592.3375             5.801975    model_1_1     \n",
       "5 5  15S-NT-22M  412.3188             3.121177    WLRM          \n",
       "6 6  15S-NT-22O  460.4217             3.822670    WLRM          "
      ]
     },
     "metadata": {},
     "output_type": "display_data"
    }
   ],
   "source": [
    "# Running breakaway\n",
    "Reports = mdply(Samples,breakawayrunner)\n",
    "head(Reports)"
   ]
  },
  {
   "cell_type": "code",
   "execution_count": 7,
   "metadata": {},
   "outputs": [
    {
     "data": {
      "text/html": [
       "<table>\n",
       "<thead><tr><th scope=col>Richness_model</th><th scope=col>n()</th></tr></thead>\n",
       "<tbody>\n",
       "\t<tr><td>WLRM     </td><td>70       </td></tr>\n",
       "\t<tr><td>model_1_1</td><td>26       </td></tr>\n",
       "\t<tr><td>model_2_1</td><td> 2       </td></tr>\n",
       "\t<tr><td>model_2_2</td><td> 3       </td></tr>\n",
       "\t<tr><td>model_1_0</td><td> 1       </td></tr>\n",
       "</tbody>\n",
       "</table>\n"
      ],
      "text/latex": [
       "\\begin{tabular}{r|ll}\n",
       " Richness\\_model & n()\\\\\n",
       "\\hline\n",
       "\t WLRM      & 70       \\\\\n",
       "\t model\\_1\\_1 & 26           \\\\\n",
       "\t model\\_2\\_1 &  2           \\\\\n",
       "\t model\\_2\\_2 &  3           \\\\\n",
       "\t model\\_1\\_0 &  1           \\\\\n",
       "\\end{tabular}\n"
      ],
      "text/markdown": [
       "\n",
       "Richness_model | n() | \n",
       "|---|---|---|---|---|\n",
       "| WLRM      | 70        | \n",
       "| model_1_1 | 26        | \n",
       "| model_2_1 |  2        | \n",
       "| model_2_2 |  3        | \n",
       "| model_1_0 |  1        | \n",
       "\n",
       "\n"
      ],
      "text/plain": [
       "  Richness_model n()\n",
       "1 WLRM           70 \n",
       "2 model_1_1      26 \n",
       "3 model_2_1       2 \n",
       "4 model_2_2       3 \n",
       "5 model_1_0       1 "
      ]
     },
     "metadata": {},
     "output_type": "display_data"
    }
   ],
   "source": [
    "Report_Summary = Reports %>%\n",
    "    group_by(Richness_model)%>%\n",
    "    summarize(n())\n",
    "Report_Summary\n",
    "# How many of each sample fit each model type"
   ]
  },
  {
   "cell_type": "code",
   "execution_count": 8,
   "metadata": {},
   "outputs": [],
   "source": [
    "# Add richness estimates and standard error to the sample dataframe\n",
    "sample_data(ps)[,colnames(Reports)[3:5]]=Reports[,3:5]"
   ]
  },
  {
   "cell_type": "code",
   "execution_count": 9,
   "metadata": {},
   "outputs": [],
   "source": [
    "# Grabbing the sample data\n",
    "d = sample_data(ps)"
   ]
  },
  {
   "cell_type": "code",
   "execution_count": 10,
   "metadata": {},
   "outputs": [],
   "source": [
    "# Setting up function to propagate errors from richness estimates\n",
    "BettaRunner = function(Veg_Comm){\n",
    "    d = d[d$Veg_Comm==Veg_Comm,]\n",
    "    CoVars = data.frame(Veg_Comm=d$Veg_Comm,Severity_Class=d$Severity_Class)\n",
    "    CoVars$Severity=c(rep(\"\",dim(CoVars)[1]))\n",
    "    SeverityOptions = levels(CoVars$Severity_Class)\n",
    "    N = length(SeverityOptions)\n",
    "    for (i in 1:dim(CoVars)[1]){\n",
    "        Severity_Class = paste(CoVars$Severity_Class[i])    \n",
    "        if(\"Unburned\" %in% SeverityOptions){CoVars$Unburned[i] = ifelse(Severity_Class==\"Unburned\",1,0)}\n",
    "        if(\"Low\" %in% SeverityOptions){CoVars$Low[i] = ifelse(Severity_Class==\"Low\",1,0)}\n",
    "        if(\"Moderate\" %in% SeverityOptions){CoVars$Moderate[i] = ifelse(Severity_Class==\"Moderate\",1,0)}\n",
    "        if(\"High\" %in% SeverityOptions){CoVars$High[i] = ifelse(Severity_Class==\"High\",1,0)}\n",
    "    }\n",
    "    nmax = 3+N\n",
    "    CoVars = as.matrix(CoVars[,4:nmax])\n",
    "    Richness_estimates = as.vector(d$Richness_estimate)\n",
    "    Richness_stderr = as.vector(d$Richness_stderr)\n",
    "    BettaEst = betta(Richness_estimates,Richness_stderr,CoVars)\n",
    "    X = data.frame(BettaEst$table)\n",
    "    X$Veg_Comm = Veg_Comm\n",
    "    return(X)\n",
    "}"
   ]
  },
  {
   "cell_type": "code",
   "execution_count": 11,
   "metadata": {},
   "outputs": [],
   "source": [
    "# Which vegetation communities we will apply the function to (all of them)\n",
    "Veg_Comms = levels(d$Veg_Comm)"
   ]
  },
  {
   "cell_type": "code",
   "execution_count": 12,
   "metadata": {},
   "outputs": [],
   "source": [
    "# Run the function on all veg comms\n",
    "x = lapply(Veg_Comms,FUN=BettaRunner)"
   ]
  },
  {
   "cell_type": "code",
   "execution_count": 13,
   "metadata": {},
   "outputs": [],
   "source": [
    "# Extract results\n",
    "x[[1]]$Severity_Class=row.names(x[[1]])\n",
    "x[[2]]$Severity_Class=row.names(x[[2]])\n",
    "x[[3]]$Severity_Class=row.names(x[[3]])\n",
    "x[[4]]$Severity_Class=row.names(x[[4]])\n",
    "x[[5]]$Severity_Class=row.names(x[[5]])"
   ]
  },
  {
   "cell_type": "code",
   "execution_count": 14,
   "metadata": {},
   "outputs": [
    {
     "data": {
      "text/html": [
       "<table>\n",
       "<thead><tr><th></th><th scope=col>Estimates</th><th scope=col>Standard.Errors</th><th scope=col>p.values</th><th scope=col>Veg_Comm</th><th scope=col>Severity_Class</th><th scope=col>p.adj</th><th scope=col>Ymin</th><th scope=col>Ymax</th><th scope=col>comb</th></tr></thead>\n",
       "<tbody>\n",
       "\t<tr><th scope=row>Unburned</th><td>823.9852              </td><td>163.41006             </td><td>0.000                 </td><td>Black Spruce          </td><td>Unburned              </td><td>0.000                 </td><td> 503.70152            </td><td>1144.2689             </td><td>Black Spruce Unburned </td></tr>\n",
       "\t<tr><th scope=row>Moderate</th><td>533.0395              </td><td> 98.89838             </td><td>0.000                 </td><td>Black Spruce          </td><td>Moderate              </td><td>0.000                 </td><td> 339.19864            </td><td> 726.8803             </td><td>Black Spruce Moderate </td></tr>\n",
       "\t<tr><th scope=row>Unburned1</th><td>406.2989              </td><td>190.25198             </td><td>0.033                 </td><td>Jack Pine             </td><td>Unburned              </td><td>0.528                 </td><td>  33.40497            </td><td> 779.1927             </td><td>Jack Pine Unburned    </td></tr>\n",
       "\t<tr><th scope=row>Low</th><td>702.2970              </td><td>233.33241             </td><td>0.003                 </td><td>Jack Pine             </td><td>Low                   </td><td>0.048                 </td><td> 244.96543            </td><td>1159.6285             </td><td>Jack Pine Low         </td></tr>\n",
       "\t<tr><th scope=row>Moderate1</th><td>608.8714              </td><td>104.35224             </td><td>0.000                 </td><td>Jack Pine             </td><td>Moderate              </td><td>0.000                 </td><td> 404.34104            </td><td> 813.4018             </td><td>Jack Pine Moderate    </td></tr>\n",
       "\t<tr><th scope=row>High</th><td>496.7012              </td><td> 85.24139             </td><td>0.000                 </td><td>Jack Pine             </td><td>High                  </td><td>0.000                 </td><td> 329.62808            </td><td> 663.7743             </td><td>Jack Pine High        </td></tr>\n",
       "\t<tr><th scope=row>Unburned2</th><td>596.1268              </td><td>107.94737             </td><td>0.000                 </td><td>Mixedwood             </td><td>Unburned              </td><td>0.000                 </td><td> 384.54993            </td><td> 807.7036             </td><td>Mixedwood Unburned    </td></tr>\n",
       "\t<tr><th scope=row>Low1</th><td>539.0737              </td><td>115.53664             </td><td>0.000                 </td><td>Mixedwood             </td><td>Low                   </td><td>0.000                 </td><td> 312.62188            </td><td> 765.5255             </td><td>Mixedwood Low         </td></tr>\n",
       "\t<tr><th scope=row>Moderate2</th><td>693.2054              </td><td> 89.41578             </td><td>0.000                 </td><td>Mixedwood             </td><td>Moderate              </td><td>0.000                 </td><td> 517.95047            </td><td> 868.4603             </td><td>Mixedwood Moderate    </td></tr>\n",
       "\t<tr><th scope=row>High1</th><td>571.9582              </td><td>115.42558             </td><td>0.000                 </td><td>Mixedwood             </td><td>High                  </td><td>0.000                 </td><td> 345.72403            </td><td> 798.1923             </td><td>Mixedwood High        </td></tr>\n",
       "\t<tr><th scope=row>Unburned3</th><td>549.3556              </td><td>165.75292             </td><td>0.001                 </td><td>Open Wetland          </td><td>Unburned              </td><td>0.016                 </td><td> 224.47983            </td><td> 874.2313             </td><td>Open Wetland Unburned </td></tr>\n",
       "\t<tr><th scope=row>Low2</th><td>669.3268              </td><td> 90.68705             </td><td>0.000                 </td><td>Open Wetland          </td><td>Low                   </td><td>0.000                 </td><td> 491.58020            </td><td> 847.0735             </td><td>Open Wetland Low      </td></tr>\n",
       "\t<tr><th scope=row>Moderate3</th><td>453.2885              </td><td>202.76866             </td><td>0.025                 </td><td>Open Wetland          </td><td>Moderate              </td><td>0.400                 </td><td>  55.86189            </td><td> 850.7150             </td><td>Open Wetland Moderate </td></tr>\n",
       "\t<tr><th scope=row>Unburned4</th><td>579.3845              </td><td>515.55679             </td><td>0.261                 </td><td>Treed Wetland         </td><td>Unburned              </td><td>1.000                 </td><td>-431.10680            </td><td>1589.8758             </td><td>Treed Wetland Unburned</td></tr>\n",
       "\t<tr><th scope=row>Low3</th><td>537.8983              </td><td>297.76540             </td><td>0.071                 </td><td>Treed Wetland         </td><td>Low                   </td><td>1.000                 </td><td> -45.72184            </td><td>1121.5185             </td><td>Treed Wetland Low     </td></tr>\n",
       "\t<tr><th scope=row>Moderate4</th><td>890.3292              </td><td>230.57470             </td><td>0.000                 </td><td>Treed Wetland         </td><td>Moderate              </td><td>0.000                 </td><td> 438.40276            </td><td>1342.2556             </td><td>Treed Wetland Moderate</td></tr>\n",
       "</tbody>\n",
       "</table>\n"
      ],
      "text/latex": [
       "\\begin{tabular}{r|lllllllll}\n",
       "  & Estimates & Standard.Errors & p.values & Veg\\_Comm & Severity\\_Class & p.adj & Ymin & Ymax & comb\\\\\n",
       "\\hline\n",
       "\tUnburned & 823.9852               & 163.41006              & 0.000                  & Black Spruce           & Unburned               & 0.000                  &  503.70152             & 1144.2689              & Black Spruce Unburned \\\\\n",
       "\tModerate & 533.0395               &  98.89838              & 0.000                  & Black Spruce           & Moderate               & 0.000                  &  339.19864             &  726.8803              & Black Spruce Moderate \\\\\n",
       "\tUnburned1 & 406.2989               & 190.25198              & 0.033                  & Jack Pine              & Unburned               & 0.528                  &   33.40497             &  779.1927              & Jack Pine Unburned    \\\\\n",
       "\tLow & 702.2970               & 233.33241              & 0.003                  & Jack Pine              & Low                    & 0.048                  &  244.96543             & 1159.6285              & Jack Pine Low         \\\\\n",
       "\tModerate1 & 608.8714               & 104.35224              & 0.000                  & Jack Pine              & Moderate               & 0.000                  &  404.34104             &  813.4018              & Jack Pine Moderate    \\\\\n",
       "\tHigh & 496.7012               &  85.24139              & 0.000                  & Jack Pine              & High                   & 0.000                  &  329.62808             &  663.7743              & Jack Pine High        \\\\\n",
       "\tUnburned2 & 596.1268               & 107.94737              & 0.000                  & Mixedwood              & Unburned               & 0.000                  &  384.54993             &  807.7036              & Mixedwood Unburned    \\\\\n",
       "\tLow1 & 539.0737               & 115.53664              & 0.000                  & Mixedwood              & Low                    & 0.000                  &  312.62188             &  765.5255              & Mixedwood Low         \\\\\n",
       "\tModerate2 & 693.2054               &  89.41578              & 0.000                  & Mixedwood              & Moderate               & 0.000                  &  517.95047             &  868.4603              & Mixedwood Moderate    \\\\\n",
       "\tHigh1 & 571.9582               & 115.42558              & 0.000                  & Mixedwood              & High                   & 0.000                  &  345.72403             &  798.1923              & Mixedwood High        \\\\\n",
       "\tUnburned3 & 549.3556               & 165.75292              & 0.001                  & Open Wetland           & Unburned               & 0.016                  &  224.47983             &  874.2313              & Open Wetland Unburned \\\\\n",
       "\tLow2 & 669.3268               &  90.68705              & 0.000                  & Open Wetland           & Low                    & 0.000                  &  491.58020             &  847.0735              & Open Wetland Low      \\\\\n",
       "\tModerate3 & 453.2885               & 202.76866              & 0.025                  & Open Wetland           & Moderate               & 0.400                  &   55.86189             &  850.7150              & Open Wetland Moderate \\\\\n",
       "\tUnburned4 & 579.3845               & 515.55679              & 0.261                  & Treed Wetland          & Unburned               & 1.000                  & -431.10680             & 1589.8758              & Treed Wetland Unburned\\\\\n",
       "\tLow3 & 537.8983               & 297.76540              & 0.071                  & Treed Wetland          & Low                    & 1.000                  &  -45.72184             & 1121.5185              & Treed Wetland Low     \\\\\n",
       "\tModerate4 & 890.3292               & 230.57470              & 0.000                  & Treed Wetland          & Moderate               & 0.000                  &  438.40276             & 1342.2556              & Treed Wetland Moderate\\\\\n",
       "\\end{tabular}\n"
      ],
      "text/markdown": [
       "\n",
       "| <!--/--> | Estimates | Standard.Errors | p.values | Veg_Comm | Severity_Class | p.adj | Ymin | Ymax | comb | \n",
       "|---|---|---|---|---|---|---|---|---|---|---|---|---|---|---|---|\n",
       "| Unburned | 823.9852               | 163.41006              | 0.000                  | Black Spruce           | Unburned               | 0.000                  |  503.70152             | 1144.2689              | Black Spruce Unburned  | \n",
       "| Moderate | 533.0395               |  98.89838              | 0.000                  | Black Spruce           | Moderate               | 0.000                  |  339.19864             |  726.8803              | Black Spruce Moderate  | \n",
       "| Unburned1 | 406.2989               | 190.25198              | 0.033                  | Jack Pine              | Unburned               | 0.528                  |   33.40497             |  779.1927              | Jack Pine Unburned     | \n",
       "| Low | 702.2970               | 233.33241              | 0.003                  | Jack Pine              | Low                    | 0.048                  |  244.96543             | 1159.6285              | Jack Pine Low          | \n",
       "| Moderate1 | 608.8714               | 104.35224              | 0.000                  | Jack Pine              | Moderate               | 0.000                  |  404.34104             |  813.4018              | Jack Pine Moderate     | \n",
       "| High | 496.7012               |  85.24139              | 0.000                  | Jack Pine              | High                   | 0.000                  |  329.62808             |  663.7743              | Jack Pine High         | \n",
       "| Unburned2 | 596.1268               | 107.94737              | 0.000                  | Mixedwood              | Unburned               | 0.000                  |  384.54993             |  807.7036              | Mixedwood Unburned     | \n",
       "| Low1 | 539.0737               | 115.53664              | 0.000                  | Mixedwood              | Low                    | 0.000                  |  312.62188             |  765.5255              | Mixedwood Low          | \n",
       "| Moderate2 | 693.2054               |  89.41578              | 0.000                  | Mixedwood              | Moderate               | 0.000                  |  517.95047             |  868.4603              | Mixedwood Moderate     | \n",
       "| High1 | 571.9582               | 115.42558              | 0.000                  | Mixedwood              | High                   | 0.000                  |  345.72403             |  798.1923              | Mixedwood High         | \n",
       "| Unburned3 | 549.3556               | 165.75292              | 0.001                  | Open Wetland           | Unburned               | 0.016                  |  224.47983             |  874.2313              | Open Wetland Unburned  | \n",
       "| Low2 | 669.3268               |  90.68705              | 0.000                  | Open Wetland           | Low                    | 0.000                  |  491.58020             |  847.0735              | Open Wetland Low       | \n",
       "| Moderate3 | 453.2885               | 202.76866              | 0.025                  | Open Wetland           | Moderate               | 0.400                  |   55.86189             |  850.7150              | Open Wetland Moderate  | \n",
       "| Unburned4 | 579.3845               | 515.55679              | 0.261                  | Treed Wetland          | Unburned               | 1.000                  | -431.10680             | 1589.8758              | Treed Wetland Unburned | \n",
       "| Low3 | 537.8983               | 297.76540              | 0.071                  | Treed Wetland          | Low                    | 1.000                  |  -45.72184             | 1121.5185              | Treed Wetland Low      | \n",
       "| Moderate4 | 890.3292               | 230.57470              | 0.000                  | Treed Wetland          | Moderate               | 0.000                  |  438.40276             | 1342.2556              | Treed Wetland Moderate | \n",
       "\n",
       "\n"
      ],
      "text/plain": [
       "          Estimates Standard.Errors p.values Veg_Comm      Severity_Class p.adj\n",
       "Unburned  823.9852  163.41006       0.000    Black Spruce  Unburned       0.000\n",
       "Moderate  533.0395   98.89838       0.000    Black Spruce  Moderate       0.000\n",
       "Unburned1 406.2989  190.25198       0.033    Jack Pine     Unburned       0.528\n",
       "Low       702.2970  233.33241       0.003    Jack Pine     Low            0.048\n",
       "Moderate1 608.8714  104.35224       0.000    Jack Pine     Moderate       0.000\n",
       "High      496.7012   85.24139       0.000    Jack Pine     High           0.000\n",
       "Unburned2 596.1268  107.94737       0.000    Mixedwood     Unburned       0.000\n",
       "Low1      539.0737  115.53664       0.000    Mixedwood     Low            0.000\n",
       "Moderate2 693.2054   89.41578       0.000    Mixedwood     Moderate       0.000\n",
       "High1     571.9582  115.42558       0.000    Mixedwood     High           0.000\n",
       "Unburned3 549.3556  165.75292       0.001    Open Wetland  Unburned       0.016\n",
       "Low2      669.3268   90.68705       0.000    Open Wetland  Low            0.000\n",
       "Moderate3 453.2885  202.76866       0.025    Open Wetland  Moderate       0.400\n",
       "Unburned4 579.3845  515.55679       0.261    Treed Wetland Unburned       1.000\n",
       "Low3      537.8983  297.76540       0.071    Treed Wetland Low            1.000\n",
       "Moderate4 890.3292  230.57470       0.000    Treed Wetland Moderate       0.000\n",
       "          Ymin       Ymax      comb                  \n",
       "Unburned   503.70152 1144.2689 Black Spruce Unburned \n",
       "Moderate   339.19864  726.8803 Black Spruce Moderate \n",
       "Unburned1   33.40497  779.1927 Jack Pine Unburned    \n",
       "Low        244.96543 1159.6285 Jack Pine Low         \n",
       "Moderate1  404.34104  813.4018 Jack Pine Moderate    \n",
       "High       329.62808  663.7743 Jack Pine High        \n",
       "Unburned2  384.54993  807.7036 Mixedwood Unburned    \n",
       "Low1       312.62188  765.5255 Mixedwood Low         \n",
       "Moderate2  517.95047  868.4603 Mixedwood Moderate    \n",
       "High1      345.72403  798.1923 Mixedwood High        \n",
       "Unburned3  224.47983  874.2313 Open Wetland Unburned \n",
       "Low2       491.58020  847.0735 Open Wetland Low      \n",
       "Moderate3   55.86189  850.7150 Open Wetland Moderate \n",
       "Unburned4 -431.10680 1589.8758 Treed Wetland Unburned\n",
       "Low3       -45.72184 1121.5185 Treed Wetland Low     \n",
       "Moderate4  438.40276 1342.2556 Treed Wetland Moderate"
      ]
     },
     "metadata": {},
     "output_type": "display_data"
    }
   ],
   "source": [
    "# Join into dataframe and adjust errors\n",
    "x = rbind(x[[1]],x[[2]],x[[3]],x[[4]],x[[5]])\n",
    "x = data.frame(x)\n",
    "x$p.adj = p.adjust(x$p.values, method = \"bonferroni\")\n",
    "x$Ymin = x$Estimates-1.96*x$Standard.Errors\n",
    "x$Ymax = x$Estimates+1.96*x$Standard.Errors\n",
    "x$comb = paste(x$Veg_Comm,x$Severity_Class)\n",
    "x"
   ]
  },
  {
   "cell_type": "code",
   "execution_count": 15,
   "metadata": {},
   "outputs": [],
   "source": [
    "# Setting factors\n",
    "x$Severity_Class=factor(x$Severity_Class,levels=c(\"Unburned\",\"Low\",\"Moderate\",\"High\"))\n",
    "x$Veg_Comm = factor(x$Veg_Comm, levels=c(\"Black Spruce\", \"Jack Pine\", \"Mixedwood\", \"Treed Wetland\", \"Open Wetland\"))"
   ]
  },
  {
   "cell_type": "code",
   "execution_count": 16,
   "metadata": {},
   "outputs": [
    {
     "data": {},
     "metadata": {},
     "output_type": "display_data"
    },
    {
     "data": {
      "image/png": "[encoded data removed]",
      "text/plain": [
       "plot without title"
      ]
     },
     "metadata": {},
     "output_type": "display_data"
    }
   ],
   "source": [
    "# Plotting the data\n",
    "\n",
    "options(repr.plot.width=7, repr.plot.height=4)\n",
    "p = ggplot(x)\n",
    "p = p + geom_errorbar(aes(x=Severity_Class,min = Ymax, max = Ymin,color=Severity_Class),width=0.5)\n",
    "p = p + geom_point(aes(x=Severity_Class,y=Estimates,color=Severity_Class))\n",
    "p = p + facet_wrap(~Veg_Comm)\n",
    "#p = p + ylim(0,2000)\n",
    "palette = wes_palette(\"Darjeeling\")[c(2,3,4,1,5)]\n",
    "p = p + scale_colour_manual(values=palette)\n",
    "p = p + theme_bw() +\n",
    "  theme(\n",
    "    plot.background = element_blank()\n",
    "   ,panel.grid.major = element_blank()\n",
    "   ,panel.grid.minor = element_blank()\n",
    "   ,strip.background = element_rect(colour=\"white\", fill=\"white\"))\n",
    "p = p + theme(axis.text.x = element_text(angle=55,hjust=1))\n",
    "p = p + ylab(\"Mean Richness Estimate\")\n",
    "p = p + xlab(\"\")\n",
    "p = p + guides(colour=guide_legend(title=\"Severity Class\"))\n",
    "p"
   ]
  },
  {
   "cell_type": "code",
   "execution_count": null,
   "metadata": {},
   "outputs": [],
   "source": []
  }
 ],
 "metadata": {
  "kernelspec": {
   "display_name": "R",
   "language": "R",
   "name": "ir"
  },
  "language_info": {
   "codemirror_mode": "r",
   "file_extension": ".r",
   "mimetype": "text/x-r-source",
   "name": "R",
   "pygments_lexer": "r",
   "version": "3.4.3"
  }
 },
 "nbformat": 4,
 "nbformat_minor": 2
}
