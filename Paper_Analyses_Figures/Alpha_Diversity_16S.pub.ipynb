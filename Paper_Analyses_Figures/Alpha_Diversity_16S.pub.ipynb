{
 "cells": [
  {
   "cell_type": "markdown",
   "metadata": {},
   "source": [
    "## Estimating richness using breakaway\n",
    "## This generates Supplemental Figure 13"
   ]
  },
  {
   "cell_type": "code",
   "execution_count": 1,
   "metadata": {},
   "outputs": [
    {
     "name": "stderr",
     "output_type": "stream",
     "text": [
      "\n",
      "Attaching package: ‘plyr’\n",
      "\n",
      "The following objects are masked from ‘package:reshape’:\n",
      "\n",
      "    rename, round_any\n",
      "\n",
      "\n",
      "Attaching package: ‘dplyr’\n",
      "\n",
      "The following objects are masked from ‘package:plyr’:\n",
      "\n",
      "    arrange, count, desc, failwith, id, mutate, rename, summarise,\n",
      "    summarize\n",
      "\n",
      "The following object is masked from ‘package:reshape’:\n",
      "\n",
      "    rename\n",
      "\n",
      "The following objects are masked from ‘package:stats’:\n",
      "\n",
      "    filter, lag\n",
      "\n",
      "The following objects are masked from ‘package:base’:\n",
      "\n",
      "    intersect, setdiff, setequal, union\n",
      "\n"
     ]
    }
   ],
   "source": [
    "# Loading R packages\n",
    "library(reshape)\n",
    "library(ggplot2)\n",
    "library(phyloseq)\n",
    "library(plyr)\n",
    "library(dplyr)\n",
    "library(wesanderson)\n",
    "library(breakaway)"
   ]
  },
  {
   "cell_type": "code",
   "execution_count": 2,
   "metadata": {},
   "outputs": [],
   "source": [
    "# Importing the dataset\n",
    "ps = readRDS(\"../../../data/Seq_data/16S/CHTC/Dada2_Results_Full/ps.merged\")"
   ]
  },
  {
   "cell_type": "markdown",
   "metadata": {},
   "source": [
    "## Calculating richness estimates with Betta"
   ]
  },
  {
   "cell_type": "code",
   "execution_count": 3,
   "metadata": {},
   "outputs": [],
   "source": [
    "FreqTableGenerator = function(Sample){\n",
    "    df = data.frame(t(otu_table(ps))[,Sample])\n",
    "    # Grab the OTU table\n",
    "    colnames(df)=\"Frequency\"\n",
    "    # Add a column for the frequencies of the OTUs\n",
    "    df = df %>%\n",
    "        group_by(Frequency)%>%\n",
    "        summarize(nOTUs=n())%>%\n",
    "        arrange(Frequency)\n",
    "    # Summarize the total OTUs that are present at each frequency\n",
    "    df = df[df$Frequency>1,]\n",
    "    # Cut out the 0 and 1 frequencies (because dada2 trimmed singletons)\n",
    "    colnames(df)=NULL\n",
    "    # Omit column names\n",
    "    df = as.matrix(df)\n",
    "    # Spit out a nice matrix\n",
    "    df\n",
    "}\n",
    "# Generates the frequency table summary needed by breakaway"
   ]
  },
  {
   "cell_type": "code",
   "execution_count": 4,
   "metadata": {},
   "outputs": [],
   "source": [
    "Samples = sample_names(ps)"
   ]
  },
  {
   "cell_type": "code",
   "execution_count": 5,
   "metadata": {},
   "outputs": [],
   "source": [
    "# Function to run breakaway on the data\n",
    "report = data.frame(name=\"\",Richness_estimate=\"\",Richness_stderr=\"\",Richness_model=\"\")\n",
    "breakawayrunner = function(SampleName){\n",
    "    df = FreqTableGenerator(SampleName)\n",
    "    #print(head(df))\n",
    "    #print(SampleName)\n",
    "    #print(sum(df[,1]*df[,2]))\n",
    "    if(df[1,1]==2 & (sum(df[1:6,1])==sum(c(2:7)))){\n",
    "        # First, check that the first frequency count is, indeed, 2,\n",
    "        # and there are at least 6 consecutive counts (could actually just do this test)\n",
    "            m = breakaway_nof1(df, answers=TRUE, plot=FALSE, print=FALSE)\n",
    "        # Run breakaway for the no singletons data\n",
    "            Richness_model = m$name\n",
    "            Richness_estimate = m$est\n",
    "            Richness_stderr = m$seest\n",
    "            name = SampleName\n",
    "        # Grab the outputs\n",
    "            report = data.frame(name,Richness_estimate,Richness_stderr,Richness_model)\n",
    "        # Generate a report\n",
    "    } else {\n",
    "        name = SampleName\n",
    "        report=data.frame(name)\n",
    "        # If breakaway isn't going to work anyway, just spit out the name (and NAs)\n",
    "        }\n",
    "\n",
    "    report\n",
    "\n",
    "}"
   ]
  },
  {
   "cell_type": "code",
   "execution_count": 6,
   "metadata": {
    "scrolled": true
   },
   "outputs": [
    {
     "data": {
      "text/html": [
       "<table>\n",
       "<thead><tr><th scope=col>X1</th><th scope=col>name</th><th scope=col>Richness_estimate</th><th scope=col>Richness_stderr</th><th scope=col>Richness_model</th></tr></thead>\n",
       "<tbody>\n",
       "\t<tr><td>1           </td><td>15S-NT-19O  </td><td>1056.9100   </td><td>    3.140691</td><td>WLRM        </td></tr>\n",
       "\t<tr><td>2           </td><td>15S-NT-20O  </td><td> 760.6622   </td><td>13402.029645</td><td>model_1_1   </td></tr>\n",
       "\t<tr><td>3           </td><td>15S-NT-21M  </td><td> 605.1859   </td><td>    2.159701</td><td>WLRM        </td></tr>\n",
       "\t<tr><td>4           </td><td>15S-NT-21O  </td><td> 592.3375   </td><td>    5.801976</td><td>model_1_1   </td></tr>\n",
       "\t<tr><td>5           </td><td>15S-NT-22M  </td><td> 412.3188   </td><td>    3.121177</td><td>WLRM        </td></tr>\n",
       "\t<tr><td>6           </td><td>15S-NT-22O  </td><td> 460.4217   </td><td>    3.822670</td><td>WLRM        </td></tr>\n",
       "</tbody>\n",
       "</table>\n"
      ],
      "text/latex": [
       "\\begin{tabular}{r|lllll}\n",
       " X1 & name & Richness\\_estimate & Richness\\_stderr & Richness\\_model\\\\\n",
       "\\hline\n",
       "\t 1            & 15S-NT-19O   & 1056.9100    &     3.140691 & WLRM        \\\\\n",
       "\t 2             & 15S-NT-20O    &  760.6622     & 13402.029645  & model\\_1\\_1\\\\\n",
       "\t 3            & 15S-NT-21M   &  605.1859    &     2.159701 & WLRM        \\\\\n",
       "\t 4             & 15S-NT-21O    &  592.3375     &     5.801976  & model\\_1\\_1\\\\\n",
       "\t 5            & 15S-NT-22M   &  412.3188    &     3.121177 & WLRM        \\\\\n",
       "\t 6            & 15S-NT-22O   &  460.4217    &     3.822670 & WLRM        \\\\\n",
       "\\end{tabular}\n"
      ],
      "text/markdown": [
       "\n",
       "X1 | name | Richness_estimate | Richness_stderr | Richness_model | \n",
       "|---|---|---|---|---|---|\n",
       "| 1            | 15S-NT-19O   | 1056.9100    |     3.140691 | WLRM         | \n",
       "| 2            | 15S-NT-20O   |  760.6622    | 13402.029645 | model_1_1    | \n",
       "| 3            | 15S-NT-21M   |  605.1859    |     2.159701 | WLRM         | \n",
       "| 4            | 15S-NT-21O   |  592.3375    |     5.801976 | model_1_1    | \n",
       "| 5            | 15S-NT-22M   |  412.3188    |     3.121177 | WLRM         | \n",
       "| 6            | 15S-NT-22O   |  460.4217    |     3.822670 | WLRM         | \n",
       "\n",
       "\n"
      ],
      "text/plain": [
       "  X1 name       Richness_estimate Richness_stderr Richness_model\n",
       "1 1  15S-NT-19O 1056.9100             3.140691    WLRM          \n",
       "2 2  15S-NT-20O  760.6622         13402.029645    model_1_1     \n",
       "3 3  15S-NT-21M  605.1859             2.159701    WLRM          \n",
       "4 4  15S-NT-21O  592.3375             5.801976    model_1_1     \n",
       "5 5  15S-NT-22M  412.3188             3.121177    WLRM          \n",
       "6 6  15S-NT-22O  460.4217             3.822670    WLRM          "
      ]
     },
     "metadata": {},
     "output_type": "display_data"
    }
   ],
   "source": [
    "# Running breakaway\n",
    "Reports = mdply(Samples,breakawayrunner)\n",
    "head(Reports)"
   ]
  },
  {
   "cell_type": "code",
   "execution_count": 7,
   "metadata": {},
   "outputs": [
    {
     "data": {
      "text/html": [
       "<table>\n",
       "<thead><tr><th scope=col>Richness_model</th><th scope=col>n()</th></tr></thead>\n",
       "<tbody>\n",
       "\t<tr><td>WLRM     </td><td>70       </td></tr>\n",
       "\t<tr><td>model_1_1</td><td>26       </td></tr>\n",
       "\t<tr><td>model_2_1</td><td> 2       </td></tr>\n",
       "\t<tr><td>model_2_2</td><td> 3       </td></tr>\n",
       "\t<tr><td>model_1_0</td><td> 1       </td></tr>\n",
       "</tbody>\n",
       "</table>\n"
      ],
      "text/latex": [
       "\\begin{tabular}{r|ll}\n",
       " Richness\\_model & n()\\\\\n",
       "\\hline\n",
       "\t WLRM      & 70       \\\\\n",
       "\t model\\_1\\_1 & 26           \\\\\n",
       "\t model\\_2\\_1 &  2           \\\\\n",
       "\t model\\_2\\_2 &  3           \\\\\n",
       "\t model\\_1\\_0 &  1           \\\\\n",
       "\\end{tabular}\n"
      ],
      "text/markdown": [
       "\n",
       "Richness_model | n() | \n",
       "|---|---|---|---|---|\n",
       "| WLRM      | 70        | \n",
       "| model_1_1 | 26        | \n",
       "| model_2_1 |  2        | \n",
       "| model_2_2 |  3        | \n",
       "| model_1_0 |  1        | \n",
       "\n",
       "\n"
      ],
      "text/plain": [
       "  Richness_model n()\n",
       "1 WLRM           70 \n",
       "2 model_1_1      26 \n",
       "3 model_2_1       2 \n",
       "4 model_2_2       3 \n",
       "5 model_1_0       1 "
      ]
     },
     "metadata": {},
     "output_type": "display_data"
    }
   ],
   "source": [
    "Report_Summary = Reports %>%\n",
    "    group_by(Richness_model)%>%\n",
    "    summarize(n())\n",
    "Report_Summary\n",
    "# How many of each sample fit each model type"
   ]
  },
  {
   "cell_type": "code",
   "execution_count": 8,
   "metadata": {},
   "outputs": [],
   "source": [
    "# Add richness estimates and standard error to the sample dataframe\n",
    "sample_data(ps)[,colnames(Reports)[3:5]]=Reports[,3:5]"
   ]
  },
  {
   "cell_type": "code",
   "execution_count": 9,
   "metadata": {},
   "outputs": [],
   "source": [
    "# Grabbing the sample data\n",
    "d = sample_data(ps)"
   ]
  },
  {
   "cell_type": "code",
   "execution_count": 10,
   "metadata": {},
   "outputs": [],
   "source": [
    "# Setting up function to propagate errors from richness estimates\n",
    "BettaRunner = function(Veg_Comm){\n",
    "    d = d[d$Veg_Comm==Veg_Comm,]\n",
    "    CoVars = data.frame(Veg_Comm=d$Veg_Comm,Severity_Class=d$Severity_Class)\n",
    "    CoVars$Severity=c(rep(\"\",dim(CoVars)[1]))\n",
    "    SeverityOptions = levels(CoVars$Severity_Class)\n",
    "    N = length(SeverityOptions)\n",
    "    for (i in 1:dim(CoVars)[1]){\n",
    "        Severity_Class = paste(CoVars$Severity_Class[i])    \n",
    "        if(\"Unburned\" %in% SeverityOptions){CoVars$Unburned[i] = ifelse(Severity_Class==\"Unburned\",1,0)}\n",
    "        if(\"Low\" %in% SeverityOptions){CoVars$Low[i] = ifelse(Severity_Class==\"Low\",1,0)}\n",
    "        if(\"Moderate\" %in% SeverityOptions){CoVars$Moderate[i] = ifelse(Severity_Class==\"Moderate\",1,0)}\n",
    "        if(\"High\" %in% SeverityOptions){CoVars$High[i] = ifelse(Severity_Class==\"High\",1,0)}\n",
    "    }\n",
    "    nmax = 3+N\n",
    "    CoVars = as.matrix(CoVars[,4:nmax])\n",
    "    Richness_estimates = as.vector(d$Richness_estimate)\n",
    "    Richness_stderr = as.vector(d$Richness_stderr)\n",
    "    BettaEst = betta(Richness_estimates,Richness_stderr,CoVars)\n",
    "    X = data.frame(BettaEst$table)\n",
    "    X$Veg_Comm = Veg_Comm\n",
    "    return(X)\n",
    "}"
   ]
  },
  {
   "cell_type": "code",
   "execution_count": 12,
   "metadata": {},
   "outputs": [],
   "source": [
    "# Which vegetation communities we will apply the function to (all of them)\n",
    "Veg_Comms = levels(d$Veg_Comm)"
   ]
  },
  {
   "cell_type": "code",
   "execution_count": 13,
   "metadata": {},
   "outputs": [],
   "source": [
    "# Run the function on all veg comms\n",
    "x = lapply(Veg_Comms,FUN=BettaRunner)"
   ]
  },
  {
   "cell_type": "code",
   "execution_count": 14,
   "metadata": {},
   "outputs": [],
   "source": [
    "# Extract results\n",
    "x[[1]]$Severity_Class=row.names(x[[1]])\n",
    "x[[2]]$Severity_Class=row.names(x[[2]])\n",
    "x[[3]]$Severity_Class=row.names(x[[3]])\n",
    "x[[4]]$Severity_Class=row.names(x[[4]])\n",
    "x[[5]]$Severity_Class=row.names(x[[5]])"
   ]
  },
  {
   "cell_type": "code",
   "execution_count": 15,
   "metadata": {},
   "outputs": [
    {
     "data": {
      "text/html": [
       "<table>\n",
       "<thead><tr><th></th><th scope=col>Estimates</th><th scope=col>Standard.Errors</th><th scope=col>p.values</th><th scope=col>Veg_Comm</th><th scope=col>Severity_Class</th><th scope=col>p.adj</th><th scope=col>Ymin</th><th scope=col>Ymax</th><th scope=col>comb</th></tr></thead>\n",
       "<tbody>\n",
       "\t<tr><th scope=row>Unburned</th><td>823.9007              </td><td>166.62754             </td><td>0.000                 </td><td>Black Spruce          </td><td>Unburned              </td><td>0.000                 </td><td> 497.31074            </td><td>1150.4907             </td><td>Black Spruce Unburned </td></tr>\n",
       "\t<tr><th scope=row>Low</th><td>453.0002              </td><td>331.93204             </td><td>0.172                 </td><td>Black Spruce          </td><td>Low                   </td><td>1.000                 </td><td>-197.58660            </td><td>1103.5870             </td><td>Black Spruce Low      </td></tr>\n",
       "\t<tr><th scope=row>Moderate</th><td>503.7315              </td><td>166.60217             </td><td>0.002                 </td><td>Black Spruce          </td><td>Moderate              </td><td>0.036                 </td><td> 177.19121            </td><td> 830.2717             </td><td>Black Spruce Moderate </td></tr>\n",
       "\t<tr><th scope=row>High</th><td>558.9999              </td><td>137.03029             </td><td>0.000                 </td><td>Black Spruce          </td><td>High                  </td><td>0.000                 </td><td> 290.42055            </td><td> 827.5793             </td><td>Black Spruce High     </td></tr>\n",
       "\t<tr><th scope=row>Unburned1</th><td>406.2574              </td><td>182.02308             </td><td>0.026                 </td><td>Jack Pine             </td><td>Unburned              </td><td>0.468                 </td><td>  49.49219            </td><td> 763.0227             </td><td>Jack Pine Unburned    </td></tr>\n",
       "\t<tr><th scope=row>Low1</th><td>831.9221              </td><td>157.80834             </td><td>0.000                 </td><td>Jack Pine             </td><td>Low                   </td><td>0.000                 </td><td> 522.61778            </td><td>1141.2265             </td><td>Jack Pine Low         </td></tr>\n",
       "\t<tr><th scope=row>Moderate1</th><td>511.8565              </td><td>111.59284             </td><td>0.000                 </td><td>Jack Pine             </td><td>Moderate              </td><td>0.000                 </td><td> 293.13453            </td><td> 730.5785             </td><td>Jack Pine Moderate    </td></tr>\n",
       "\t<tr><th scope=row>High1</th><td>501.4017              </td><td> 81.53408             </td><td>0.000                 </td><td>Jack Pine             </td><td>High                  </td><td>0.000                 </td><td> 341.59486            </td><td> 661.2085             </td><td>Jack Pine High        </td></tr>\n",
       "\t<tr><th scope=row>Unburned2</th><td>595.8814              </td><td>106.86980             </td><td>0.000                 </td><td>Mixedwood             </td><td>Unburned              </td><td>0.000                 </td><td> 386.41657            </td><td> 805.3462             </td><td>Mixedwood Unburned    </td></tr>\n",
       "\t<tr><th scope=row>Low2</th><td>554.3953              </td><td> 99.03011             </td><td>0.000                 </td><td>Mixedwood             </td><td>Low                   </td><td>0.000                 </td><td> 360.29623            </td><td> 748.4943             </td><td>Mixedwood Low         </td></tr>\n",
       "\t<tr><th scope=row>Moderate2</th><td>579.6023              </td><td> 98.93843             </td><td>0.000                 </td><td>Mixedwood             </td><td>Moderate              </td><td>0.000                 </td><td> 385.68295            </td><td> 773.5216             </td><td>Mixedwood Moderate    </td></tr>\n",
       "\t<tr><th scope=row>High2</th><td>754.4001              </td><td>114.25797             </td><td>0.000                 </td><td>Mixedwood             </td><td>High                  </td><td>0.000                 </td><td> 530.45452            </td><td> 978.3458             </td><td>Mixedwood High        </td></tr>\n",
       "\t<tr><th scope=row>Unburned3</th><td>549.3440              </td><td>168.90555             </td><td>0.001                 </td><td>Open Wetland          </td><td>Unburned              </td><td>0.018                 </td><td> 218.28916            </td><td> 880.3989             </td><td>Open Wetland Unburned </td></tr>\n",
       "\t<tr><th scope=row>Low3</th><td>666.5699              </td><td> 97.41134             </td><td>0.000                 </td><td>Open Wetland          </td><td>Low                   </td><td>0.000                 </td><td> 475.64367            </td><td> 857.4961             </td><td>Open Wetland Low      </td></tr>\n",
       "\t<tr><th scope=row>Moderate3</th><td>533.5448              </td><td>168.73607             </td><td>0.002                 </td><td>Open Wetland          </td><td>Moderate              </td><td>0.036                 </td><td> 202.82207            </td><td> 864.2675             </td><td>Open Wetland Moderate </td></tr>\n",
       "\t<tr><th scope=row>Unburned4</th><td>579.3845              </td><td>515.55679             </td><td>0.261                 </td><td>Treed Wetland         </td><td>Unburned              </td><td>1.000                 </td><td>-431.10681            </td><td>1589.8758             </td><td>Treed Wetland Unburned</td></tr>\n",
       "\t<tr><th scope=row>Moderate4</th><td>892.8688              </td><td>230.57542             </td><td>0.000                 </td><td>Treed Wetland         </td><td>Moderate              </td><td>0.000                 </td><td> 440.94094            </td><td>1344.7966             </td><td>Treed Wetland Moderate</td></tr>\n",
       "\t<tr><th scope=row>High3</th><td>533.6657              </td><td>297.76386             </td><td>0.073                 </td><td>Treed Wetland         </td><td>High                  </td><td>1.000                 </td><td> -49.95147            </td><td>1117.2829             </td><td>Treed Wetland High    </td></tr>\n",
       "</tbody>\n",
       "</table>\n"
      ],
      "text/latex": [
       "\\begin{tabular}{r|lllllllll}\n",
       "  & Estimates & Standard.Errors & p.values & Veg\\_Comm & Severity\\_Class & p.adj & Ymin & Ymax & comb\\\\\n",
       "\\hline\n",
       "\tUnburned & 823.9007               & 166.62754              & 0.000                  & Black Spruce           & Unburned               & 0.000                  &  497.31074             & 1150.4907              & Black Spruce Unburned \\\\\n",
       "\tLow & 453.0002               & 331.93204              & 0.172                  & Black Spruce           & Low                    & 1.000                  & -197.58660             & 1103.5870              & Black Spruce Low      \\\\\n",
       "\tModerate & 503.7315               & 166.60217              & 0.002                  & Black Spruce           & Moderate               & 0.036                  &  177.19121             &  830.2717              & Black Spruce Moderate \\\\\n",
       "\tHigh & 558.9999               & 137.03029              & 0.000                  & Black Spruce           & High                   & 0.000                  &  290.42055             &  827.5793              & Black Spruce High     \\\\\n",
       "\tUnburned1 & 406.2574               & 182.02308              & 0.026                  & Jack Pine              & Unburned               & 0.468                  &   49.49219             &  763.0227              & Jack Pine Unburned    \\\\\n",
       "\tLow1 & 831.9221               & 157.80834              & 0.000                  & Jack Pine              & Low                    & 0.000                  &  522.61778             & 1141.2265              & Jack Pine Low         \\\\\n",
       "\tModerate1 & 511.8565               & 111.59284              & 0.000                  & Jack Pine              & Moderate               & 0.000                  &  293.13453             &  730.5785              & Jack Pine Moderate    \\\\\n",
       "\tHigh1 & 501.4017               &  81.53408              & 0.000                  & Jack Pine              & High                   & 0.000                  &  341.59486             &  661.2085              & Jack Pine High        \\\\\n",
       "\tUnburned2 & 595.8814               & 106.86980              & 0.000                  & Mixedwood              & Unburned               & 0.000                  &  386.41657             &  805.3462              & Mixedwood Unburned    \\\\\n",
       "\tLow2 & 554.3953               &  99.03011              & 0.000                  & Mixedwood              & Low                    & 0.000                  &  360.29623             &  748.4943              & Mixedwood Low         \\\\\n",
       "\tModerate2 & 579.6023               &  98.93843              & 0.000                  & Mixedwood              & Moderate               & 0.000                  &  385.68295             &  773.5216              & Mixedwood Moderate    \\\\\n",
       "\tHigh2 & 754.4001               & 114.25797              & 0.000                  & Mixedwood              & High                   & 0.000                  &  530.45452             &  978.3458              & Mixedwood High        \\\\\n",
       "\tUnburned3 & 549.3440               & 168.90555              & 0.001                  & Open Wetland           & Unburned               & 0.018                  &  218.28916             &  880.3989              & Open Wetland Unburned \\\\\n",
       "\tLow3 & 666.5699               &  97.41134              & 0.000                  & Open Wetland           & Low                    & 0.000                  &  475.64367             &  857.4961              & Open Wetland Low      \\\\\n",
       "\tModerate3 & 533.5448               & 168.73607              & 0.002                  & Open Wetland           & Moderate               & 0.036                  &  202.82207             &  864.2675              & Open Wetland Moderate \\\\\n",
       "\tUnburned4 & 579.3845               & 515.55679              & 0.261                  & Treed Wetland          & Unburned               & 1.000                  & -431.10681             & 1589.8758              & Treed Wetland Unburned\\\\\n",
       "\tModerate4 & 892.8688               & 230.57542              & 0.000                  & Treed Wetland          & Moderate               & 0.000                  &  440.94094             & 1344.7966              & Treed Wetland Moderate\\\\\n",
       "\tHigh3 & 533.6657               & 297.76386              & 0.073                  & Treed Wetland          & High                   & 1.000                  &  -49.95147             & 1117.2829              & Treed Wetland High    \\\\\n",
       "\\end{tabular}\n"
      ],
      "text/markdown": [
       "\n",
       "| <!--/--> | Estimates | Standard.Errors | p.values | Veg_Comm | Severity_Class | p.adj | Ymin | Ymax | comb | \n",
       "|---|---|---|---|---|---|---|---|---|---|---|---|---|---|---|---|---|---|\n",
       "| Unburned | 823.9007               | 166.62754              | 0.000                  | Black Spruce           | Unburned               | 0.000                  |  497.31074             | 1150.4907              | Black Spruce Unburned  | \n",
       "| Low | 453.0002               | 331.93204              | 0.172                  | Black Spruce           | Low                    | 1.000                  | -197.58660             | 1103.5870              | Black Spruce Low       | \n",
       "| Moderate | 503.7315               | 166.60217              | 0.002                  | Black Spruce           | Moderate               | 0.036                  |  177.19121             |  830.2717              | Black Spruce Moderate  | \n",
       "| High | 558.9999               | 137.03029              | 0.000                  | Black Spruce           | High                   | 0.000                  |  290.42055             |  827.5793              | Black Spruce High      | \n",
       "| Unburned1 | 406.2574               | 182.02308              | 0.026                  | Jack Pine              | Unburned               | 0.468                  |   49.49219             |  763.0227              | Jack Pine Unburned     | \n",
       "| Low1 | 831.9221               | 157.80834              | 0.000                  | Jack Pine              | Low                    | 0.000                  |  522.61778             | 1141.2265              | Jack Pine Low          | \n",
       "| Moderate1 | 511.8565               | 111.59284              | 0.000                  | Jack Pine              | Moderate               | 0.000                  |  293.13453             |  730.5785              | Jack Pine Moderate     | \n",
       "| High1 | 501.4017               |  81.53408              | 0.000                  | Jack Pine              | High                   | 0.000                  |  341.59486             |  661.2085              | Jack Pine High         | \n",
       "| Unburned2 | 595.8814               | 106.86980              | 0.000                  | Mixedwood              | Unburned               | 0.000                  |  386.41657             |  805.3462              | Mixedwood Unburned     | \n",
       "| Low2 | 554.3953               |  99.03011              | 0.000                  | Mixedwood              | Low                    | 0.000                  |  360.29623             |  748.4943              | Mixedwood Low          | \n",
       "| Moderate2 | 579.6023               |  98.93843              | 0.000                  | Mixedwood              | Moderate               | 0.000                  |  385.68295             |  773.5216              | Mixedwood Moderate     | \n",
       "| High2 | 754.4001               | 114.25797              | 0.000                  | Mixedwood              | High                   | 0.000                  |  530.45452             |  978.3458              | Mixedwood High         | \n",
       "| Unburned3 | 549.3440               | 168.90555              | 0.001                  | Open Wetland           | Unburned               | 0.018                  |  218.28916             |  880.3989              | Open Wetland Unburned  | \n",
       "| Low3 | 666.5699               |  97.41134              | 0.000                  | Open Wetland           | Low                    | 0.000                  |  475.64367             |  857.4961              | Open Wetland Low       | \n",
       "| Moderate3 | 533.5448               | 168.73607              | 0.002                  | Open Wetland           | Moderate               | 0.036                  |  202.82207             |  864.2675              | Open Wetland Moderate  | \n",
       "| Unburned4 | 579.3845               | 515.55679              | 0.261                  | Treed Wetland          | Unburned               | 1.000                  | -431.10681             | 1589.8758              | Treed Wetland Unburned | \n",
       "| Moderate4 | 892.8688               | 230.57542              | 0.000                  | Treed Wetland          | Moderate               | 0.000                  |  440.94094             | 1344.7966              | Treed Wetland Moderate | \n",
       "| High3 | 533.6657               | 297.76386              | 0.073                  | Treed Wetland          | High                   | 1.000                  |  -49.95147             | 1117.2829              | Treed Wetland High     | \n",
       "\n",
       "\n"
      ],
      "text/plain": [
       "          Estimates Standard.Errors p.values Veg_Comm      Severity_Class p.adj\n",
       "Unburned  823.9007  166.62754       0.000    Black Spruce  Unburned       0.000\n",
       "Low       453.0002  331.93204       0.172    Black Spruce  Low            1.000\n",
       "Moderate  503.7315  166.60217       0.002    Black Spruce  Moderate       0.036\n",
       "High      558.9999  137.03029       0.000    Black Spruce  High           0.000\n",
       "Unburned1 406.2574  182.02308       0.026    Jack Pine     Unburned       0.468\n",
       "Low1      831.9221  157.80834       0.000    Jack Pine     Low            0.000\n",
       "Moderate1 511.8565  111.59284       0.000    Jack Pine     Moderate       0.000\n",
       "High1     501.4017   81.53408       0.000    Jack Pine     High           0.000\n",
       "Unburned2 595.8814  106.86980       0.000    Mixedwood     Unburned       0.000\n",
       "Low2      554.3953   99.03011       0.000    Mixedwood     Low            0.000\n",
       "Moderate2 579.6023   98.93843       0.000    Mixedwood     Moderate       0.000\n",
       "High2     754.4001  114.25797       0.000    Mixedwood     High           0.000\n",
       "Unburned3 549.3440  168.90555       0.001    Open Wetland  Unburned       0.018\n",
       "Low3      666.5699   97.41134       0.000    Open Wetland  Low            0.000\n",
       "Moderate3 533.5448  168.73607       0.002    Open Wetland  Moderate       0.036\n",
       "Unburned4 579.3845  515.55679       0.261    Treed Wetland Unburned       1.000\n",
       "Moderate4 892.8688  230.57542       0.000    Treed Wetland Moderate       0.000\n",
       "High3     533.6657  297.76386       0.073    Treed Wetland High           1.000\n",
       "          Ymin       Ymax      comb                  \n",
       "Unburned   497.31074 1150.4907 Black Spruce Unburned \n",
       "Low       -197.58660 1103.5870 Black Spruce Low      \n",
       "Moderate   177.19121  830.2717 Black Spruce Moderate \n",
       "High       290.42055  827.5793 Black Spruce High     \n",
       "Unburned1   49.49219  763.0227 Jack Pine Unburned    \n",
       "Low1       522.61778 1141.2265 Jack Pine Low         \n",
       "Moderate1  293.13453  730.5785 Jack Pine Moderate    \n",
       "High1      341.59486  661.2085 Jack Pine High        \n",
       "Unburned2  386.41657  805.3462 Mixedwood Unburned    \n",
       "Low2       360.29623  748.4943 Mixedwood Low         \n",
       "Moderate2  385.68295  773.5216 Mixedwood Moderate    \n",
       "High2      530.45452  978.3458 Mixedwood High        \n",
       "Unburned3  218.28916  880.3989 Open Wetland Unburned \n",
       "Low3       475.64367  857.4961 Open Wetland Low      \n",
       "Moderate3  202.82207  864.2675 Open Wetland Moderate \n",
       "Unburned4 -431.10681 1589.8758 Treed Wetland Unburned\n",
       "Moderate4  440.94094 1344.7966 Treed Wetland Moderate\n",
       "High3      -49.95147 1117.2829 Treed Wetland High    "
      ]
     },
     "metadata": {},
     "output_type": "display_data"
    }
   ],
   "source": [
    "# Join into dataframe and adjust errors\n",
    "x = rbind(x[[1]],x[[2]],x[[3]],x[[4]],x[[5]])\n",
    "x = data.frame(x)\n",
    "x$p.adj = p.adjust(x$p.values, method = \"bonferroni\")\n",
    "x$Ymin = x$Estimates-1.96*x$Standard.Errors\n",
    "x$Ymax = x$Estimates+1.96*x$Standard.Errors\n",
    "x$comb = paste(x$Veg_Comm,x$Severity_Class)\n",
    "x"
   ]
  },
  {
   "cell_type": "code",
   "execution_count": 16,
   "metadata": {},
   "outputs": [],
   "source": [
    "# Setting factors\n",
    "x$Severity_Class=factor(x$Severity_Class,levels=c(\"Unburned\",\"Low\",\"Moderate\",\"High\"))\n",
    "x$Veg_Comm = factor(x$Veg_Comm, levels=c(\"Black Spruce\", \"Jack Pine\", \"Mixedwood\", \"Treed Wetland\", \"Open Wetland\"))"
   ]
  },
  {
   "cell_type": "code",
   "execution_count": 18,
   "metadata": {},
   "outputs": [
    {
     "data": {},
     "metadata": {},
     "output_type": "display_data"
    },
    {
     "data": {
      "image/png": "[encoded data removed]",
      "text/plain": [
       "plot without title"
      ]
     },
     "metadata": {},
     "output_type": "display_data"
    }
   ],
   "source": [
    "# Plotting the data\n",
    "\n",
    "options(repr.plot.width=7, repr.plot.height=4)\n",
    "p = ggplot(x)\n",
    "p = p + geom_errorbar(aes(x=Severity_Class,min = Ymax, max = Ymin,color=Severity_Class),width=0.5)\n",
    "p = p + geom_point(aes(x=Severity_Class,y=Estimates,color=Severity_Class))\n",
    "p = p + facet_wrap(~Veg_Comm)\n",
    "#p = p + ylim(0,2000)\n",
    "palette = wes_palette(\"Darjeeling\")[c(2,3,4,1,5)]\n",
    "p = p + scale_colour_manual(values=palette)\n",
    "p = p + theme_bw() +\n",
    "  theme(\n",
    "    plot.background = element_blank()\n",
    "   ,panel.grid.major = element_blank()\n",
    "   ,panel.grid.minor = element_blank()\n",
    "   ,strip.background = element_rect(colour=\"white\", fill=\"white\"))\n",
    "p = p + theme(axis.text.x = element_text(angle=55,hjust=1))\n",
    "p = p + ylab(\"Mean Richness Estimate\")\n",
    "p = p + xlab(\"\")\n",
    "p = p + guides(colour=guide_legend(title=\"Severity Class\"))\n",
    "p"
   ]
  }
 ],
 "metadata": {
  "kernelspec": {
   "display_name": "R",
   "language": "R",
   "name": "ir"
  },
  "language_info": {
   "codemirror_mode": "r",
   "file_extension": ".r",
   "mimetype": "text/x-r-source",
   "name": "R",
   "pygments_lexer": "r",
   "version": "3.4.3"
  }
 },
 "nbformat": 4,
 "nbformat_minor": 2
}
