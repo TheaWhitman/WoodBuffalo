{
 "cells": [
  {
   "cell_type": "markdown",
   "metadata": {},
   "source": [
    "## This notebook estimates the fraction of my OTUs that are >97% ID similar to those identified in the \"Global Soil Atlas\" - creating Supplemental Figures 17 and 18"
   ]
  },
  {
   "cell_type": "code",
   "execution_count": 1,
   "metadata": {},
   "outputs": [],
   "source": [
    "# The Global Soil Atlas\n",
    "\n",
    "# They found their 500 phylotypes represented about half of soil bacterial communities\n",
    "# I would like to have an ID column for my data, saying whether and which OTU it matched (say 100%) and what cluster it was associated with (if any)\n",
    "\n",
    "# Then, I would ask:\n",
    "# What fraction of my community/OTUs were found in the global atlas database?\n",
    "# What fraction of fire responders were in that database (if low, suggests more interesting role for them; if high, global relevance)?\n",
    "# For responders in DB, how were they classified?\n"
   ]
  },
  {
   "cell_type": "code",
   "execution_count": 24,
   "metadata": {},
   "outputs": [],
   "source": [
    "# Loading R packages\n",
    "library(reshape)\n",
    "library(ggplot2)\n",
    "library(phyloseq)\n",
    "library(dplyr)\n",
    "library(plotly)\n",
    "library(wesanderson)"
   ]
  },
  {
   "cell_type": "code",
   "execution_count": 25,
   "metadata": {},
   "outputs": [],
   "source": [
    "# Bring in our phyloseq object and melt it\n",
    "ps = readRDS(\"../../../data/Seq_data/16S/CHTC/Dada2_Results_Full/ps.merged\")\n",
    "ps.norm = transform_sample_counts(ps, function(x) x/sum(x))\n",
    "mdf = psmelt(ps.norm)"
   ]
  },
  {
   "cell_type": "code",
   "execution_count": 26,
   "metadata": {},
   "outputs": [],
   "source": [
    "# Read in the BLAST results from our OTUs vs. the Soil Atlas paper OTUs\n",
    "blast = read.csv(\"../GlobalAtlasBlast.txt\",sep=\"\\t\",header=FALSE)\n",
    "colnames(blast) = c(\"qseqid\", \"SoilAtlasID\", \"pident\", \"length\", \"mismatch\", \"gapopen\", \"qstart\", \"qend\", \"sstart\" ,\"send\" ,\"evalue\",\"bitscore\")"
   ]
  },
  {
   "cell_type": "code",
   "execution_count": 27,
   "metadata": {},
   "outputs": [
    {
     "data": {
      "text/html": [
       "<ol class=list-inline>\n",
       "\t<li>5753</li>\n",
       "\t<li>12</li>\n",
       "</ol>\n"
      ],
      "text/latex": [
       "\\begin{enumerate*}\n",
       "\\item 5753\n",
       "\\item 12\n",
       "\\end{enumerate*}\n"
      ],
      "text/markdown": [
       "1. 5753\n",
       "2. 12\n",
       "\n",
       "\n"
      ],
      "text/plain": [
       "[1] 5753   12"
      ]
     },
     "metadata": {},
     "output_type": "display_data"
    }
   ],
   "source": [
    "# Choose only taxa that were 97% ID or more similar to our OTU set\n",
    "blast.filt = blast %>%\n",
    "    filter(pident>=97)\n",
    "dim(blast.filt)"
   ]
  },
  {
   "cell_type": "code",
   "execution_count": 28,
   "metadata": {},
   "outputs": [
    {
     "data": {
      "text/html": [
       "<table>\n",
       "<thead><tr><th scope=col>qseqid</th><th scope=col>SoilAtlasID</th><th scope=col>pident</th><th scope=col>length</th><th scope=col>mismatch</th><th scope=col>gapopen</th><th scope=col>qstart</th><th scope=col>qend</th><th scope=col>sstart</th><th scope=col>send</th><th scope=col>evalue</th><th scope=col>bitscore</th><th scope=col>OTU</th></tr></thead>\n",
       "<tbody>\n",
       "\t<tr><td>sq1;size=201490;</td><td>OTU_22          </td><td>100.000         </td><td>229             </td><td>0               </td><td>0               </td><td>1               </td><td>229             </td><td>169             </td><td>397             </td><td>9.80e-121       </td><td>424             </td><td>sq1             </td></tr>\n",
       "\t<tr><td>sq2;size=157195;</td><td>OTU_10          </td><td> 99.563         </td><td>229             </td><td>1               </td><td>0               </td><td>1               </td><td>229             </td><td>164             </td><td>392             </td><td>4.56e-119       </td><td>418             </td><td>sq2             </td></tr>\n",
       "\t<tr><td>sq3;size=94320; </td><td>OTU_2940        </td><td>100.000         </td><td>229             </td><td>0               </td><td>0               </td><td>1               </td><td>229             </td><td>189             </td><td>417             </td><td>9.80e-121       </td><td>424             </td><td>sq3             </td></tr>\n",
       "\t<tr><td>sq3;size=94320; </td><td>OTU_9648        </td><td> 98.253         </td><td>229             </td><td>4               </td><td>0               </td><td>1               </td><td>229             </td><td>189             </td><td>417             </td><td>4.59e-114       </td><td>401             </td><td>sq3             </td></tr>\n",
       "\t<tr><td>sq3;size=94320; </td><td>OTU_638         </td><td> 97.817         </td><td>229             </td><td>5               </td><td>0               </td><td>1               </td><td>229             </td><td>189             </td><td>417             </td><td>2.14e-112       </td><td>396             </td><td>sq3             </td></tr>\n",
       "\t<tr><td>sq3;size=94320; </td><td>OTU_1131        </td><td> 97.380         </td><td>229             </td><td>6               </td><td>0               </td><td>1               </td><td>229             </td><td>189             </td><td>417             </td><td>9.94e-111       </td><td>390             </td><td>sq3             </td></tr>\n",
       "</tbody>\n",
       "</table>\n"
      ],
      "text/latex": [
       "\\begin{tabular}{r|lllllllllllll}\n",
       " qseqid & SoilAtlasID & pident & length & mismatch & gapopen & qstart & qend & sstart & send & evalue & bitscore & OTU\\\\\n",
       "\\hline\n",
       "\t sq1;size=201490; & OTU\\_22         & 100.000          & 229              & 0                & 0                & 1                & 229              & 169              & 397              & 9.80e-121        & 424              & sq1             \\\\\n",
       "\t sq2;size=157195; & OTU\\_10         &  99.563          & 229              & 1                & 0                & 1                & 229              & 164              & 392              & 4.56e-119        & 418              & sq2             \\\\\n",
       "\t sq3;size=94320;  & OTU\\_2940       & 100.000          & 229              & 0                & 0                & 1                & 229              & 189              & 417              & 9.80e-121        & 424              & sq3             \\\\\n",
       "\t sq3;size=94320;  & OTU\\_9648       &  98.253          & 229              & 4                & 0                & 1                & 229              & 189              & 417              & 4.59e-114        & 401              & sq3             \\\\\n",
       "\t sq3;size=94320;  & OTU\\_638        &  97.817          & 229              & 5                & 0                & 1                & 229              & 189              & 417              & 2.14e-112        & 396              & sq3             \\\\\n",
       "\t sq3;size=94320;  & OTU\\_1131       &  97.380          & 229              & 6                & 0                & 1                & 229              & 189              & 417              & 9.94e-111        & 390              & sq3             \\\\\n",
       "\\end{tabular}\n"
      ],
      "text/markdown": [
       "\n",
       "qseqid | SoilAtlasID | pident | length | mismatch | gapopen | qstart | qend | sstart | send | evalue | bitscore | OTU | \n",
       "|---|---|---|---|---|---|\n",
       "| sq1;size=201490; | OTU_22           | 100.000          | 229              | 0                | 0                | 1                | 229              | 169              | 397              | 9.80e-121        | 424              | sq1              | \n",
       "| sq2;size=157195; | OTU_10           |  99.563          | 229              | 1                | 0                | 1                | 229              | 164              | 392              | 4.56e-119        | 418              | sq2              | \n",
       "| sq3;size=94320;  | OTU_2940         | 100.000          | 229              | 0                | 0                | 1                | 229              | 189              | 417              | 9.80e-121        | 424              | sq3              | \n",
       "| sq3;size=94320;  | OTU_9648         |  98.253          | 229              | 4                | 0                | 1                | 229              | 189              | 417              | 4.59e-114        | 401              | sq3              | \n",
       "| sq3;size=94320;  | OTU_638          |  97.817          | 229              | 5                | 0                | 1                | 229              | 189              | 417              | 2.14e-112        | 396              | sq3              | \n",
       "| sq3;size=94320;  | OTU_1131         |  97.380          | 229              | 6                | 0                | 1                | 229              | 189              | 417              | 9.94e-111        | 390              | sq3              | \n",
       "\n",
       "\n"
      ],
      "text/plain": [
       "  qseqid           SoilAtlasID pident  length mismatch gapopen qstart qend\n",
       "1 sq1;size=201490; OTU_22      100.000 229    0        0       1      229 \n",
       "2 sq2;size=157195; OTU_10       99.563 229    1        0       1      229 \n",
       "3 sq3;size=94320;  OTU_2940    100.000 229    0        0       1      229 \n",
       "4 sq3;size=94320;  OTU_9648     98.253 229    4        0       1      229 \n",
       "5 sq3;size=94320;  OTU_638      97.817 229    5        0       1      229 \n",
       "6 sq3;size=94320;  OTU_1131     97.380 229    6        0       1      229 \n",
       "  sstart send evalue    bitscore OTU\n",
       "1 169    397  9.80e-121 424      sq1\n",
       "2 164    392  4.56e-119 418      sq2\n",
       "3 189    417  9.80e-121 424      sq3\n",
       "4 189    417  4.59e-114 401      sq3\n",
       "5 189    417  2.14e-112 396      sq3\n",
       "6 189    417  9.94e-111 390      sq3"
      ]
     },
     "metadata": {},
     "output_type": "display_data"
    }
   ],
   "source": [
    "# Parsing the blast output\n",
    "blast.filt$OTU=matrix(unlist(strsplit(paste(blast.filt$qseqid),split=\";\",fixed=TRUE)),ncol=2,byrow=TRUE)[,1]\n",
    "head(blast.filt)"
   ]
  },
  {
   "cell_type": "code",
   "execution_count": 29,
   "metadata": {},
   "outputs": [
    {
     "data": {
      "text/html": [
       "<table>\n",
       "<thead><tr><th scope=col>SoilAtlasID</th><th scope=col>qseqid</th><th scope=col>pident</th><th scope=col>length</th><th scope=col>mismatch</th><th scope=col>gapopen</th><th scope=col>qstart</th><th scope=col>qend</th><th scope=col>sstart</th><th scope=col>send</th><th scope=col>⋯</th><th scope=col>bitscore</th><th scope=col>OTU</th><th scope=col>SAPhylum</th><th scope=col>SAClass</th><th scope=col>SAOrder</th><th scope=col>SAFamily</th><th scope=col>SAGenus</th><th scope=col>SASpecies</th><th scope=col>SA_RF_best_pred</th><th scope=col>SA_Ecol_cluster</th></tr></thead>\n",
       "<tbody>\n",
       "\t<tr><td>OTU_10             </td><td>sq2;size=157195;   </td><td>99.563             </td><td>229                </td><td>1                  </td><td>0                  </td><td>1                  </td><td>229                </td><td>164                </td><td>392                </td><td>⋯                  </td><td>418                </td><td>sq2                </td><td>Proteobacteria     </td><td>Alphaproteobacteria</td><td>Rhizobiales        </td><td>Bradyrhizobiaceae  </td><td>Bradyrhizobium     </td><td>                   </td><td>pH                 </td><td>Low pH             </td></tr>\n",
       "\t<tr><td>OTU_10             </td><td>sq6012;size=60;    </td><td>98.690             </td><td>229                </td><td>3                  </td><td>0                  </td><td>1                  </td><td>229                </td><td>164                </td><td>392                </td><td>⋯                  </td><td>407                </td><td>sq6012             </td><td>Proteobacteria     </td><td>Alphaproteobacteria</td><td>Rhizobiales        </td><td>Bradyrhizobiaceae  </td><td>Bradyrhizobium     </td><td>                   </td><td>pH                 </td><td>Low pH             </td></tr>\n",
       "\t<tr><td>OTU_10             </td><td>sq1993;size=304;   </td><td>97.391             </td><td>230                </td><td>4                  </td><td>2                  </td><td>1                  </td><td>229                </td><td>164                </td><td>392                </td><td>⋯                  </td><td>390                </td><td>sq1993             </td><td>Proteobacteria     </td><td>Alphaproteobacteria</td><td>Rhizobiales        </td><td>Bradyrhizobiaceae  </td><td>Bradyrhizobium     </td><td>                   </td><td>pH                 </td><td>Low pH             </td></tr>\n",
       "\t<tr><td>OTU_10             </td><td>sq1046;size=707;   </td><td>98.253             </td><td>229                </td><td>4                  </td><td>0                  </td><td>1                  </td><td>229                </td><td>164                </td><td>392                </td><td>⋯                  </td><td>401                </td><td>sq1046             </td><td>Proteobacteria     </td><td>Alphaproteobacteria</td><td>Rhizobiales        </td><td>Bradyrhizobiaceae  </td><td>Bradyrhizobium     </td><td>                   </td><td>pH                 </td><td>Low pH             </td></tr>\n",
       "\t<tr><td>OTU_10             </td><td>sq1957;size=313;   </td><td>97.380             </td><td>229                </td><td>6                  </td><td>0                  </td><td>1                  </td><td>229                </td><td>164                </td><td>392                </td><td>⋯                  </td><td>390                </td><td>sq1957             </td><td>Proteobacteria     </td><td>Alphaproteobacteria</td><td>Rhizobiales        </td><td>Bradyrhizobiaceae  </td><td>Bradyrhizobium     </td><td>                   </td><td>pH                 </td><td>Low pH             </td></tr>\n",
       "\t<tr><td>OTU_10             </td><td>sq1505;size=440;   </td><td>98.253             </td><td>229                </td><td>4                  </td><td>0                  </td><td>1                  </td><td>229                </td><td>164                </td><td>392                </td><td>⋯                  </td><td>401                </td><td>sq1505             </td><td>Proteobacteria     </td><td>Alphaproteobacteria</td><td>Rhizobiales        </td><td>Bradyrhizobiaceae  </td><td>Bradyrhizobium     </td><td>                   </td><td>pH                 </td><td>Low pH             </td></tr>\n",
       "</tbody>\n",
       "</table>\n"
      ],
      "text/latex": [
       "\\begin{tabular}{r|lllllllllllllllllllll}\n",
       " SoilAtlasID & qseqid & pident & length & mismatch & gapopen & qstart & qend & sstart & send & ⋯ & bitscore & OTU & SAPhylum & SAClass & SAOrder & SAFamily & SAGenus & SASpecies & SA\\_RF\\_best\\_pred & SA\\_Ecol\\_cluster\\\\\n",
       "\\hline\n",
       "\t OTU\\_10            & sq2;size=157195;    & 99.563              & 229                 & 1                   & 0                   & 1                   & 229                 & 164                 & 392                 & ⋯                   & 418                 & sq2                 & Proteobacteria      & Alphaproteobacteria & Rhizobiales         & Bradyrhizobiaceae   & Bradyrhizobium      &                     & pH                  & Low pH             \\\\\n",
       "\t OTU\\_10            & sq6012;size=60;     & 98.690              & 229                 & 3                   & 0                   & 1                   & 229                 & 164                 & 392                 & ⋯                   & 407                 & sq6012              & Proteobacteria      & Alphaproteobacteria & Rhizobiales         & Bradyrhizobiaceae   & Bradyrhizobium      &                     & pH                  & Low pH             \\\\\n",
       "\t OTU\\_10            & sq1993;size=304;    & 97.391              & 230                 & 4                   & 2                   & 1                   & 229                 & 164                 & 392                 & ⋯                   & 390                 & sq1993              & Proteobacteria      & Alphaproteobacteria & Rhizobiales         & Bradyrhizobiaceae   & Bradyrhizobium      &                     & pH                  & Low pH             \\\\\n",
       "\t OTU\\_10            & sq1046;size=707;    & 98.253              & 229                 & 4                   & 0                   & 1                   & 229                 & 164                 & 392                 & ⋯                   & 401                 & sq1046              & Proteobacteria      & Alphaproteobacteria & Rhizobiales         & Bradyrhizobiaceae   & Bradyrhizobium      &                     & pH                  & Low pH             \\\\\n",
       "\t OTU\\_10            & sq1957;size=313;    & 97.380              & 229                 & 6                   & 0                   & 1                   & 229                 & 164                 & 392                 & ⋯                   & 390                 & sq1957              & Proteobacteria      & Alphaproteobacteria & Rhizobiales         & Bradyrhizobiaceae   & Bradyrhizobium      &                     & pH                  & Low pH             \\\\\n",
       "\t OTU\\_10            & sq1505;size=440;    & 98.253              & 229                 & 4                   & 0                   & 1                   & 229                 & 164                 & 392                 & ⋯                   & 401                 & sq1505              & Proteobacteria      & Alphaproteobacteria & Rhizobiales         & Bradyrhizobiaceae   & Bradyrhizobium      &                     & pH                  & Low pH             \\\\\n",
       "\\end{tabular}\n"
      ],
      "text/markdown": [
       "\n",
       "SoilAtlasID | qseqid | pident | length | mismatch | gapopen | qstart | qend | sstart | send | ⋯ | bitscore | OTU | SAPhylum | SAClass | SAOrder | SAFamily | SAGenus | SASpecies | SA_RF_best_pred | SA_Ecol_cluster | \n",
       "|---|---|---|---|---|---|\n",
       "| OTU_10              | sq2;size=157195;    | 99.563              | 229                 | 1                   | 0                   | 1                   | 229                 | 164                 | 392                 | ⋯                   | 418                 | sq2                 | Proteobacteria      | Alphaproteobacteria | Rhizobiales         | Bradyrhizobiaceae   | Bradyrhizobium      |                     | pH                  | Low pH              | \n",
       "| OTU_10              | sq6012;size=60;     | 98.690              | 229                 | 3                   | 0                   | 1                   | 229                 | 164                 | 392                 | ⋯                   | 407                 | sq6012              | Proteobacteria      | Alphaproteobacteria | Rhizobiales         | Bradyrhizobiaceae   | Bradyrhizobium      |                     | pH                  | Low pH              | \n",
       "| OTU_10              | sq1993;size=304;    | 97.391              | 230                 | 4                   | 2                   | 1                   | 229                 | 164                 | 392                 | ⋯                   | 390                 | sq1993              | Proteobacteria      | Alphaproteobacteria | Rhizobiales         | Bradyrhizobiaceae   | Bradyrhizobium      |                     | pH                  | Low pH              | \n",
       "| OTU_10              | sq1046;size=707;    | 98.253              | 229                 | 4                   | 0                   | 1                   | 229                 | 164                 | 392                 | ⋯                   | 401                 | sq1046              | Proteobacteria      | Alphaproteobacteria | Rhizobiales         | Bradyrhizobiaceae   | Bradyrhizobium      |                     | pH                  | Low pH              | \n",
       "| OTU_10              | sq1957;size=313;    | 97.380              | 229                 | 6                   | 0                   | 1                   | 229                 | 164                 | 392                 | ⋯                   | 390                 | sq1957              | Proteobacteria      | Alphaproteobacteria | Rhizobiales         | Bradyrhizobiaceae   | Bradyrhizobium      |                     | pH                  | Low pH              | \n",
       "| OTU_10              | sq1505;size=440;    | 98.253              | 229                 | 4                   | 0                   | 1                   | 229                 | 164                 | 392                 | ⋯                   | 401                 | sq1505              | Proteobacteria      | Alphaproteobacteria | Rhizobiales         | Bradyrhizobiaceae   | Bradyrhizobium      |                     | pH                  | Low pH              | \n",
       "\n",
       "\n"
      ],
      "text/plain": [
       "  SoilAtlasID qseqid           pident length mismatch gapopen qstart qend\n",
       "1 OTU_10      sq2;size=157195; 99.563 229    1        0       1      229 \n",
       "2 OTU_10      sq6012;size=60;  98.690 229    3        0       1      229 \n",
       "3 OTU_10      sq1993;size=304; 97.391 230    4        2       1      229 \n",
       "4 OTU_10      sq1046;size=707; 98.253 229    4        0       1      229 \n",
       "5 OTU_10      sq1957;size=313; 97.380 229    6        0       1      229 \n",
       "6 OTU_10      sq1505;size=440; 98.253 229    4        0       1      229 \n",
       "  sstart send ⋯ bitscore OTU    SAPhylum       SAClass             SAOrder    \n",
       "1 164    392  ⋯ 418      sq2    Proteobacteria Alphaproteobacteria Rhizobiales\n",
       "2 164    392  ⋯ 407      sq6012 Proteobacteria Alphaproteobacteria Rhizobiales\n",
       "3 164    392  ⋯ 390      sq1993 Proteobacteria Alphaproteobacteria Rhizobiales\n",
       "4 164    392  ⋯ 401      sq1046 Proteobacteria Alphaproteobacteria Rhizobiales\n",
       "5 164    392  ⋯ 390      sq1957 Proteobacteria Alphaproteobacteria Rhizobiales\n",
       "6 164    392  ⋯ 401      sq1505 Proteobacteria Alphaproteobacteria Rhizobiales\n",
       "  SAFamily          SAGenus        SASpecies SA_RF_best_pred SA_Ecol_cluster\n",
       "1 Bradyrhizobiaceae Bradyrhizobium           pH              Low pH         \n",
       "2 Bradyrhizobiaceae Bradyrhizobium           pH              Low pH         \n",
       "3 Bradyrhizobiaceae Bradyrhizobium           pH              Low pH         \n",
       "4 Bradyrhizobiaceae Bradyrhizobium           pH              Low pH         \n",
       "5 Bradyrhizobiaceae Bradyrhizobium           pH              Low pH         \n",
       "6 Bradyrhizobiaceae Bradyrhizobium           pH              Low pH         "
      ]
     },
     "metadata": {},
     "output_type": "display_data"
    },
    {
     "data": {
      "text/html": [
       "<ol class=list-inline>\n",
       "\t<li>5753</li>\n",
       "\t<li>21</li>\n",
       "</ol>\n"
      ],
      "text/latex": [
       "\\begin{enumerate*}\n",
       "\\item 5753\n",
       "\\item 21\n",
       "\\end{enumerate*}\n"
      ],
      "text/markdown": [
       "1. 5753\n",
       "2. 21\n",
       "\n",
       "\n"
      ],
      "text/plain": [
       "[1] 5753   21"
      ]
     },
     "metadata": {},
     "output_type": "display_data"
    }
   ],
   "source": [
    "# Would be interesting to see which of the SoilAtlas organisms were associated with clusters\n",
    "# Need to import their dataset.\n",
    "SoilAtlas = read.csv(\"../GlobalAtlasMetaData.csv\",header=TRUE)\n",
    "colnames(SoilAtlas)=c(\"SoilAtlasID\",\"SAPhylum\",\"SAClass\",\"SAOrder\",\"SAFamily\",\"SAGenus\",\"SASpecies\",\"SA_RF_best_pred\",\"SA_Ecol_cluster\")\n",
    "blast.filt = merge(blast.filt,SoilAtlas,by=\"SoilAtlasID\",all.x=TRUE)\n",
    "head(blast.filt)\n",
    "dim(blast.filt)"
   ]
  },
  {
   "cell_type": "code",
   "execution_count": 30,
   "metadata": {},
   "outputs": [
    {
     "data": {
      "text/html": [
       "<table>\n",
       "<thead><tr><th scope=col>OTU</th><th scope=col>pident</th><th scope=col>SoilAtlasID</th><th scope=col>SA_Ecol_cluster</th></tr></thead>\n",
       "<tbody>\n",
       "\t<tr><td>sq1      </td><td>100.000  </td><td>OTU_22   </td><td>Undefined</td></tr>\n",
       "\t<tr><td>sq10     </td><td> 98.690  </td><td>OTU_25205</td><td>Undefined</td></tr>\n",
       "\t<tr><td>sq100    </td><td>100.000  </td><td>OTU_343  </td><td>Undefined</td></tr>\n",
       "\t<tr><td>sq1000   </td><td> 99.563  </td><td>OTU_199  </td><td>Low pH   </td></tr>\n",
       "\t<tr><td>sq10014  </td><td> 97.817  </td><td>OTU_147  </td><td>Others #3</td></tr>\n",
       "\t<tr><td>sq10015  </td><td> 97.391  </td><td>OTU_512  </td><td>High pH  </td></tr>\n",
       "</tbody>\n",
       "</table>\n"
      ],
      "text/latex": [
       "\\begin{tabular}{r|llll}\n",
       " OTU & pident & SoilAtlasID & SA\\_Ecol\\_cluster\\\\\n",
       "\\hline\n",
       "\t sq1         & 100.000     & OTU\\_22    & Undefined  \\\\\n",
       "\t sq10        &  98.690     & OTU\\_25205 & Undefined  \\\\\n",
       "\t sq100       & 100.000     & OTU\\_343   & Undefined  \\\\\n",
       "\t sq1000      &  99.563     & OTU\\_199   & Low pH     \\\\\n",
       "\t sq10014     &  97.817     & OTU\\_147   & Others \\#3\\\\\n",
       "\t sq10015     &  97.391     & OTU\\_512   & High pH    \\\\\n",
       "\\end{tabular}\n"
      ],
      "text/markdown": [
       "\n",
       "OTU | pident | SoilAtlasID | SA_Ecol_cluster | \n",
       "|---|---|---|---|---|---|\n",
       "| sq1       | 100.000   | OTU_22    | Undefined | \n",
       "| sq10      |  98.690   | OTU_25205 | Undefined | \n",
       "| sq100     | 100.000   | OTU_343   | Undefined | \n",
       "| sq1000    |  99.563   | OTU_199   | Low pH    | \n",
       "| sq10014   |  97.817   | OTU_147   | Others #3 | \n",
       "| sq10015   |  97.391   | OTU_512   | High pH   | \n",
       "\n",
       "\n"
      ],
      "text/plain": [
       "  OTU     pident  SoilAtlasID SA_Ecol_cluster\n",
       "1 sq1     100.000 OTU_22      Undefined      \n",
       "2 sq10     98.690 OTU_25205   Undefined      \n",
       "3 sq100   100.000 OTU_343     Undefined      \n",
       "4 sq1000   99.563 OTU_199     Low pH         \n",
       "5 sq10014  97.817 OTU_147     Others #3      \n",
       "6 sq10015  97.391 OTU_512     High pH        "
      ]
     },
     "metadata": {},
     "output_type": "display_data"
    },
    {
     "data": {
      "text/html": [
       "<ol class=list-inline>\n",
       "\t<li>3386</li>\n",
       "\t<li>4</li>\n",
       "</ol>\n"
      ],
      "text/latex": [
       "\\begin{enumerate*}\n",
       "\\item 3386\n",
       "\\item 4\n",
       "\\end{enumerate*}\n"
      ],
      "text/markdown": [
       "1. 3386\n",
       "2. 4\n",
       "\n",
       "\n"
      ],
      "text/plain": [
       "[1] 3386    4"
      ]
     },
     "metadata": {},
     "output_type": "display_data"
    }
   ],
   "source": [
    "blast.filt = blast.filt%>%\n",
    "    dplyr::group_by(OTU)%>%\n",
    "    dplyr::filter(pident==max(pident))%>%\n",
    "    dplyr::summarize(pident=mean(pident),SoilAtlasID=paste(SoilAtlasID,collapse=\";\"),SA_Ecol_cluster=paste(droplevels((as.factor(SA_Ecol_cluster))),collapse=\";\"))%>%\n",
    "    dplyr::arrange(OTU)\n",
    "head(blast.filt)\n",
    "dim(blast.filt)\n",
    "# In some cases, there is a tie for the best BLAST match.\n",
    "# In those cases, I list all the Soil Atlas matches, separated by ;\n",
    "# The mean is just used to gather the value - they are the same for all the matches."
   ]
  },
  {
   "cell_type": "code",
   "execution_count": 31,
   "metadata": {},
   "outputs": [
    {
     "data": {
      "text/html": [
       "<table>\n",
       "<thead><tr><th scope=col>OTU</th><th scope=col>pident</th><th scope=col>SoilAtlasID</th><th scope=col>SA_Ecol_cluster</th><th scope=col>L2FC</th><th scope=col>adj.P.Val</th></tr></thead>\n",
       "<tbody>\n",
       "\t<tr><td>sq1      </td><td>100.000  </td><td>OTU_22   </td><td>Undefined</td><td>3.536216 </td><td>2.15e-09 </td></tr>\n",
       "\t<tr><td>sq10     </td><td> 98.690  </td><td>OTU_25205</td><td>Undefined</td><td>      NA </td><td>      NA </td></tr>\n",
       "\t<tr><td>sq100    </td><td>100.000  </td><td>OTU_343  </td><td>Undefined</td><td>      NA </td><td>      NA </td></tr>\n",
       "\t<tr><td>sq1000   </td><td> 99.563  </td><td>OTU_199  </td><td>Low pH   </td><td>      NA </td><td>      NA </td></tr>\n",
       "\t<tr><td>sq10000  </td><td>     NA  </td><td>NA       </td><td>NA       </td><td>      NA </td><td>      NA </td></tr>\n",
       "\t<tr><td>sq10001  </td><td>     NA  </td><td>NA       </td><td>NA       </td><td>      NA </td><td>      NA </td></tr>\n",
       "</tbody>\n",
       "</table>\n"
      ],
      "text/latex": [
       "\\begin{tabular}{r|llllll}\n",
       " OTU & pident & SoilAtlasID & SA\\_Ecol\\_cluster & L2FC & adj.P.Val\\\\\n",
       "\\hline\n",
       "\t sq1         & 100.000     & OTU\\_22    & Undefined   & 3.536216    & 2.15e-09   \\\\\n",
       "\t sq10        &  98.690     & OTU\\_25205 & Undefined   &       NA    &       NA   \\\\\n",
       "\t sq100       & 100.000     & OTU\\_343   & Undefined   &       NA    &       NA   \\\\\n",
       "\t sq1000      &  99.563     & OTU\\_199   & Low pH      &       NA    &       NA   \\\\\n",
       "\t sq10000   &      NA   & NA        & NA        &       NA  &       NA \\\\\n",
       "\t sq10001   &      NA   & NA        & NA        &       NA  &       NA \\\\\n",
       "\\end{tabular}\n"
      ],
      "text/markdown": [
       "\n",
       "OTU | pident | SoilAtlasID | SA_Ecol_cluster | L2FC | adj.P.Val | \n",
       "|---|---|---|---|---|---|\n",
       "| sq1       | 100.000   | OTU_22    | Undefined | 3.536216  | 2.15e-09  | \n",
       "| sq10      |  98.690   | OTU_25205 | Undefined |       NA  |       NA  | \n",
       "| sq100     | 100.000   | OTU_343   | Undefined |       NA  |       NA  | \n",
       "| sq1000    |  99.563   | OTU_199   | Low pH    |       NA  |       NA  | \n",
       "| sq10000   |      NA   | NA        | NA        |       NA  |       NA  | \n",
       "| sq10001   |      NA   | NA        | NA        |       NA  |       NA  | \n",
       "\n",
       "\n"
      ],
      "text/plain": [
       "  OTU     pident  SoilAtlasID SA_Ecol_cluster L2FC     adj.P.Val\n",
       "1 sq1     100.000 OTU_22      Undefined       3.536216 2.15e-09 \n",
       "2 sq10     98.690 OTU_25205   Undefined             NA       NA \n",
       "3 sq100   100.000 OTU_343     Undefined             NA       NA \n",
       "4 sq1000   99.563 OTU_199     Low pH                NA       NA \n",
       "5 sq10000      NA NA          NA                    NA       NA \n",
       "6 sq10001      NA NA          NA                    NA       NA "
      ]
     },
     "metadata": {},
     "output_type": "display_data"
    }
   ],
   "source": [
    "# Combining fire responders and soil atlas ID taxa\n",
    "\n",
    "OTUs = data.frame(OTU=row.names(tax_table(ps.norm)))\n",
    "blast.filt = merge(OTUs,blast.filt,by=\"OTU\",all.x=TRUE)\n",
    "\n",
    "FireResponders = read.csv(\"Responders16S.csv\")\n",
    "colnames(FireResponders)[2]=\"L2FC\"\n",
    "\n",
    "blast.filt = merge(blast.filt,FireResponders[,c(1,2,5)],by=\"OTU\",all.x=TRUE)\n",
    "head(blast.filt)"
   ]
  },
  {
   "cell_type": "code",
   "execution_count": 32,
   "metadata": {},
   "outputs": [
    {
     "data": {
      "text/html": [
       "<table>\n",
       "<thead><tr><th scope=col>OTU</th><th scope=col>Sample</th><th scope=col>Abundance</th><th scope=col>Barcodes</th><th scope=col>Sample_ID</th><th scope=col>Site_ID</th><th scope=col>Org_or_Min</th><th scope=col>Exch_Na_mg_kg</th><th scope=col>Exch_Mg_mg_kg</th><th scope=col>Exch_K_mg_kg</th><th scope=col>⋯</th><th scope=col>Class</th><th scope=col>Order</th><th scope=col>Family</th><th scope=col>Genus</th><th scope=col>pident</th><th scope=col>SoilAtlasID</th><th scope=col>SA_Ecol_cluster</th><th scope=col>L2FC</th><th scope=col>adj.P.Val</th><th scope=col>InAtlas</th></tr></thead>\n",
       "<tbody>\n",
       "\t<tr><td>sq1             </td><td>15S-NT-38O      </td><td>0.20300057      </td><td>GGATAAGATGCCTACT</td><td>15S-NT-38O      </td><td>15S-NT-38       </td><td>O               </td><td> 0.00           </td><td>  0.0           </td><td>  0.0           </td><td>⋯               </td><td>Actinobacteria  </td><td>Micrococcales   </td><td>Micrococcaceae  </td><td>                </td><td>100             </td><td>OTU_22          </td><td>Undefined       </td><td>3.536216        </td><td>2.15e-09        </td><td>1               </td></tr>\n",
       "\t<tr><td>sq1             </td><td>15S-WB-04M      </td><td>0.04124615      </td><td>GTCTGCAGACGCGCGT</td><td>15S-WB-04M      </td><td>15S-WB-04       </td><td>M               </td><td>47.41           </td><td> 58.4           </td><td>138.0           </td><td>⋯               </td><td>Actinobacteria  </td><td>Micrococcales   </td><td>Micrococcaceae  </td><td>                </td><td>100             </td><td>OTU_22          </td><td>Undefined       </td><td>3.536216        </td><td>2.15e-09        </td><td>1               </td></tr>\n",
       "\t<tr><td>sq1             </td><td>15S-NT-46M      </td><td>0.22950264      </td><td>CGCATGAGAGAGACGT</td><td>15S-NT-46M      </td><td>15S-NT-46       </td><td>M               </td><td>53.10           </td><td>141.2           </td><td>166.4           </td><td>⋯               </td><td>Actinobacteria  </td><td>Micrococcales   </td><td>Micrococcaceae  </td><td>                </td><td>100             </td><td>OTU_22          </td><td>Undefined       </td><td>3.536216        </td><td>2.15e-09        </td><td>1               </td></tr>\n",
       "\t<tr><td>sq1             </td><td>15S-WB-13O      </td><td>0.03120844      </td><td>GGATAAGAGGATAAGG</td><td>15S-WB-13O      </td><td>15S-WB-13       </td><td>O               </td><td> 0.00           </td><td>  0.0           </td><td>  0.0           </td><td>⋯               </td><td>Actinobacteria  </td><td>Micrococcales   </td><td>Micrococcaceae  </td><td>                </td><td>100             </td><td>OTU_22          </td><td>Undefined       </td><td>3.536216        </td><td>2.15e-09        </td><td>1               </td></tr>\n",
       "\t<tr><td>sq1             </td><td>15S-WB-16O      </td><td>0.07646501      </td><td>AGGCTGAAACGCATTC</td><td>15S-WB-16O      </td><td>15S-WB-16       </td><td>O               </td><td> 0.00           </td><td>  0.0           </td><td>  0.0           </td><td>⋯               </td><td>Actinobacteria  </td><td>Micrococcales   </td><td>Micrococcaceae  </td><td>                </td><td>100             </td><td>OTU_22          </td><td>Undefined       </td><td>3.536216        </td><td>2.15e-09        </td><td>1               </td></tr>\n",
       "\t<tr><td>sq1             </td><td>15S-NT-50O      </td><td>0.01019987      </td><td>GGATAAGATCTTGAAT</td><td>15S-NT-50O      </td><td>15S-NT-50       </td><td>O               </td><td> 0.00           </td><td>  0.0           </td><td>  0.0           </td><td>⋯               </td><td>Actinobacteria  </td><td>Micrococcales   </td><td>Micrococcaceae  </td><td>                </td><td>100             </td><td>OTU_22          </td><td>Undefined       </td><td>3.536216        </td><td>2.15e-09        </td><td>1               </td></tr>\n",
       "</tbody>\n",
       "</table>\n"
      ],
      "text/latex": [
       "\\begin{tabular}{r|llllllllllllllllllllllllllllllllllllllllllllllllllllllllllllllllllllllllllllllllllllllllllllllllllllllllllllllllllllll}\n",
       " OTU & Sample & Abundance & Barcodes & Sample\\_ID & Site\\_ID & Org\\_or\\_Min & Exch\\_Na\\_mg\\_kg & Exch\\_Mg\\_mg\\_kg & Exch\\_K\\_mg\\_kg & ⋯ & Class & Order & Family & Genus & pident & SoilAtlasID & SA\\_Ecol\\_cluster & L2FC & adj.P.Val & InAtlas\\\\\n",
       "\\hline\n",
       "\t sq1              & 15S-NT-38O       & 0.20300057       & GGATAAGATGCCTACT & 15S-NT-38O       & 15S-NT-38        & O                &  0.00            &   0.0            &   0.0            & ⋯                & Actinobacteria   & Micrococcales    & Micrococcaceae   &                  & 100              & OTU\\_22         & Undefined        & 3.536216         & 2.15e-09         & 1               \\\\\n",
       "\t sq1              & 15S-WB-04M       & 0.04124615       & GTCTGCAGACGCGCGT & 15S-WB-04M       & 15S-WB-04        & M                & 47.41            &  58.4            & 138.0            & ⋯                & Actinobacteria   & Micrococcales    & Micrococcaceae   &                  & 100              & OTU\\_22         & Undefined        & 3.536216         & 2.15e-09         & 1               \\\\\n",
       "\t sq1              & 15S-NT-46M       & 0.22950264       & CGCATGAGAGAGACGT & 15S-NT-46M       & 15S-NT-46        & M                & 53.10            & 141.2            & 166.4            & ⋯                & Actinobacteria   & Micrococcales    & Micrococcaceae   &                  & 100              & OTU\\_22         & Undefined        & 3.536216         & 2.15e-09         & 1               \\\\\n",
       "\t sq1              & 15S-WB-13O       & 0.03120844       & GGATAAGAGGATAAGG & 15S-WB-13O       & 15S-WB-13        & O                &  0.00            &   0.0            &   0.0            & ⋯                & Actinobacteria   & Micrococcales    & Micrococcaceae   &                  & 100              & OTU\\_22         & Undefined        & 3.536216         & 2.15e-09         & 1               \\\\\n",
       "\t sq1              & 15S-WB-16O       & 0.07646501       & AGGCTGAAACGCATTC & 15S-WB-16O       & 15S-WB-16        & O                &  0.00            &   0.0            &   0.0            & ⋯                & Actinobacteria   & Micrococcales    & Micrococcaceae   &                  & 100              & OTU\\_22         & Undefined        & 3.536216         & 2.15e-09         & 1               \\\\\n",
       "\t sq1              & 15S-NT-50O       & 0.01019987       & GGATAAGATCTTGAAT & 15S-NT-50O       & 15S-NT-50        & O                &  0.00            &   0.0            &   0.0            & ⋯                & Actinobacteria   & Micrococcales    & Micrococcaceae   &                  & 100              & OTU\\_22         & Undefined        & 3.536216         & 2.15e-09         & 1               \\\\\n",
       "\\end{tabular}\n"
      ],
      "text/markdown": [
       "\n",
       "OTU | Sample | Abundance | Barcodes | Sample_ID | Site_ID | Org_or_Min | Exch_Na_mg_kg | Exch_Mg_mg_kg | Exch_K_mg_kg | ⋯ | Class | Order | Family | Genus | pident | SoilAtlasID | SA_Ecol_cluster | L2FC | adj.P.Val | InAtlas | \n",
       "|---|---|---|---|---|---|\n",
       "| sq1              | 15S-NT-38O       | 0.20300057       | GGATAAGATGCCTACT | 15S-NT-38O       | 15S-NT-38        | O                |  0.00            |   0.0            |   0.0            | ⋯                | Actinobacteria   | Micrococcales    | Micrococcaceae   |                  | 100              | OTU_22           | Undefined        | 3.536216         | 2.15e-09         | 1                | \n",
       "| sq1              | 15S-WB-04M       | 0.04124615       | GTCTGCAGACGCGCGT | 15S-WB-04M       | 15S-WB-04        | M                | 47.41            |  58.4            | 138.0            | ⋯                | Actinobacteria   | Micrococcales    | Micrococcaceae   |                  | 100              | OTU_22           | Undefined        | 3.536216         | 2.15e-09         | 1                | \n",
       "| sq1              | 15S-NT-46M       | 0.22950264       | CGCATGAGAGAGACGT | 15S-NT-46M       | 15S-NT-46        | M                | 53.10            | 141.2            | 166.4            | ⋯                | Actinobacteria   | Micrococcales    | Micrococcaceae   |                  | 100              | OTU_22           | Undefined        | 3.536216         | 2.15e-09         | 1                | \n",
       "| sq1              | 15S-WB-13O       | 0.03120844       | GGATAAGAGGATAAGG | 15S-WB-13O       | 15S-WB-13        | O                |  0.00            |   0.0            |   0.0            | ⋯                | Actinobacteria   | Micrococcales    | Micrococcaceae   |                  | 100              | OTU_22           | Undefined        | 3.536216         | 2.15e-09         | 1                | \n",
       "| sq1              | 15S-WB-16O       | 0.07646501       | AGGCTGAAACGCATTC | 15S-WB-16O       | 15S-WB-16        | O                |  0.00            |   0.0            |   0.0            | ⋯                | Actinobacteria   | Micrococcales    | Micrococcaceae   |                  | 100              | OTU_22           | Undefined        | 3.536216         | 2.15e-09         | 1                | \n",
       "| sq1              | 15S-NT-50O       | 0.01019987       | GGATAAGATCTTGAAT | 15S-NT-50O       | 15S-NT-50        | O                |  0.00            |   0.0            |   0.0            | ⋯                | Actinobacteria   | Micrococcales    | Micrococcaceae   |                  | 100              | OTU_22           | Undefined        | 3.536216         | 2.15e-09         | 1                | \n",
       "\n",
       "\n"
      ],
      "text/plain": [
       "  OTU Sample     Abundance  Barcodes         Sample_ID  Site_ID   Org_or_Min\n",
       "1 sq1 15S-NT-38O 0.20300057 GGATAAGATGCCTACT 15S-NT-38O 15S-NT-38 O         \n",
       "2 sq1 15S-WB-04M 0.04124615 GTCTGCAGACGCGCGT 15S-WB-04M 15S-WB-04 M         \n",
       "3 sq1 15S-NT-46M 0.22950264 CGCATGAGAGAGACGT 15S-NT-46M 15S-NT-46 M         \n",
       "4 sq1 15S-WB-13O 0.03120844 GGATAAGAGGATAAGG 15S-WB-13O 15S-WB-13 O         \n",
       "5 sq1 15S-WB-16O 0.07646501 AGGCTGAAACGCATTC 15S-WB-16O 15S-WB-16 O         \n",
       "6 sq1 15S-NT-50O 0.01019987 GGATAAGATCTTGAAT 15S-NT-50O 15S-NT-50 O         \n",
       "  Exch_Na_mg_kg Exch_Mg_mg_kg Exch_K_mg_kg ⋯ Class          Order        \n",
       "1  0.00           0.0           0.0        ⋯ Actinobacteria Micrococcales\n",
       "2 47.41          58.4         138.0        ⋯ Actinobacteria Micrococcales\n",
       "3 53.10         141.2         166.4        ⋯ Actinobacteria Micrococcales\n",
       "4  0.00           0.0           0.0        ⋯ Actinobacteria Micrococcales\n",
       "5  0.00           0.0           0.0        ⋯ Actinobacteria Micrococcales\n",
       "6  0.00           0.0           0.0        ⋯ Actinobacteria Micrococcales\n",
       "  Family         Genus pident SoilAtlasID SA_Ecol_cluster L2FC     adj.P.Val\n",
       "1 Micrococcaceae       100    OTU_22      Undefined       3.536216 2.15e-09 \n",
       "2 Micrococcaceae       100    OTU_22      Undefined       3.536216 2.15e-09 \n",
       "3 Micrococcaceae       100    OTU_22      Undefined       3.536216 2.15e-09 \n",
       "4 Micrococcaceae       100    OTU_22      Undefined       3.536216 2.15e-09 \n",
       "5 Micrococcaceae       100    OTU_22      Undefined       3.536216 2.15e-09 \n",
       "6 Micrococcaceae       100    OTU_22      Undefined       3.536216 2.15e-09 \n",
       "  InAtlas\n",
       "1 1      \n",
       "2 1      \n",
       "3 1      \n",
       "4 1      \n",
       "5 1      \n",
       "6 1      "
      ]
     },
     "metadata": {},
     "output_type": "display_data"
    }
   ],
   "source": [
    "# Merging the melted ps object with the OTU status (Global Soil Dataset or Fire Responder)\n",
    "mdf.2 = merge(mdf,blast.filt,by=\"OTU\",all.x=TRUE)\n",
    "mdf.2$InAtlas = ifelse(is.na(mdf.2$SoilAtlasID),0,1)\n",
    "head(mdf.2)"
   ]
  },
  {
   "cell_type": "code",
   "execution_count": 33,
   "metadata": {},
   "outputs": [
    {
     "data": {
      "text/html": [
       "<table>\n",
       "<thead><tr><th scope=col>FireResp</th><th scope=col>InAtlas</th><th scope=col>N</th><th scope=col>Ntot</th><th scope=col>Fraction</th></tr></thead>\n",
       "<tbody>\n",
       "\t<tr><td>Negative    </td><td>No          </td><td>   56       </td><td>  133       </td><td>0.4210526   </td></tr>\n",
       "\t<tr><td>Negative    </td><td>Yes         </td><td>   77       </td><td>  133       </td><td>0.5789474   </td></tr>\n",
       "\t<tr><td>Not Detected</td><td>No          </td><td>16461       </td><td>19695       </td><td>0.8357959   </td></tr>\n",
       "\t<tr><td>Not Detected</td><td>Yes         </td><td> 3234       </td><td>19695       </td><td>0.1642041   </td></tr>\n",
       "\t<tr><td>Positive    </td><td>No          </td><td>   85       </td><td>  160       </td><td>0.5312500   </td></tr>\n",
       "\t<tr><td>Positive    </td><td>Yes         </td><td>   75       </td><td>  160       </td><td>0.4687500   </td></tr>\n",
       "</tbody>\n",
       "</table>\n"
      ],
      "text/latex": [
       "\\begin{tabular}{r|lllll}\n",
       " FireResp & InAtlas & N & Ntot & Fraction\\\\\n",
       "\\hline\n",
       "\t Negative     & No           &    56        &   133        & 0.4210526   \\\\\n",
       "\t Negative     & Yes          &    77        &   133        & 0.5789474   \\\\\n",
       "\t Not Detected & No           & 16461        & 19695        & 0.8357959   \\\\\n",
       "\t Not Detected & Yes          &  3234        & 19695        & 0.1642041   \\\\\n",
       "\t Positive     & No           &    85        &   160        & 0.5312500   \\\\\n",
       "\t Positive     & Yes          &    75        &   160        & 0.4687500   \\\\\n",
       "\\end{tabular}\n"
      ],
      "text/markdown": [
       "\n",
       "FireResp | InAtlas | N | Ntot | Fraction | \n",
       "|---|---|---|---|---|---|\n",
       "| Negative     | No           |    56        |   133        | 0.4210526    | \n",
       "| Negative     | Yes          |    77        |   133        | 0.5789474    | \n",
       "| Not Detected | No           | 16461        | 19695        | 0.8357959    | \n",
       "| Not Detected | Yes          |  3234        | 19695        | 0.1642041    | \n",
       "| Positive     | No           |    85        |   160        | 0.5312500    | \n",
       "| Positive     | Yes          |    75        |   160        | 0.4687500    | \n",
       "\n",
       "\n"
      ],
      "text/plain": [
       "  FireResp     InAtlas N     Ntot  Fraction \n",
       "1 Negative     No         56   133 0.4210526\n",
       "2 Negative     Yes        77   133 0.5789474\n",
       "3 Not Detected No      16461 19695 0.8357959\n",
       "4 Not Detected Yes      3234 19695 0.1642041\n",
       "5 Positive     No         85   160 0.5312500\n",
       "6 Positive     Yes        75   160 0.4687500"
      ]
     },
     "metadata": {},
     "output_type": "display_data"
    }
   ],
   "source": [
    "### What I want to know:\n",
    "# Are the fire-responders over- or under-represented in the SoilAtlas?\n",
    "# So, if I look at the list of fire responders, how many of them (total #) are in the Atlas?\n",
    "# Also, how does that compare to the overall community?\n",
    "# First, let's look at the OTU counts\n",
    "\n",
    "df = blast.filt %>%\n",
    "    mutate(FireResp = ifelse(is.na(L2FC),\"Not Detected\",ifelse(L2FC>0,\"Positive\",\"Negative\")))%>%\n",
    "    mutate(InAtlas = ifelse(is.na(SoilAtlasID),\"No\",\"Yes\"))%>%\n",
    "    group_by(FireResp,InAtlas)%>%\n",
    "    summarize(N=n())%>%\n",
    "    group_by(FireResp)%>%\n",
    "    mutate(Ntot=sum(N))%>%\n",
    "    mutate(Fraction = N/Ntot)\n",
    "df\n",
    "\n",
    "# This indicates, of all the OTUs, what fraction are listed in the Atlas, by each fire response category?\n",
    "# Basically, more of the responders are listed (makes sense, probably less rare orgs rarely sufficient to be signif)\n",
    "# Seems like negative responders more in atlas than pos?\n",
    "# Next, ask same question, but proportional by abundance of OTUs."
   ]
  },
  {
   "cell_type": "code",
   "execution_count": 34,
   "metadata": {},
   "outputs": [
    {
     "data": {},
     "metadata": {},
     "output_type": "display_data"
    },
    {
     "data": {
      "image/png": "[encoded data removed]",
      "text/plain": [
       "plot without title"
      ]
     },
     "metadata": {},
     "output_type": "display_data"
    }
   ],
   "source": [
    "# What fraction of all OTUs are in the atlas?\n",
    "options(repr.plot.width=7, repr.plot.height=3)\n",
    "\n",
    "p = ggplot(data=df, aes(x=FireResp,y=Fraction,fill=InAtlas))\n",
    "p = p + geom_bar(stat=\"identity\",position = \"stack\")\n",
    "p = p + theme_bw()\n",
    "p = p + theme(strip.text.y = element_text(face=\"italic\"))\n",
    "palette=c(\"gray85\",\"gray50\")\n",
    "p = p + scale_fill_manual(values=palette)\n",
    "p = p + scale_color_manual(values=palette)\n",
    "p = p + ylab(\"Fraction of all OTUs in Category\") + xlab(\"Fire Response\")\n",
    "#p = p + facet_wrap(~Burned_Unburned, scales=\"free\") + expand_limits(y=0) #+ guides(fill=FALSE)\n",
    "p"
   ]
  },
  {
   "cell_type": "code",
   "execution_count": 35,
   "metadata": {},
   "outputs": [
    {
     "data": {
      "text/html": [
       "<table>\n",
       "<thead><tr><th scope=col>FireResp</th><th scope=col>InAtlas</th><th scope=col>Sample</th><th scope=col>Veg_Comm</th><th scope=col>Land_Class</th><th scope=col>Severity_Class</th><th scope=col>Org_or_Min</th><th scope=col>TotAbund</th></tr></thead>\n",
       "<tbody>\n",
       "\t<tr><td>Not Detected </td><td>No           </td><td>15S-NT-19O   </td><td>Treed Wetland</td><td>Wetland      </td><td>Moderate     </td><td>O            </td><td>0.2480734    </td></tr>\n",
       "\t<tr><td>Not Detected </td><td>No           </td><td>15S-NT-20O   </td><td>Open Wetland </td><td>Wetland      </td><td>Low          </td><td>O            </td><td>0.3775012    </td></tr>\n",
       "\t<tr><td>Not Detected </td><td>No           </td><td>15S-NT-21M   </td><td>Open Wetland </td><td>Wetland      </td><td>Low          </td><td>M            </td><td>0.4142410    </td></tr>\n",
       "\t<tr><td>Not Detected </td><td>No           </td><td>15S-NT-21O   </td><td>Open Wetland </td><td>Wetland      </td><td>Low          </td><td>O            </td><td>0.4042755    </td></tr>\n",
       "\t<tr><td>Not Detected </td><td>No           </td><td>15S-NT-22M   </td><td>Jack Pine    </td><td>Upland       </td><td>Moderate     </td><td>M            </td><td>0.2292885    </td></tr>\n",
       "\t<tr><td>Not Detected </td><td>No           </td><td>15S-NT-22O   </td><td>Jack Pine    </td><td>Upland       </td><td>Moderate     </td><td>O            </td><td>0.2158301    </td></tr>\n",
       "</tbody>\n",
       "</table>\n"
      ],
      "text/latex": [
       "\\begin{tabular}{r|llllllll}\n",
       " FireResp & InAtlas & Sample & Veg\\_Comm & Land\\_Class & Severity\\_Class & Org\\_or\\_Min & TotAbund\\\\\n",
       "\\hline\n",
       "\t Not Detected  & No            & 15S-NT-19O    & Treed Wetland & Wetland       & Moderate      & O             & 0.2480734    \\\\\n",
       "\t Not Detected  & No            & 15S-NT-20O    & Open Wetland  & Wetland       & Low           & O             & 0.3775012    \\\\\n",
       "\t Not Detected  & No            & 15S-NT-21M    & Open Wetland  & Wetland       & Low           & M             & 0.4142410    \\\\\n",
       "\t Not Detected  & No            & 15S-NT-21O    & Open Wetland  & Wetland       & Low           & O             & 0.4042755    \\\\\n",
       "\t Not Detected  & No            & 15S-NT-22M    & Jack Pine     & Upland        & Moderate      & M             & 0.2292885    \\\\\n",
       "\t Not Detected  & No            & 15S-NT-22O    & Jack Pine     & Upland        & Moderate      & O             & 0.2158301    \\\\\n",
       "\\end{tabular}\n"
      ],
      "text/markdown": [
       "\n",
       "FireResp | InAtlas | Sample | Veg_Comm | Land_Class | Severity_Class | Org_or_Min | TotAbund | \n",
       "|---|---|---|---|---|---|\n",
       "| Not Detected  | No            | 15S-NT-19O    | Treed Wetland | Wetland       | Moderate      | O             | 0.2480734     | \n",
       "| Not Detected  | No            | 15S-NT-20O    | Open Wetland  | Wetland       | Low           | O             | 0.3775012     | \n",
       "| Not Detected  | No            | 15S-NT-21M    | Open Wetland  | Wetland       | Low           | M             | 0.4142410     | \n",
       "| Not Detected  | No            | 15S-NT-21O    | Open Wetland  | Wetland       | Low           | O             | 0.4042755     | \n",
       "| Not Detected  | No            | 15S-NT-22M    | Jack Pine     | Upland        | Moderate      | M             | 0.2292885     | \n",
       "| Not Detected  | No            | 15S-NT-22O    | Jack Pine     | Upland        | Moderate      | O             | 0.2158301     | \n",
       "\n",
       "\n"
      ],
      "text/plain": [
       "  FireResp     InAtlas Sample     Veg_Comm      Land_Class Severity_Class\n",
       "1 Not Detected No      15S-NT-19O Treed Wetland Wetland    Moderate      \n",
       "2 Not Detected No      15S-NT-20O Open Wetland  Wetland    Low           \n",
       "3 Not Detected No      15S-NT-21M Open Wetland  Wetland    Low           \n",
       "4 Not Detected No      15S-NT-21O Open Wetland  Wetland    Low           \n",
       "5 Not Detected No      15S-NT-22M Jack Pine     Upland     Moderate      \n",
       "6 Not Detected No      15S-NT-22O Jack Pine     Upland     Moderate      \n",
       "  Org_or_Min TotAbund \n",
       "1 O          0.2480734\n",
       "2 O          0.3775012\n",
       "3 M          0.4142410\n",
       "4 O          0.4042755\n",
       "5 M          0.2292885\n",
       "6 O          0.2158301"
      ]
     },
     "metadata": {},
     "output_type": "display_data"
    }
   ],
   "source": [
    "df = mdf.2 %>%\n",
    "    filter(Burned_Unburned==\"Burned\")%>%\n",
    "    #mutate(FireResp = ifelse(is.na(L2FC),\"Not Detected\",ifelse(L2FC>0,\"Positive\",\"Negative\")))%>%\n",
    "    mutate(FireResp = ifelse(is.na(L2FC),\"Not Detected\",\"Responder\"))%>% \n",
    "    mutate(InAtlas = ifelse(is.na(SoilAtlasID),\"No\",\"Yes\"))%>%\n",
    "    group_by(FireResp,InAtlas,Sample,Veg_Comm,Land_Class,Severity_Class,Org_or_Min)%>%\n",
    "    summarize(TotAbund=sum(Abundance))\n",
    "head(df)"
   ]
  },
  {
   "cell_type": "code",
   "execution_count": 36,
   "metadata": {},
   "outputs": [
    {
     "data": {
      "text/html": [
       "<table>\n",
       "<thead><tr><th scope=col>FireResp</th><th scope=col>InAtlas</th><th scope=col>MeanAbund</th><th scope=col>RelMeanAbund</th></tr></thead>\n",
       "<tbody>\n",
       "\t<tr><td>Negative    </td><td>No          </td><td>0.03966227  </td><td>0.2592580   </td></tr>\n",
       "\t<tr><td>Negative    </td><td>Yes         </td><td>0.11332152  </td><td>0.7407420   </td></tr>\n",
       "\t<tr><td>Not Detected</td><td>No          </td><td>0.33910164  </td><td>0.5503069   </td></tr>\n",
       "\t<tr><td>Not Detected</td><td>Yes         </td><td>0.27710298  </td><td>0.4496931   </td></tr>\n",
       "\t<tr><td>Positive    </td><td>No          </td><td>0.08699965  </td><td>0.3769293   </td></tr>\n",
       "\t<tr><td>Positive    </td><td>Yes         </td><td>0.14381195  </td><td>0.6230707   </td></tr>\n",
       "</tbody>\n",
       "</table>\n"
      ],
      "text/latex": [
       "\\begin{tabular}{r|llll}\n",
       " FireResp & InAtlas & MeanAbund & RelMeanAbund\\\\\n",
       "\\hline\n",
       "\t Negative     & No           & 0.03966227   & 0.2592580   \\\\\n",
       "\t Negative     & Yes          & 0.11332152   & 0.7407420   \\\\\n",
       "\t Not Detected & No           & 0.33910164   & 0.5503069   \\\\\n",
       "\t Not Detected & Yes          & 0.27710298   & 0.4496931   \\\\\n",
       "\t Positive     & No           & 0.08699965   & 0.3769293   \\\\\n",
       "\t Positive     & Yes          & 0.14381195   & 0.6230707   \\\\\n",
       "\\end{tabular}\n"
      ],
      "text/markdown": [
       "\n",
       "FireResp | InAtlas | MeanAbund | RelMeanAbund | \n",
       "|---|---|---|---|---|---|\n",
       "| Negative     | No           | 0.03966227   | 0.2592580    | \n",
       "| Negative     | Yes          | 0.11332152   | 0.7407420    | \n",
       "| Not Detected | No           | 0.33910164   | 0.5503069    | \n",
       "| Not Detected | Yes          | 0.27710298   | 0.4496931    | \n",
       "| Positive     | No           | 0.08699965   | 0.3769293    | \n",
       "| Positive     | Yes          | 0.14381195   | 0.6230707    | \n",
       "\n",
       "\n"
      ],
      "text/plain": [
       "  FireResp     InAtlas MeanAbund  RelMeanAbund\n",
       "1 Negative     No      0.03966227 0.2592580   \n",
       "2 Negative     Yes     0.11332152 0.7407420   \n",
       "3 Not Detected No      0.33910164 0.5503069   \n",
       "4 Not Detected Yes     0.27710298 0.4496931   \n",
       "5 Positive     No      0.08699965 0.3769293   \n",
       "6 Positive     Yes     0.14381195 0.6230707   "
      ]
     },
     "metadata": {},
     "output_type": "display_data"
    }
   ],
   "source": [
    "df  = mdf.2 %>%\n",
    "    mutate(FireResp = ifelse(is.na(L2FC),\"Not Detected\",ifelse(L2FC>0,\"Positive\",\"Negative\")))%>%\n",
    "    mutate(InAtlas = ifelse(is.na(SoilAtlasID),\"No\",\"Yes\"))%>%\n",
    "    group_by(FireResp,InAtlas,Sample)%>%\n",
    "    summarize(TotAbund = sum(Abundance))%>%\n",
    "    group_by(FireResp,InAtlas)%>%\n",
    "    summarize(MeanAbund=mean(TotAbund))%>%\n",
    "    mutate(RelMeanAbund = MeanAbund/sum(MeanAbund))\n",
    "df"
   ]
  },
  {
   "cell_type": "code",
   "execution_count": 37,
   "metadata": {},
   "outputs": [
    {
     "data": {},
     "metadata": {},
     "output_type": "display_data"
    },
    {
     "data": {
      "image/png": "[encoded data removed]",
      "text/plain": [
       "plot without title"
      ]
     },
     "metadata": {},
     "output_type": "display_data"
    }
   ],
   "source": [
    "options(repr.plot.width=7, repr.plot.height=3)\n",
    "\n",
    "p = ggplot(data=df, aes(x=FireResp,y=RelMeanAbund,fill=InAtlas))\n",
    "p = p + geom_bar(stat=\"identity\",position = \"stack\")\n",
    "p = p + theme_bw()\n",
    "p = p + theme(strip.text.y = element_text(face=\"italic\"))\n",
    "palette=c(\"gray85\",\"gray50\")\n",
    "p = p + scale_fill_manual(values=palette)\n",
    "p = p + scale_color_manual(values=palette)\n",
    "#p = p + facet_wrap(~Burned_Unburned, scales=\"free\") + expand_limits(y=0) #+ guides(fill=FALSE)\n",
    "p = p + ylab(\"Fraction of Community in Category\") + xlab(\"Fire Response\")\n",
    "p\n",
    "\n",
    "# Now we wonder if the diff in pos vs neg is significant"
   ]
  },
  {
   "cell_type": "code",
   "execution_count": null,
   "metadata": {},
   "outputs": [],
   "source": []
  }
 ],
 "metadata": {
  "kernelspec": {
   "display_name": "R",
   "language": "R",
   "name": "ir"
  },
  "language_info": {
   "codemirror_mode": "r",
   "file_extension": ".r",
   "mimetype": "text/x-r-source",
   "name": "R",
   "pygments_lexer": "r",
   "version": "3.4.3"
  }
 },
 "nbformat": 4,
 "nbformat_minor": 2
}
