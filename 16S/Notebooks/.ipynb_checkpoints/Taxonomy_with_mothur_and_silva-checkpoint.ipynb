{
 "cells": [
  {
   "cell_type": "code",
   "execution_count": 1,
   "metadata": {},
   "outputs": [
    {
     "name": "stdout",
     "output_type": "stream",
     "text": [
      "Loading extensions from ~/.ipython/extensions is deprecated. We recommend managing extensions like any other Python packages, in site-packages.\n"
     ]
    }
   ],
   "source": [
    "%load_ext mothurmagic\n",
    "# Remember to establish before starting: export PATH=$PATH:/opt/virt_env/bin/mothur"
   ]
  },
  {
   "cell_type": "code",
   "execution_count": 2,
   "metadata": {},
   "outputs": [
    {
     "name": "stdout",
     "output_type": "stream",
     "text": [
      "mothur > help()\n",
      "For more information about a specific command type 'commandName(help)' i.e. 'cluster(help)'\n",
      "\n",
      "For further assistance please refer to the Mothur manual on our wiki at http://www.mothur.org/wiki, or contact Pat Schloss at mothur.bugs@gmail.com.\n",
      "\n",
      "mothur > quit()\n"
     ]
    }
   ],
   "source": [
    "%%mothur\n",
    "help()"
   ]
  },
  {
   "cell_type": "code",
   "execution_count": 9,
   "metadata": {},
   "outputs": [
    {
     "name": "stdout",
     "output_type": "stream",
     "text": [
      "mothur > pcr.seqs(fasta=../../../../Databases/Silva/silva.nr_v128.align, taxonomy = ../../../../Databases/Silva/silva.nr_v128.tax, oligos=oligos.txt, processors=4)\n",
      "\n",
      "Using 4 processors.\n",
      "Removed 36400 sequences from your taxonomy file.\n",
      "\n",
      "Output File Names:\n",
      "../../../../Databases/Silva/silva.nr_v128.pcr.align\n",
      "../../../../Databases/Silva/silva.nr_v128.bad.accnos\n",
      "../../../../Databases/Silva/silva.nr_v128.scrap.pcr.align\n",
      "../../../../Databases/Silva/silva.nr_v128.pcr.tax\n",
      "\n",
      "\n",
      "It took 824 secs to screen 190661 sequences.\n",
      "\n",
      "mothur > quit()\n"
     ]
    }
   ],
   "source": [
    "%%mothur\n",
    "pcr.seqs(fasta=../../../../Databases/Silva/silva.nr_v128.align, taxonomy = ../../../../Databases/Silva/silva.nr_v128.tax, oligos=oligos.txt, processors=4)"
   ]
  },
  {
   "cell_type": "markdown",
   "metadata": {},
   "source": [
    "That should cut the aligned fasta file to just the range that we want for our 16S analyses. Note we had to keep the taxonomy file along with it, because otherwise there would be a mismatch after the \"pcr\" step\n",
    "\n",
    "Next up, we classify the sequences from the CHTC run, using the pcr'd template with its taxonomy info."
   ]
  },
  {
   "cell_type": "code",
   "execution_count": 3,
   "metadata": {
    "scrolled": false
   },
   "outputs": [
    {
     "name": "stdout",
     "output_type": "stream",
     "text": [
      "mothur > classify.seqs(fasta=../../../data/Seq_data/16S/CHTC/Dada2_Results_Full/DADA2_seqs_nochim.fasta, template=../../../../Databases/Silva/silva.nr_v128.pcr.align, taxonomy=../../../../Databases/Silva/silva.nr_v128.pcr.tax, method=knn, processors=4,output=simple)\n",
      "\n",
      "Using 4 processors.\n",
      "Generating search database...    DONE.\n",
      "It took 185 seconds generate search database.\n",
      "\n",
      "Reading in the ../../../../Databases/Silva/silva.nr_v128.pcr.tax taxonomy...\tDONE.\n",
      "Classifying sequences from ../../../data/Seq_data/16S/CHTC/Dada2_Results_Full/DADA2_seqs_nochim.fasta ...\n",
      "There are no common levels for sequence sq15274;size=8;.\n",
      "[WARNING]: sq15274;size=8; could not be classified. You can use the remove.lineage command with taxon=unknown; to remove such sequences.\n",
      "There are no common levels for sequence sq10301;size=23;.\n",
      "[WARNING]: sq10301;size=23; could not be classified. You can use the remove.lineage command with taxon=unknown; to remove such sequences.\n",
      "There are no common levels for sequence sq5712;size=65;.\n",
      "[WARNING]: sq5712;size=65; could not be classified. You can use the remove.lineage command with taxon=unknown; to remove such sequences.\n",
      "There are no common levels for sequence sq10768;size=21;.\n",
      "[WARNING]: sq10768;size=21; could not be classified. You can use the remove.lineage command with taxon=unknown; to remove such sequences.\n",
      "There are no common levels for sequence sq15836;size=7;.\n",
      "[WARNING]: sq15836;size=7; could not be classified. You can use the remove.lineage command with taxon=unknown; to remove such sequences.\n",
      "There are no common levels for sequence sq5957;size=61;.\n",
      "[WARNING]: sq5957;size=61; could not be classified. You can use the remove.lineage command with taxon=unknown; to remove such sequences.\n",
      "There are no common levels for sequence sq11283;size=19;.\n",
      "[WARNING]: sq11283;size=19; could not be classified. You can use the remove.lineage command with taxon=unknown; to remove such sequences.\n",
      "There are no common levels for sequence sq11905;size=17;.\n",
      "[WARNING]: sq11905;size=17; could not be classified. You can use the remove.lineage command with taxon=unknown; to remove such sequences.\n",
      "There are no common levels for sequence sq6977;size=47;.\n",
      "[WARNING]: sq6977;size=47; could not be classified. You can use the remove.lineage command with taxon=unknown; to remove such sequences.\n",
      "There are no common levels for sequence sq7045;size=46;.\n",
      "[WARNING]: sq7045;size=46; could not be classified. You can use the remove.lineage command with taxon=unknown; to remove such sequences.\n",
      "There are no common levels for sequence sq7065;size=46;.\n",
      "[WARNING]: sq7065;size=46; could not be classified. You can use the remove.lineage command with taxon=unknown; to remove such sequences.\n",
      "There are no common levels for sequence sq12436;size=15;.\n",
      "[WARNING]: sq12436;size=15; could not be classified. You can use the remove.lineage command with taxon=unknown; to remove such sequences.\n",
      "There are no common levels for sequence sq7686;size=40;.\n",
      "[WARNING]: sq7686;size=40; could not be classified. You can use the remove.lineage command with taxon=unknown; to remove such sequences.\n",
      "There are no common levels for sequence sq2618;size=212;.\n",
      "[WARNING]: sq2618;size=212; could not be classified. You can use the remove.lineage command with taxon=unknown; to remove such sequences.\n",
      "There are no common levels for sequence sq12753;size=14;.\n",
      "[WARNING]: sq12753;size=14; could not be classified. You can use the remove.lineage command with taxon=unknown; to remove such sequences.\n",
      "There are no common levels for sequence sq7855;size=38;.\n",
      "[WARNING]: sq7855;size=38; could not be classified. You can use the remove.lineage command with taxon=unknown; to remove such sequences.\n",
      "There are no common levels for sequence sq18047;size=4;.\n",
      "[WARNING]: sq18047;size=4; could not be classified. You can use the remove.lineage command with taxon=unknown; to remove such sequences.\n",
      "There are no common levels for sequence sq18121;size=4;.\n",
      "[WARNING]: sq18121;size=4; could not be classified. You can use the remove.lineage command with taxon=unknown; to remove such sequences.\n",
      "There are no common levels for sequence sq3011;size=171;.\n",
      "[WARNING]: sq3011;size=171; could not be classified. You can use the remove.lineage command with taxon=unknown; to remove such sequences.\n",
      "There are no common levels for sequence sq3212;size=157;.\n",
      "[WARNING]: sq3212;size=157; could not be classified. You can use the remove.lineage command with taxon=unknown; to remove such sequences.\n",
      "There are no common levels for sequence sq3369;size=145;.\n",
      "[WARNING]: sq3369;size=145; could not be classified. You can use the remove.lineage command with taxon=unknown; to remove such sequences.\n",
      "There are no common levels for sequence sq8500;size=33;.\n",
      "[WARNING]: sq8500;size=33; could not be classified. You can use the remove.lineage command with taxon=unknown; to remove such sequences.\n",
      "There are no common levels for sequence sq18606;size=3;.\n",
      "[WARNING]: sq18606;size=3; could not be classified. You can use the remove.lineage command with taxon=unknown; to remove such sequences.\n",
      "There are no common levels for sequence sq8600;size=32;.\n",
      "[WARNING]: sq8600;size=32; could not be classified. You can use the remove.lineage command with taxon=unknown; to remove such sequences.\n",
      "There are no common levels for sequence sq3516;size=136;.\n",
      "[WARNING]: sq3516;size=136; could not be classified. You can use the remove.lineage command with taxon=unknown; to remove such sequences.\n",
      "There are no common levels for sequence sq3905;size=115;.\n",
      "[WARNING]: sq3905;size=115; could not be classified. You can use the remove.lineage command with taxon=unknown; to remove such sequences.\n",
      "There are no common levels for sequence sq14262;size=10;.\n",
      "[WARNING]: sq14262;size=10; could not be classified. You can use the remove.lineage command with taxon=unknown; to remove such sequences.\n",
      "There are no common levels for sequence sq4202;size=103;.\n",
      "[WARNING]: sq4202;size=103; could not be classified. You can use the remove.lineage command with taxon=unknown; to remove such sequences.\n",
      "There are no common levels for sequence sq4553;size=92;.\n",
      "[WARNING]: sq4553;size=92; could not be classified. You can use the remove.lineage command with taxon=unknown; to remove such sequences.\n",
      "There are no common levels for sequence sq14875;size=9;.\n",
      "[WARNING]: sq14875;size=9; could not be classified. You can use the remove.lineage command with taxon=unknown; to remove such sequences.\n",
      "There are no common levels for sequence sq4829;size=84;.\n",
      "[WARNING]: sq4829;size=84; could not be classified. You can use the remove.lineage command with taxon=unknown; to remove such sequences.\n",
      "There are no common levels for sequence sq4960;size=80;.\n",
      "[WARNING]: sq4960;size=80; could not be classified. You can use the remove.lineage command with taxon=unknown; to remove such sequences.\n",
      "\n",
      "It took 82 secs to classify 20020 sequences.\n",
      "\n",
      "\n",
      "It took 1 secs to create the summary file for 20020 sequences.\n",
      "\n",
      "\n",
      "Output File Names:\n",
      "../../../data/Seq_data/16S/CHTC/Dada2_Results_Full/DADA2_seqs_nochim.pcr.knn.taxonomy\n",
      "../../../data/Seq_data/16S/CHTC/Dada2_Results_Full/DADA2_seqs_nochim.pcr.knn.tax.summary\n",
      "\n",
      "\n",
      "mothur > quit()\n",
      "\n",
      "\n",
      "<<<<<<<<<<<<<<<<<<<<<<<<<<<<<<^>>>>>>>>>>>>>>>>>>>>>>>>>>>>>\n",
      "<<<<<<<<<<<<<<<<<<<<<<<<<<<<<<^>>>>>>>>>>>>>>>>>>>>>>>>>>>>>\n",
      "<<<<<<<<<<<<<<<<<<<<<<<<<<<<<<^>>>>>>>>>>>>>>>>>>>>>>>>>>>>>\n",
      "Detected 10 [WARNING] messages, please review.\n",
      "<<<<<<<<<<<<<<<<<<<<<<<<<<<<<<^>>>>>>>>>>>>>>>>>>>>>>>>>>>>>\n",
      "<<<<<<<<<<<<<<<<<<<<<<<<<<<<<<^>>>>>>>>>>>>>>>>>>>>>>>>>>>>>\n",
      "<<<<<<<<<<<<<<<<<<<<<<<<<<<<<<^>>>>>>>>>>>>>>>>>>>>>>>>>>>>>\n"
     ]
    }
   ],
   "source": [
    "%%mothur\n",
    "classify.seqs(fasta=../../../data/Seq_data/16S/CHTC/Dada2_Results_Full/DADA2_seqs_nochim.fasta, template=../../../../Databases/Silva/silva.nr_v128.pcr.align, taxonomy=../../../../Databases/Silva/silva.nr_v128.pcr.tax, method=knn, processors=4,output=simple)"
   ]
  },
  {
   "cell_type": "code",
   "execution_count": null,
   "metadata": {
    "collapsed": true
   },
   "outputs": [],
   "source": []
  },
  {
   "cell_type": "code",
   "execution_count": null,
   "metadata": {
    "collapsed": true
   },
   "outputs": [],
   "source": []
  }
 ],
 "metadata": {
  "kernelspec": {
   "display_name": "Python 3",
   "language": "python",
   "name": "python3"
  },
  "language_info": {
   "codemirror_mode": {
    "name": "ipython",
    "version": 3
   },
   "file_extension": ".py",
   "mimetype": "text/x-python",
   "name": "python",
   "nbconvert_exporter": "python",
   "pygments_lexer": "ipython3",
   "version": "3.6.0"
  }
 },
 "nbformat": 4,
 "nbformat_minor": 2
}
