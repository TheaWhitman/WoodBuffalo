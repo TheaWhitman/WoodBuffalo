{
 "cells": [
  {
   "cell_type": "code",
   "execution_count": null,
   "metadata": {
    "collapsed": true
   },
   "outputs": [],
   "source": [
    "# Before starting notebook, need to activate QIIME2 virtual environment\n",
    "# \"source activate qiime2-2017.2\""
   ]
  },
  {
   "cell_type": "code",
   "execution_count": 1,
   "metadata": {},
   "outputs": [
    {
     "name": "stdout",
     "output_type": "stream",
     "text": [
      "Assigning_taxonomy.ipynb        Relative_Abundances.ipynb\r\n",
      "Differential_Abundances.ipynb   Sequence_QC.ipynb\r\n",
      "First_glances_at_data.ipynb     Soil_Properties.ipynb\r\n",
      "OTU_binning.ipynb               Testing_for_Sig_Diffs.ipynb\r\n",
      "Ordination_Plots.ipynb          Tree_for_Unifrac.ipynb\r\n",
      "Plant_Distancs_with_Ellen.ipynb qiime_QC.ipynb\r\n"
     ]
    }
   ],
   "source": [
    "!ls\n",
    "# List all the files in the folder.\n",
    "# You want to see all your sequence XXX.fastq.gz files, R1 and R2 for each sample."
   ]
  },
  {
   "cell_type": "code",
   "execution_count": null,
   "metadata": {
    "collapsed": true
   },
   "outputs": [],
   "source": [
    "!echo $TMPDIR"
   ]
  },
  {
   "cell_type": "code",
   "execution_count": 21,
   "metadata": {},
   "outputs": [],
   "source": [
    "!TMPDIR=./"
   ]
  },
  {
   "cell_type": "code",
   "execution_count": 15,
   "metadata": {},
   "outputs": [
    {
     "name": "stdout",
     "output_type": "stream",
     "text": [
      "DeblurStats\r\n",
      "DistanceMatrix\r\n",
      "EMPPairedEndSequences\r\n",
      "EMPSingleEndSequences\r\n",
      "FeatureData[AlignedSequence]\r\n",
      "FeatureData[PairedEndSequence]\r\n",
      "FeatureData[Sequence]\r\n",
      "FeatureData[Taxonomy]\r\n",
      "FeatureTable[Balance]\r\n",
      "FeatureTable[Composition]\r\n",
      "FeatureTable[Frequency]\r\n",
      "FeatureTable[PresenceAbsence]\r\n",
      "FeatureTable[RelativeFrequency]\r\n",
      "Hierarchy\r\n",
      "PCoAResults\r\n",
      "Phylogeny[Rooted]\r\n",
      "Phylogeny[Unrooted]\r\n",
      "QualityFilterStats\r\n",
      "RawSequences\r\n",
      "SampleData[AlphaDiversity]\r\n",
      "SampleData[BooleanSeries]\r\n",
      "SampleData[Coordinates]\r\n",
      "SampleData[PairedEndSequencesWithQuality]\r\n",
      "SampleData[SequencesWithQuality]\r\n",
      "TaxonomicClassifier\r\n"
     ]
    }
   ],
   "source": [
    "!qiime tools import  --show-importable-types"
   ]
  },
  {
   "cell_type": "code",
   "execution_count": 17,
   "metadata": {},
   "outputs": [],
   "source": [
    "!qiime tools import  --type 'FeatureData[Sequence]' --input-path ../../../data/Seq_data/16S/CHTC/Dada2_Results/DADA2_seqs_nochim.fasta --source-format DNAFASTAFormat --output-path ../../../data/Seq_data/16S/CHTC/Dada2_Results/DADA2_seqs_nochim.qza\n",
    "# Here we are importing our data\n",
    "# It's in a different format than the data from the tutorial\n",
    "# We received our files from the sequencing centre already demultiplexed -\n",
    "# that is, there is a separate pair of .fastq.gz files (forward and reverse read) for each of our samples."
   ]
  },
  {
   "cell_type": "markdown",
   "metadata": {
    "collapsed": true
   },
   "source": [
    "#### Running it with SILVA classifier"
   ]
  },
  {
   "cell_type": "code",
   "execution_count": null,
   "metadata": {},
   "outputs": [],
   "source": [
    "# Classify our sequences using the SILVA 119 (2015) trained classifier from QIIME\n",
    "# https://docs.qiime2.org/2017.10/data-resources/#taxonomy-classifiers-for-use-with-q2-feature-classifier\n",
    "\n",
    "!qiime feature-classifier classify-sklearn --i-classifier ../../../../Databases/silva-119-99-515-806-nb-classifier.qza --i-reads ../../../data/Seq_data/16S/CHTC/Dada2_Results/DADA2_seqs_nochim.qza --o-classification ../../../data/Seq_data/16S/CHTC/Dada2_Results/DADA2_seqs_nochim_taxonomy.qza --p-n-jobs -1 --p-chunk-size 1000 "
   ]
  },
  {
   "cell_type": "code",
   "execution_count": null,
   "metadata": {
    "collapsed": true
   },
   "outputs": [],
   "source": [
    "!qiime tools export ./../../data/Seq_data/16S/CHTC/Dada2_Results/DADA2_seqs_nochim_taxonomy.qza --output-dir ../../../data/Seq_data/16S/CHTC/Dada2_Results/\n",
    "\n",
    "!ls OTU_table_silva/"
   ]
  }
 ],
 "metadata": {
  "kernelspec": {
   "display_name": "Python 3",
   "language": "python",
   "name": "python3"
  },
  "language_info": {
   "codemirror_mode": {
    "name": "ipython",
    "version": 3
   },
   "file_extension": ".py",
   "mimetype": "text/x-python",
   "name": "python",
   "nbconvert_exporter": "python",
   "pygments_lexer": "ipython3",
   "version": "3.5.4"
  }
 },
 "nbformat": 4,
 "nbformat_minor": 2
}
