{
 "cells": [
  {
   "cell_type": "code",
   "execution_count": 1,
   "metadata": {},
   "outputs": [
    {
     "name": "stdout",
     "output_type": "stream",
     "text": [
      "DADA2_seqs.fasta        OTUtab.nochim.rds       pErr.rds\r\n",
      "DADA2_seqs_nochim.fasta OTUtab.rds              track.rds\r\n"
     ]
    }
   ],
   "source": [
    "!ls CHTC/Dada2_Results_OA20_PEAR_Full"
   ]
  },
  {
   "cell_type": "code",
   "execution_count": 2,
   "metadata": {
    "collapsed": true
   },
   "outputs": [
    {
     "name": "stdout",
     "output_type": "stream",
     "text": [
      "ITSx -- Identifies ITS sequences and extracts the ITS region\r\n",
      "by Johan Bengtsson-Palme et al., University of Gothenburg\r\n",
      "Version: 1.0.11\r\n",
      "-----------------------------------------------------------------\r\n",
      "Usage: ITSx -i <input file> -o <output file>\r\n",
      "Options:\r\n",
      "-i {file} : DNA FASTA input file to investigate\r\n",
      "-o {file} : Base for the names of output file(s)\r\n",
      "-p {directory} : A path to a directory of HMM-profile collections representing ITS conserved regions, default is in the same directory as ITSx itself\r\n",
      "--date {T or F} : Adds a date and time stamp to the output directory, off (F) by default\r\n",
      "--reset {T or F} : Re-creates the HMM-database before ITSx is run, off (F) by default\r\n",
      "\r\n",
      "Sequence selection options:\r\n",
      "-t {character code} : Profile set to use for the search, see the User's Guide (comma-separated), default is all\r\n",
      "-E {value} : Domain E-value cutoff for a sequence to be included in the output, default = 1e-5\r\n",
      "-S {value} : Domain score cutoff for a sequence to be included in the output, default = 0\r\n",
      "-N {value} : The minimal number of domains that must match a sequence before it is included, default = 2\r\n",
      "--selection_priority {sum, domains, eval, score} : Selects what will be of highest priority when determining the origin of the sequence, default is sum\r\n",
      "--search_eval {value} : The E-value cutoff used in the HMMER search, high numbers may slow down the process, cannot be used with the --search_score option, default is 0.01\r\n",
      "--search_score {value} : The score cutoff used in the HMMER search, low numbers may slow down the process, cannot be used with the --search_eval option, default is to used E-value cutoff, not score\r\n",
      "--allow_single_domain {e-value,score or F} : Allow inclusion of sequences that only find a single domain, given that they meet the given E-value and score thresholds, on with parameters 1e-9,0 by default\r\n",
      "--allow_reorder {T or F} : Allows profiles to be in the wrong order on extracted sequences, off (F) by default\r\n",
      "--complement {T or F} : Checks both DNA strands against the database, creating reverse complements, on (T) by default\r\n",
      "--cpu {value} : the number of CPU threads to use, default is 1\r\n",
      "--multi_thread {T or F} : Multi-thread the HMMER-search, on (T) if number of CPUs (--cpu option > 1), else off (F) by default\r\n",
      "--heuristics {T or F} : Selects whether to use HMMER's heuristic filtering, off (F) by default\r\n",
      "\r\n",
      "Output options:\r\n",
      "--summary {T or F} : Summary of results output, on (T) by default\r\n",
      "--graphical {T or F} : 'Graphical' output, on (T) by default\r\n",
      "--fasta {T or F} : FASTA-format output of extracted ITS sequences, on (T) by default\r\n",
      "--preserve {T or F} : Preserve sequence headers in input file instead of printing out ITSx headers, off (F) by default\r\n",
      "--save_regions {SSU,ITS1,5.8S,ITS2,LSU,all,none} : A comma separated list of regions to output separate FASTA files for, 'ITS1,ITS2' by default\r\n",
      "--anchor {integer or HMM} : Saves an additional number of bases before and after each extracted region. If set to 'HMM' all bases matching the corresponding HMM will be output, default = 0\r\n",
      "--only_full {T or F} : If true, output is limited to full-length regions, off (F) by default\r\n",
      "--partial {integer} : Saves additional FASTA-files for full and partial ITS sequences longer than the specified cutoff, default = 0 (off)\r\n",
      "--concat {T or F} : Saves a FASTA-file with concatenated ITS sequences (with 5.8S removed), off (F) by default\r\n",
      "--minlen {integer} : Minimum length the ITS regions must be to be outputted in the concatenated file (see above), default = 0\r\n",
      "--positions {T or F} : Table format output containing the positions ITS sequences were found in, on (T) by default\r\n",
      "--table {T or F} : Table format output of sequences containing probable ITS sequences, off (F) by default\r\n",
      "--not_found {T or F} : Saves a list of non-found entries, on (T) by default\r\n",
      "--detailed_results {T or F} : Saves a tab-separated list of all results, off (F) by default\r\n",
      "--truncate {T or F} : Truncates the FASTA output to only contain the actual ITS sequences found, on (T) by default\r\n",
      "--silent {T or F} : Supresses printing progress info to stderr, off (F) by default\r\n",
      "--graph_scale {value} : Sets the scale of the graph output, if value is zero, a percentage view is shown, default = 0\r\n",
      "--save_raw {T or F} : Saves all raw data for searches etc. instead of removing it on finish, off (F) by default\r\n",
      "\r\n",
      "-h : displays this help message\r\n",
      "--help : displays this help message\r\n",
      "--bugs : displays the bug fixes and known bugs in this version of ITSx\r\n",
      "--license : displays licensing information\r\n",
      "-----------------------------------------------------------------\r\n"
     ]
    }
   ],
   "source": [
    "!ITSx --help"
   ]
  },
  {
   "cell_type": "markdown",
   "metadata": {},
   "source": [
    "## Running on custom DADA2 script OTUs"
   ]
  },
  {
   "cell_type": "code",
   "execution_count": null,
   "metadata": {},
   "outputs": [
    {
     "name": "stdout",
     "output_type": "stream",
     "text": [
      "ITSx -- Identifies ITS sequences and extracts the ITS region\n",
      "by Johan Bengtsson-Palme et al., University of Gothenburg\n",
      "Version: 1.0.11\n",
      "-----------------------------------------------------------------\n",
      "Wed May  9 14:04:56 2018 : Preparing HMM database (should be quick)...\n",
      "Wed May  9 14:04:56 2018 : Checking and handling input sequence data (should not take long)...\n",
      "Wed May  9 14:04:56 2018 : Doing paralellised comparison to HMM database (this may take a long while)...\n",
      "    Wed May  9 14:05:24 2018 : Bryophyta analysis of main strand finished.\n",
      "    Wed May  9 14:05:29 2018 : Bacillariophyta analysis of main strand finished.\n",
      "    Wed May  9 14:05:38 2018 : Amoebozoa analysis of main strand finished.\n",
      "    Wed May  9 14:05:49 2018 : Euglenozoa analysis of main strand finished.\n",
      "    Wed May  9 14:06:32 2018 : Rhodophyta analysis of main strand finished.\n",
      "    Wed May  9 14:06:44 2018 : Phaeophyceae analysis of main strand finished.\n",
      "    Wed May  9 14:07:08 2018 : Chlorophyta analysis of main strand finished.\n",
      "    Wed May  9 14:07:23 2018 : Alveolates analysis of main strand finished.\n",
      "    Wed May  9 14:07:52 2018 : Marchantiophyta analysis of main strand finished.\n",
      "    Wed May  9 14:08:10 2018 : Haptophyceae analysis of main strand finished.\n",
      "    Wed May  9 14:08:23 2018 : Raphidophyceae analysis of main strand finished.\n",
      "    Wed May  9 14:09:10 2018 : Oomycota analysis of main strand finished.\n",
      "    Wed May  9 14:09:24 2018 : Synurophyceae analysis of main strand finished.\n",
      "    Wed May  9 14:09:28 2018 : Rhizaria analysis of main strand finished.\n",
      "    Wed May  9 14:09:36 2018 : Eustigmatophyceae analysis of main strand finished.\n",
      "    Wed May  9 14:12:03 2018 : Alveolates analysis of complementary strand finished.\n",
      "    Wed May  9 14:12:30 2018 : Bryophyta analysis of complementary strand finished.\n",
      "    Wed May  9 14:13:07 2018 : Bacillariophyta analysis of complementary strand finished.\n",
      "    Wed May  9 14:13:49 2018 : Amoebozoa analysis of complementary strand finished.\n",
      "    Wed May  9 14:14:12 2018 : Euglenozoa analysis of complementary strand finished.\n"
     ]
    }
   ],
   "source": [
    "!ITSx -i CHTC/Dada2_Results_OA20_PEAR_Full/DADA2_seqs_nochim.fasta -o CHTC/Dada2_Results_OA20_PEAR_Full/DADA2_seqs_ITSx.fasta -N 2 --cpu 4 --preserve T --detailed_results T\n",
    "# Preserve keeps the same sequence IDs, rather than renaming with length, classification, etc."
   ]
  },
  {
   "cell_type": "code",
   "execution_count": 6,
   "metadata": {},
   "outputs": [
    {
     "name": "stdout",
     "output_type": "stream",
     "text": [
      "ITSx run started at Wed May  9 14:04:56 2018.\r\n",
      "-----------------------------------------------------------------\r\n",
      "Number of sequences in input file:       \t6383\r\n",
      "Sequences detected as ITS by ITSx:\t6201\r\n",
      "  On main strand:         \t0\r\n",
      "  On complementary strand:\t6201\r\n",
      "Sequences detected as chimeric by ITSx:\t0\r\n",
      "ITS sequences by preliminary origin:\r\n",
      "  Alveolates:      \t0\r\n",
      "  Amoebozoa:       \t1\r\n",
      "  Bacillariophyta: \t0\r\n",
      "  Brown algae:     \t0\r\n",
      "  Bryophytes:      \t1\r\n",
      "  Euglenozoa:      \t0\r\n",
      "  Eustigmatophytes:\t0\r\n",
      "  Fungi:           \t5593\r\n",
      "  Green algae:     \t30\r\n",
      "  Liverworts:      \t78\r\n",
      "  Metazoa:         \t4\r\n",
      "  Microsporidia:   \t0\r\n",
      "  Oomycetes:       \t0\r\n",
      "  Prymnesiophytes: \t0\r\n",
      "  Raphidophytes:   \t5\r\n",
      "  Red algae:       \t123\r\n",
      "  Rhizaria:        \t38\r\n",
      "  Synurophyceae:   \t7\r\n",
      "  Tracheophyta:    \t321\r\n",
      "-----------------------------------------------------------------\r\n",
      "ITSx run finished at Wed May  9 14:26:34 2018.\r\n"
     ]
    }
   ],
   "source": [
    "!head -40 CHTC/Dada2_Results_OA20_PEAR_Full/DADA2_seqs_ITSx.fasta.summary.txt"
   ]
  },
  {
   "cell_type": "code",
   "execution_count": null,
   "metadata": {
    "collapsed": true
   },
   "outputs": [],
   "source": [
    "# Run in shell:\n",
    "# parallel_assign_taxonomy_uclust.py -i CHTC/Dada2_Results_OA20_PEAR_Full/DADA2_seqs_ITSx.fasta.ITS2.fasta -o CHTC/Dada2_Results_OA20_PEAR_Full/taxonomy -r ../../data/db/sh_qiime_release_28.06.2017/sh_refs_qiime_ver7_99_28.06.2017.fasta -t ../../data/db/sh_qiime_release_28.06.2017/sh_taxonomy_qiime_ver7_99_28.06.2017.txt -O 4"
   ]
  },
  {
   "cell_type": "markdown",
   "metadata": {},
   "source": [
    "## Previous runs (OA2 and OA20)"
   ]
  },
  {
   "cell_type": "code",
   "execution_count": 3,
   "metadata": {},
   "outputs": [
    {
     "name": "stdout",
     "output_type": "stream",
     "text": [
      "ITSx -- Identifies ITS sequences and extracts the ITS region\n",
      "by Johan Bengtsson-Palme et al., University of Gothenburg\n",
      "Version: 1.0.11\n",
      "-----------------------------------------------------------------\n",
      "Wed Sep 27 16:38:45 2017 : Preparing HMM database (should be quick)...\n",
      "Wed Sep 27 16:38:45 2017 : Checking and handling input sequence data (should not take long)...\n",
      "Wed Sep 27 16:38:46 2017 : Doing paralellised comparison to HMM database (this may take a long while)...\n",
      "    Wed Sep 27 16:39:16 2017 : Bryophyta analysis of main strand finished.\n",
      "    Wed Sep 27 16:39:23 2017 : Bacillariophyta analysis of main strand finished.\n",
      "    Wed Sep 27 16:39:32 2017 : Amoebozoa analysis of main strand finished.\n",
      "    Wed Sep 27 16:39:42 2017 : Euglenozoa analysis of main strand finished.\n",
      "    Wed Sep 27 16:40:29 2017 : Rhodophyta analysis of main strand finished.\n",
      "    Wed Sep 27 16:40:40 2017 : Phaeophyceae analysis of main strand finished.\n",
      "    Wed Sep 27 16:41:12 2017 : Chlorophyta analysis of main strand finished.\n",
      "    Wed Sep 27 16:41:29 2017 : Alveolates analysis of main strand finished.\n",
      "    Wed Sep 27 16:41:54 2017 : Marchantiophyta analysis of main strand finished.\n",
      "    Wed Sep 27 16:42:13 2017 : Haptophyceae analysis of main strand finished.\n",
      "    Wed Sep 27 16:42:26 2017 : Raphidophyceae analysis of main strand finished.\n",
      "    Wed Sep 27 16:43:27 2017 : Oomycota analysis of main strand finished.\n",
      "    Wed Sep 27 16:43:38 2017 : Rhizaria analysis of main strand finished.\n",
      "    Wed Sep 27 16:43:42 2017 : Synurophyceae analysis of main strand finished.\n",
      "    Wed Sep 27 16:43:50 2017 : Eustigmatophyceae analysis of main strand finished.\n",
      "    Wed Sep 27 16:46:40 2017 : Alveolates analysis of complementary strand finished.\n",
      "    Wed Sep 27 16:47:10 2017 : Bryophyta analysis of complementary strand finished.\n",
      "    Wed Sep 27 16:47:51 2017 : Bacillariophyta analysis of complementary strand finished.\n",
      "    Wed Sep 27 16:48:37 2017 : Amoebozoa analysis of complementary strand finished.\n",
      "    Wed Sep 27 16:49:03 2017 : Euglenozoa analysis of complementary strand finished.\n",
      "    Wed Sep 27 16:50:21 2017 : Tracheophyta analysis of main strand finished.\n",
      "    Wed Sep 27 16:52:02 2017 : Chlorophyta analysis of complementary strand finished.\n",
      "    Wed Sep 27 16:52:04 2017 : Metazoa analysis of main strand finished.\n",
      "    Wed Sep 27 16:52:16 2017 : Phaeophyceae analysis of complementary strand finished.\n",
      "    Wed Sep 27 16:52:51 2017 : Rhodophyta analysis of complementary strand finished.\n",
      "    Wed Sep 27 16:53:29 2017 : Fungi analysis of main strand finished.\n",
      "    Wed Sep 27 16:53:35 2017 : Marchantiophyta analysis of complementary strand finished.\n",
      "    Wed Sep 27 16:53:58 2017 : Haptophyceae analysis of complementary strand finished.\n",
      "    Wed Sep 27 16:54:14 2017 : Raphidophyceae analysis of complementary strand finished.\n",
      "    Wed Sep 27 16:55:35 2017 : Rhizaria analysis of complementary strand finished.\n",
      "    Wed Sep 27 16:55:43 2017 : Oomycota analysis of complementary strand finished.\n",
      "    Wed Sep 27 16:55:55 2017 : Synurophyceae analysis of complementary strand finished.\n",
      "    Wed Sep 27 16:56:06 2017 : Eustigmatophyceae analysis of complementary strand finished.\n",
      "    Wed Sep 27 17:02:10 2017 : Tracheophyta analysis of complementary strand finished.\n",
      "    Wed Sep 27 17:03:07 2017 : Fungi analysis of complementary strand finished.\n",
      "    Wed Sep 27 17:03:26 2017 : Metazoa analysis of complementary strand finished.\n",
      "    Wed Sep 27 17:03:26 2017 : All processes finished.\n",
      "Wed Sep 27 17:03:26 2017 : Parallel HMM-scan finished.\n",
      "Wed Sep 27 17:03:26 2017 : Analysing results of HMM-scan (this might take quite some time)...\n",
      "Wed Sep 27 17:03:33 2017 : Extraction finished!\n",
      "-----------------------------------------------------------------\n",
      "Thank you for using ITSx!\n",
      "Please report bugs or unsupported lineages to itsx@microbiology.se\n",
      "\n"
     ]
    }
   ],
   "source": [
    "!ITSx -i CHTC/Dada2_Results_OA2_PEAR/DADA2_seqs_nochim.fasta -o CHTC/Dada2_Results_OA2_PEAR/DADA2_seqs_ITSx.fasta -N 2 --cpu 4 --preserve T --detailed_results T\n",
    "# Preserve keeps the same sequence IDs, rather than renaming with length, classification, etc."
   ]
  },
  {
   "cell_type": "code",
   "execution_count": 1,
   "metadata": {},
   "outputs": [
    {
     "name": "stdout",
     "output_type": "stream",
     "text": [
      "ITSx run started at Wed Sep 27 15:18:07 2017.\r\n",
      "-----------------------------------------------------------------\r\n",
      "Number of sequences in input file:       \t12285\r\n",
      "Sequences detected as ITS by ITSx:\t12081\r\n",
      "  On main strand:         \t0\r\n",
      "  On complementary strand:\t12081\r\n",
      "Sequences detected as chimeric by ITSx:\t0\r\n",
      "ITS sequences by preliminary origin:\r\n",
      "  Alveolates:      \t0\r\n",
      "  Amoebozoa:       \t1\r\n",
      "  Bacillariophyta: \t0\r\n",
      "  Brown algae:     \t0\r\n",
      "  Bryophytes:      \t1\r\n",
      "  Euglenozoa:      \t0\r\n",
      "  Eustigmatophytes:\t0\r\n",
      "  Fungi:           \t10827\r\n",
      "  Green algae:     \t32\r\n",
      "  Liverworts:      \t94\r\n",
      "  Metazoa:         \t3\r\n",
      "  Microsporidia:   \t0\r\n",
      "  Oomycetes:       \t0\r\n",
      "  Prymnesiophytes: \t0\r\n",
      "  Raphidophytes:   \t6\r\n",
      "  Red algae:       \t131\r\n",
      "  Rhizaria:        \t42\r\n",
      "  Synurophyceae:   \t6\r\n",
      "  Tracheophyta:    \t938\r\n",
      "-----------------------------------------------------------------\r\n",
      "ITSx run finished at Wed Sep 27 15:56:05 2017.\r\n"
     ]
    }
   ],
   "source": [
    "!head -40 CHTC/Dada2_Results_OA2_PEAR/DADA2_seqs_ITSx.fasta.summary.txt"
   ]
  },
  {
   "cell_type": "code",
   "execution_count": null,
   "metadata": {
    "collapsed": true
   },
   "outputs": [],
   "source": [
    "# Run in shell:\n",
    "# parallel_assign_taxonomy_uclust.py -i CHTC/Dada2_Results_OA2_PEAR/DADA2_seqs_ITSx.fasta.ITS2.fasta -o CHTC/Dada2_Results_OA2_PEAR/taxonomy -r ../../data/db/sh_qiime_release_28.06.2017/sh_refs_qiime_ver7_99_28.06.2017.fasta -t ../../data/db/sh_qiime_release_28.06.2017/sh_taxonomy_qiime_ver7_99_28.06.2017.txt -O 4"
   ]
  },
  {
   "cell_type": "code",
   "execution_count": null,
   "metadata": {
    "collapsed": true
   },
   "outputs": [],
   "source": [
    "!ls"
   ]
  },
  {
   "cell_type": "code",
   "execution_count": 4,
   "metadata": {},
   "outputs": [
    {
     "name": "stdout",
     "output_type": "stream",
     "text": [
      "ITSx -- Identifies ITS sequences and extracts the ITS region\n",
      "by Johan Bengtsson-Palme et al., University of Gothenburg\n",
      "Version: 1.0.11\n",
      "-----------------------------------------------------------------\n",
      "Wed Sep 27 17:03:33 2017 : Preparing HMM database (should be quick)...\n",
      "Wed Sep 27 17:03:33 2017 : Checking and handling input sequence data (should not take long)...\n",
      "Wed Sep 27 17:03:33 2017 : Doing paralellised comparison to HMM database (this may take a long while)...\n",
      "    Wed Sep 27 17:03:58 2017 : Bryophyta analysis of main strand finished.\n",
      "    Wed Sep 27 17:04:03 2017 : Bacillariophyta analysis of main strand finished.\n",
      "    Wed Sep 27 17:04:09 2017 : Amoebozoa analysis of main strand finished.\n",
      "    Wed Sep 27 17:04:19 2017 : Euglenozoa analysis of main strand finished.\n",
      "    Wed Sep 27 17:04:53 2017 : Rhodophyta analysis of main strand finished.\n",
      "    Wed Sep 27 17:05:02 2017 : Phaeophyceae analysis of main strand finished.\n",
      "    Wed Sep 27 17:05:24 2017 : Chlorophyta analysis of main strand finished.\n",
      "    Wed Sep 27 17:05:37 2017 : Alveolates analysis of main strand finished.\n",
      "    Wed Sep 27 17:05:58 2017 : Marchantiophyta analysis of main strand finished.\n",
      "    Wed Sep 27 17:06:13 2017 : Haptophyceae analysis of main strand finished.\n",
      "    Wed Sep 27 17:06:23 2017 : Raphidophyceae analysis of main strand finished.\n",
      "    Wed Sep 27 17:07:09 2017 : Oomycota analysis of main strand finished.\n",
      "    Wed Sep 27 17:07:19 2017 : Rhizaria analysis of main strand finished.\n",
      "    Wed Sep 27 17:07:21 2017 : Synurophyceae analysis of main strand finished.\n",
      "    Wed Sep 27 17:07:27 2017 : Eustigmatophyceae analysis of main strand finished.\n",
      "    Wed Sep 27 17:09:42 2017 : Alveolates analysis of complementary strand finished.\n",
      "    Wed Sep 27 17:10:06 2017 : Bryophyta analysis of complementary strand finished.\n",
      "    Wed Sep 27 17:10:39 2017 : Bacillariophyta analysis of complementary strand finished.\n",
      "    Wed Sep 27 17:11:16 2017 : Amoebozoa analysis of complementary strand finished.\n",
      "    Wed Sep 27 17:11:36 2017 : Euglenozoa analysis of complementary strand finished.\n",
      "    Wed Sep 27 17:12:41 2017 : Tracheophyta analysis of main strand finished.\n",
      "    Wed Sep 27 17:14:01 2017 : Chlorophyta analysis of complementary strand finished.\n",
      "    Wed Sep 27 17:14:10 2017 : Metazoa analysis of main strand finished.\n",
      "    Wed Sep 27 17:14:20 2017 : Phaeophyceae analysis of complementary strand finished.\n",
      "    Wed Sep 27 17:14:40 2017 : Rhodophyta analysis of complementary strand finished.\n",
      "    Wed Sep 27 17:15:23 2017 : Marchantiophyta analysis of complementary strand finished.\n",
      "    Wed Sep 27 17:15:29 2017 : Fungi analysis of main strand finished.\n",
      "    Wed Sep 27 17:15:47 2017 : Haptophyceae analysis of complementary strand finished.\n",
      "    Wed Sep 27 17:16:00 2017 : Raphidophyceae analysis of complementary strand finished.\n",
      "    Wed Sep 27 17:17:05 2017 : Rhizaria analysis of complementary strand finished.\n",
      "    Wed Sep 27 17:17:10 2017 : Oomycota analysis of complementary strand finished.\n",
      "    Wed Sep 27 17:17:21 2017 : Synurophyceae analysis of complementary strand finished.\n",
      "    Wed Sep 27 17:17:29 2017 : Eustigmatophyceae analysis of complementary strand finished.\n",
      "    Wed Sep 27 17:22:31 2017 : Tracheophyta analysis of complementary strand finished.\n",
      "    Wed Sep 27 17:23:14 2017 : Fungi analysis of complementary strand finished.\n",
      "    Wed Sep 27 17:23:26 2017 : Metazoa analysis of complementary strand finished.\n",
      "    Wed Sep 27 17:23:26 2017 : All processes finished.\n",
      "Wed Sep 27 17:23:26 2017 : Parallel HMM-scan finished.\n",
      "Wed Sep 27 17:23:26 2017 : Analysing results of HMM-scan (this might take quite some time)...\n",
      "Wed Sep 27 17:23:30 2017 : Extraction finished!\n",
      "-----------------------------------------------------------------\n",
      "Thank you for using ITSx!\n",
      "Please report bugs or unsupported lineages to itsx@microbiology.se\n",
      "\n"
     ]
    }
   ],
   "source": [
    "!ITSx -i CHTC/Dada2_Results_OA20_PEAR/DADA2_seqs_nochim.fasta -o CHTC/Dada2_Results_OA20_PEAR/DADA2_seqs_ITSx.fasta -N 2 --cpu 4 --preserve T --detailed_results T\n",
    "# Preserve keeps the same sequence IDs, rather than renaming with length, classification, etc."
   ]
  },
  {
   "cell_type": "code",
   "execution_count": 2,
   "metadata": {},
   "outputs": [
    {
     "name": "stdout",
     "output_type": "stream",
     "text": [
      "ITSx run started at Wed Sep 27 15:56:05 2017.\r\n",
      "-----------------------------------------------------------------\r\n",
      "Number of sequences in input file:       \t7932\r\n",
      "Sequences detected as ITS by ITSx:\t7763\r\n",
      "  On main strand:         \t0\r\n",
      "  On complementary strand:\t7763\r\n",
      "Sequences detected as chimeric by ITSx:\t0\r\n",
      "ITS sequences by preliminary origin:\r\n",
      "  Alveolates:      \t0\r\n",
      "  Amoebozoa:       \t1\r\n",
      "  Bacillariophyta: \t0\r\n",
      "  Brown algae:     \t0\r\n",
      "  Bryophytes:      \t1\r\n",
      "  Euglenozoa:      \t0\r\n",
      "  Eustigmatophytes:\t0\r\n",
      "  Fungi:           \t6999\r\n",
      "  Green algae:     \t29\r\n",
      "  Liverworts:      \t65\r\n",
      "  Metazoa:         \t2\r\n",
      "  Microsporidia:   \t0\r\n",
      "  Oomycetes:       \t0\r\n",
      "  Prymnesiophytes: \t0\r\n",
      "  Raphidophytes:   \t5\r\n",
      "  Red algae:       \t114\r\n",
      "  Rhizaria:        \t32\r\n",
      "  Synurophyceae:   \t6\r\n",
      "  Tracheophyta:    \t509\r\n",
      "-----------------------------------------------------------------\r\n",
      "ITSx run finished at Wed Sep 27 16:20:08 2017.\r\n"
     ]
    }
   ],
   "source": [
    "!head -40 CHTC/Dada2_Results_OA20_PEAR/DADA2_seqs_ITSx.fasta.summary.txt"
   ]
  },
  {
   "cell_type": "code",
   "execution_count": null,
   "metadata": {
    "collapsed": true
   },
   "outputs": [],
   "source": [
    "# Run in shell:\n",
    "# parallel_assign_taxonomy_uclust.py -i CHTC/Dada2_Results_OA20_PEAR/DADA2_seqs_ITSx.fasta.ITS2.fasta -o CHTC/Dada2_Results_OA20_PEAR/taxonomy -r ../../data/db/sh_qiime_release_28.06.2017/sh_refs_qiime_ver7_99_28.06.2017.fasta -t ../../data/db/sh_qiime_release_28.06.2017/sh_taxonomy_qiime_ver7_99_28.06.2017.txt -O 4"
   ]
  },
  {
   "cell_type": "markdown",
   "metadata": {},
   "source": [
    "## Previous runs"
   ]
  },
  {
   "cell_type": "code",
   "execution_count": 6,
   "metadata": {
    "collapsed": true
   },
   "outputs": [
    {
     "name": "stdout",
     "output_type": "stream",
     "text": [
      "ITSx -- Identifies ITS sequences and extracts the ITS region\n",
      "by Johan Bengtsson-Palme et al., University of Gothenburg\n",
      "Version: 1.0.11\n",
      "-----------------------------------------------------------------\n",
      "Tue Sep 19 13:08:03 2017 : Preparing HMM database (should be quick)...\n",
      "Tue Sep 19 13:08:03 2017 : Checking and handling input sequence data (should not take long)...\n",
      "Tue Sep 19 13:08:04 2017 : Doing paralellised comparison to HMM database (this may take a long while)...\n",
      "    Tue Sep 19 13:08:14 2017 : Bryophyta analysis of main strand finished.\n",
      "    Tue Sep 19 13:08:17 2017 : Bacillariophyta analysis of main strand finished.\n",
      "    Tue Sep 19 13:08:21 2017 : Amoebozoa analysis of main strand finished.\n",
      "    Tue Sep 19 13:08:23 2017 : Euglenozoa analysis of main strand finished.\n",
      "    Tue Sep 19 13:08:39 2017 : Rhodophyta analysis of main strand finished.\n",
      "    Tue Sep 19 13:08:43 2017 : Phaeophyceae analysis of main strand finished.\n",
      "    Tue Sep 19 13:08:56 2017 : Chlorophyta analysis of main strand finished.\n",
      "    Tue Sep 19 13:09:01 2017 : Alveolates analysis of main strand finished.\n",
      "    Tue Sep 19 13:09:11 2017 : Marchantiophyta analysis of main strand finished.\n",
      "    Tue Sep 19 13:09:18 2017 : Haptophyceae analysis of main strand finished.\n",
      "    Tue Sep 19 13:09:23 2017 : Raphidophyceae analysis of main strand finished.\n",
      "    Tue Sep 19 13:09:46 2017 : Oomycota analysis of main strand finished.\n",
      "    Tue Sep 19 13:09:52 2017 : Rhizaria analysis of main strand finished.\n",
      "    Tue Sep 19 13:09:52 2017 : Synurophyceae analysis of main strand finished.\n",
      "    Tue Sep 19 13:09:56 2017 : Eustigmatophyceae analysis of main strand finished.\n",
      "    Tue Sep 19 13:11:01 2017 : Alveolates analysis of complementary strand finished.\n",
      "    Tue Sep 19 13:11:13 2017 : Bryophyta analysis of complementary strand finished.\n",
      "    Tue Sep 19 13:11:28 2017 : Bacillariophyta analysis of complementary strand finished.\n",
      "    Tue Sep 19 13:11:46 2017 : Amoebozoa analysis of complementary strand finished.\n",
      "    Tue Sep 19 13:11:56 2017 : Euglenozoa analysis of complementary strand finished.\n",
      "    Tue Sep 19 13:12:30 2017 : Tracheophyta analysis of main strand finished.\n",
      "    Tue Sep 19 13:13:08 2017 : Metazoa analysis of main strand finished.\n",
      "    Tue Sep 19 13:13:10 2017 : Chlorophyta analysis of complementary strand finished.\n",
      "    Tue Sep 19 13:13:15 2017 : Phaeophyceae analysis of complementary strand finished.\n",
      "    Tue Sep 19 13:13:27 2017 : Rhodophyta analysis of complementary strand finished.\n",
      "    Tue Sep 19 13:13:29 2017 : Fungi analysis of main strand finished.\n",
      "    Tue Sep 19 13:13:46 2017 : Marchantiophyta analysis of complementary strand finished.\n",
      "    Tue Sep 19 13:13:55 2017 : Haptophyceae analysis of complementary strand finished.\n",
      "    Tue Sep 19 13:14:01 2017 : Raphidophyceae analysis of complementary strand finished.\n",
      "    Tue Sep 19 13:14:19 2017 : Oomycota analysis of complementary strand finished.\n",
      "    Tue Sep 19 13:14:28 2017 : Synurophyceae analysis of complementary strand finished.\n",
      "    Tue Sep 19 13:14:31 2017 : Rhizaria analysis of complementary strand finished.\n",
      "    Tue Sep 19 13:14:35 2017 : Eustigmatophyceae analysis of complementary strand finished.\n",
      "    Tue Sep 19 13:16:52 2017 : Tracheophyta analysis of complementary strand finished.\n",
      "    Tue Sep 19 13:17:18 2017 : Fungi analysis of complementary strand finished.\n",
      "    Tue Sep 19 13:17:27 2017 : Metazoa analysis of complementary strand finished.\n",
      "    Tue Sep 19 13:17:27 2017 : All processes finished.\n",
      "Tue Sep 19 13:17:27 2017 : Parallel HMM-scan finished.\n",
      "Tue Sep 19 13:17:27 2017 : Analysing results of HMM-scan (this might take quite some time)...\n",
      "Tue Sep 19 13:17:30 2017 : Extraction finished!\n",
      "-----------------------------------------------------------------\n",
      "Thank you for using ITSx!\n",
      "Please report bugs or unsupported lineages to itsx@microbiology.se\n",
      "\n"
     ]
    }
   ],
   "source": [
    "!ITSx -i CHTC/Dada2_Results/DADA2_seqs.fasta -o CHTC/Dada2_Results/DADA2_seqs_ITSx.fasta -N 2 --cpu 4 --preserve T\n",
    "# Preserve keeps the same sequence IDs, rather than renaming with length, classification, etc."
   ]
  },
  {
   "cell_type": "code",
   "execution_count": 13,
   "metadata": {
    "collapsed": true
   },
   "outputs": [
    {
     "name": "stdout",
     "output_type": "stream",
     "text": [
      "ITSx run started at Tue Sep 19 13:08:03 2017.\r\n",
      "-----------------------------------------------------------------\r\n",
      "Number of sequences in input file:       \t2843\r\n",
      "Sequences detected as ITS by ITSx:\t2820\r\n",
      "  On main strand:         \t0\r\n",
      "  On complementary strand:\t2820\r\n",
      "Sequences detected as chimeric by ITSx:\t0\r\n",
      "ITS sequences by preliminary origin:\r\n",
      "  Alveolates:      \t0\r\n",
      "  Amoebozoa:       \t0\r\n",
      "  Bacillariophyta: \t0\r\n",
      "  Brown algae:     \t0\r\n",
      "  Bryophytes:      \t0\r\n",
      "  Euglenozoa:      \t0\r\n",
      "  Eustigmatophytes:\t0\r\n",
      "  Fungi:           \t2524\r\n",
      "  Green algae:     \t3\r\n",
      "  Liverworts:      \t7\r\n",
      "  Metazoa:         \t0\r\n",
      "  Microsporidia:   \t0\r\n",
      "  Oomycetes:       \t0\r\n",
      "  Prymnesiophytes: \t0\r\n",
      "  Raphidophytes:   \t1\r\n",
      "  Red algae:       \t23\r\n",
      "  Rhizaria:        \t4\r\n",
      "  Synurophyceae:   \t1\r\n",
      "  Tracheophyta:    \t257\r\n",
      "-----------------------------------------------------------------\r\n",
      "ITSx run finished at Tue Sep 19 13:17:30 2017.\r\n"
     ]
    }
   ],
   "source": [
    "!head -40 CHTC/Dada2_Results/DADA2_seqs_ITSx.fasta.summary.txt\n",
    "# Including all categories catches more samples (1040 vs 1036 with just fungi, out of 1051 total from dada2)\n",
    "# This includes liverworts, which we know were in the system - observed Marchantia in the field.\n",
    "# For now, keeping them in.\n",
    "\n",
    "# Taylor et al. found 98% seqs left after ITSx;\n",
    "# This found only 90% left, but that's probably because of more lax dada2 parameters. This acts as additional filter.\n",
    "# Neat that we picked up more liverworts."
   ]
  },
  {
   "cell_type": "code",
   "execution_count": null,
   "metadata": {
    "collapsed": true
   },
   "outputs": [],
   "source": [
    "# Assigning taxonomy using ITS2 regions\n",
    "# Ran in shell, not here.\n",
    "# So, some of the OTUs should have no match...\n",
    "# !parallel_assign_taxonomy_uclust.py -i CHTC/Dada2_Results/DADA2_seqs_ITSx.fasta.ITS2.fasta -o CHTC/Dada2_Results/taxonomy -r ../../data/db/sh_qiime_release_28.06.2017/sh_refs_qiime_ver7_99_28.06.2017.fasta -t ../../data/db/sh_qiime_release_28.06.2017/sh_taxonomy_qiime_ver7_99_28.06.2017.txt -O 4\n",
    "# So, note, some of the sequences in here would not match anything. That would likely / largely be because\n",
    "# UNITE doesn't have green plants (we hit 257), synurids (water green algea), rhizaria (4), red algae (23),\n",
    "# raphidophytes (algae), green algea(3), and does it have liverworts?"
   ]
  },
  {
   "cell_type": "code",
   "execution_count": 6,
   "metadata": {},
   "outputs": [
    {
     "name": "stdout",
     "output_type": "stream",
     "text": [
      "sq2670;size=2;\tk__Fungi;p__Ascomycota;c__Eurotiomycetes;o__Eurotiales;f__Trichocomaceae;g__Penicillium\t1.00\t3\r\n",
      "sq2187;size=19;\tk__Fungi;p__Ascomycota;c__Leotiomycetes;o__Leotiomycetes_ord_Incertae_sedis\t1.00\t3\r\n",
      "sq2561;size=3;\tk__Fungi;p__Ascomycota;c__Sordariomycetes\t0.67\t3\r\n",
      "sq2375;size=9;\tk__Fungi;p__Ascomycota;c__Leotiomycetes;o__Helotiales\t0.67\t3\r\n",
      "sq2841;size=1;\tk__Fungi;p__Ascomycota;c__Leotiomycetes;o__Leotiomycetes_ord_Incertae_sedis\t0.67\t3\r\n",
      "sq2542;size=4;\tk__Fungi;p__Ascomycota;c__Dothideomycetes;o__Dothideales\t0.67\t3\r\n",
      "sq2262;size=13;\tk__Fungi;p__Ascomycota;c__Eurotiomycetes;o__Eurotiales;f__Trichocomaceae;g__Penicillium\t1.00\t3\r\n",
      "sq2323;size=10;\tk__Fungi;p__Mortierellomycota;c__Mortierellomycotina_cls_Incertae_sedis;o__Mortierellales;f__Mortierellaceae;g__Mortierella;s__unidentified\t1.00\t3\r\n",
      "sq2831;size=1;\tUnassigned\t1.00\t1\r\n",
      "sq2183;size=20;\tUnassigned\t1.00\t1\r\n"
     ]
    }
   ],
   "source": [
    "!tail CHTC/Dada2_Results/taxonomy/DADA2_seqs_ITSx.fasta.ITS2_tax_assignments.txt"
   ]
  },
  {
   "cell_type": "code",
   "execution_count": 3,
   "metadata": {},
   "outputs": [
    {
     "name": "stdout",
     "output_type": "stream",
     "text": [
      "      46 CHTC/Dada2_Results/DADA2_seqs_ITSx.fasta_no_detections.fasta\r\n"
     ]
    }
   ],
   "source": [
    "!wc -l CHTC/Dada2_Results/DADA2_seqs_ITSx.fasta_no_detections.fasta\n",
    "# 23 sequences were not recognized."
   ]
  },
  {
   "cell_type": "markdown",
   "metadata": {},
   "source": [
    "### Running ITSx on only the fungal ones so I can pull their IDs out and select them from the main phyloseq object"
   ]
  },
  {
   "cell_type": "code",
   "execution_count": 28,
   "metadata": {},
   "outputs": [
    {
     "name": "stdout",
     "output_type": "stream",
     "text": [
      "ITSx -- Identifies ITS sequences and extracts the ITS region\n",
      "by Johan Bengtsson-Palme et al., University of Gothenburg\n",
      "Version: 1.0.11\n",
      "-----------------------------------------------------------------\n",
      "Fri Sep 22 14:42:11 2017 : Preparing HMM database (should be quick)...\n",
      "Fri Sep 22 14:42:11 2017 : Checking and handling input sequence data (should not take long)...\n",
      "Fri Sep 22 14:42:11 2017 : Doing paralellised comparison to HMM database (this may take a long while)...\n",
      "    Fri Sep 22 14:45:14 2017 : Fungi analysis of main strand finished.\n",
      "    Fri Sep 22 14:45:44 2017 : Fungi analysis of complementary strand finished.\n",
      "    Fri Sep 22 14:45:44 2017 : All processes finished.\n",
      "Fri Sep 22 14:45:44 2017 : Parallel HMM-scan finished.\n",
      "Fri Sep 22 14:45:44 2017 : Analysing results of HMM-scan (this might take quite some time)...\n",
      "Fri Sep 22 14:45:44 2017 : Extraction finished!\n",
      "-----------------------------------------------------------------\n",
      "Thank you for using ITSx!\n",
      "Please report bugs or unsupported lineages to itsx@microbiology.se\n",
      "\n"
     ]
    }
   ],
   "source": [
    "!ITSx -i CHTC/Dada2_Results/DADA2_seqs.fasta -o CHTC/Dada2_Results/DADA2_seqs_FungITSx -t F -N 2 --cpu 4 --preserve T\n",
    "# Preserve keeps the same sequence IDs, rather than renaming with length, classification, etc."
   ]
  },
  {
   "cell_type": "code",
   "execution_count": 33,
   "metadata": {},
   "outputs": [
    {
     "name": "stdout",
     "output_type": "stream",
     "text": [
      "ITSx run started at Fri Sep 22 14:42:11 2017.\r\n",
      "-----------------------------------------------------------------\r\n",
      "Number of sequences in input file:       \t2843\r\n",
      "Sequences detected as ITS by ITSx:\t2805\r\n",
      "  On main strand:         \t0\r\n",
      "  On complementary strand:\t2805\r\n",
      "Sequences detected as chimeric by ITSx:\t0\r\n",
      "ITS sequences by preliminary origin:\r\n",
      "  Alveolates:      \t0\r\n",
      "  Amoebozoa:       \t0\r\n",
      "  Bacillariophyta: \t0\r\n",
      "  Brown algae:     \t0\r\n",
      "  Bryophytes:      \t0\r\n",
      "  Euglenozoa:      \t0\r\n",
      "  Eustigmatophytes:\t0\r\n",
      "  Fungi:           \t2805\r\n",
      "  Green algae:     \t0\r\n",
      "  Liverworts:      \t0\r\n",
      "  Metazoa:         \t0\r\n",
      "  Microsporidia:   \t0\r\n"
     ]
    }
   ],
   "source": [
    "!head -20 CHTC/Dada2_Results/DADA2_seqs_FungITSx.summary.txt\n",
    "# Ok, so some of these could get classified as Fungi, even though in the full run they fit better in another kingdom.\n",
    "# Hmm.\n",
    "# Probably better to use only the fungi from full run - and theses probably wouldn't match stuff in UNITE, anyway.\n",
    "# However... would be good to "
   ]
  },
  {
   "cell_type": "code",
   "execution_count": 35,
   "metadata": {},
   "outputs": [
    {
     "name": "stdout",
     "output_type": "stream",
     "text": [
      "CHTC/Dada2_Results/DADA2_seqs_FungITSx.ITS1.fasta\r\n",
      "CHTC/Dada2_Results/DADA2_seqs_FungITSx.ITS2.fasta\r\n",
      "CHTC/Dada2_Results/DADA2_seqs_FungITSx.full.fasta\r\n",
      "CHTC/Dada2_Results/DADA2_seqs_FungITSx.graph\r\n",
      "CHTC/Dada2_Results/DADA2_seqs_FungITSx.positions.txt\r\n",
      "CHTC/Dada2_Results/DADA2_seqs_FungITSx.problematic.txt\r\n",
      "CHTC/Dada2_Results/DADA2_seqs_FungITSx.summary.txt\r\n",
      "CHTC/Dada2_Results/DADA2_seqs_FungITSx_no_detections.fasta\r\n",
      "CHTC/Dada2_Results/DADA2_seqs_FungITSx_no_detections.txt\r\n"
     ]
    }
   ],
   "source": [
    "!ls CHTC/Dada2_Results/DADA2_seqs_FungITSx*"
   ]
  },
  {
   "cell_type": "code",
   "execution_count": 44,
   "metadata": {},
   "outputs": [
    {
     "name": "stdout",
     "output_type": "stream",
     "text": [
      ">sq1;size=202625;\r\n",
      "CTGCCCTCAAGCACGGCTTGTGTGTTGGGCTCCGTCCCCCGATCCCGGGGGACGGGCCCGAAAGGCAGCGGCGGCACCGCGTCCGGTCCTCGAGCGTATGGGGCTTTGTCACCCGCTCTGTAGGCCCGGCCGGCGCTTGCCGATCAACCAAATTTTTATCCA\r\n",
      ">sq2;size=171656;\r\n",
      "CTGCCCTCAAGCACGGCTTGTGTGTTGGGCTCCGTCCCCCCGGGGACGGGCCCGAAAGGCAGCGGCGGCACCGAGTCCGGTCCTCGAGCGTATGGGGCTTTGTCACCCGCTCTGTAGGCCCGGCCGGCGCCAGCCGACAACCCATCATCCTTTTCA\r\n",
      ">sq3;size=133599;\r\n",
      "CTGCCCTCAAGCACGGCTTGTGTGTTGGGCCCCGTCCTCCTTCCCGGGGGACGGGCCCGAAAGGCAGCGGCGGCACCGCGTCCGGTCCTCGAGCGTATGGGGCTTCGTCTTCCGCTCTTGTAGGCCCGGCCGGCGCTTGCCGACAACAATCAATCTTTTTTCA\r\n",
      ">sq4;size=102043;\r\n",
      "CTGCCCTCAAGCACGGCTTGTGTGTTGGGCTCCGTCCCCCCGGGGACGGGTCCGAAAGGCAGCGGCGGCACCGAGTCCGGTCCTCGAGCGTATGGGGCTTTGTCACCCGCTCTGTAGGCCCGGCCGGCGCCAGCCGACAACCAATCATCCTTTTCA\r\n",
      ">sq5;size=83121;\r\n",
      "CAACCCTCAAGCCCTGCTTGGTGTTGGGGTCCTACGGCTGCCGTAGGCCCTGAAAGCTAGTGGCGGGCTCGCTATAACTCCGAGCGTAGTAGTAAAATATCTCGCTAGGGAGGTGTCGCGGGTTCCGGCCGTGAAAGCCCATCTTTTACACAA\r\n",
      ">sq6;size=66541;\r\n",
      "CAACCCTCAAGCTCAGCTTGGTATTGGGCCCCGCCGACCCGGCGGGCCCTAAAGTCAGTGGCGGTGCCGTCCGGCTCCGAGCGTAGTAATTCTTCTCGCTCTGGAGGTCCGGTCGTGTGCTCGCCAGCAACCCCCAATTTTTTTCA\r\n",
      ">sq7;size=55260;\r\n",
      "CTGCCCTCAAGCCCGGCTTGTGTGTTGGGTCTCGTCCCCCTTCCCGGGGGGACGGGCCCGAAAGGCAGCGGCGGCACCGCGTCCGGTCCTCGAGCGTATGGGGCTTTGTCACCCGCTCTGTAGGCCCGGCCGGCGCTTGCCGATCAACCAAAACTTTTTTCCA\r\n",
      ">sq8;size=52153;\r\n",
      "CAACCCTCAAGCTCTGCTTGGTATTGGGCTCTGCCGGTCCCGGCAGGCCTTAAAATCAGTGGCGGTGCCATTCGGCTTCAAGCGTAGTAATTCTTCTCGCTTTGGAGGCCCGGGTGCGTGCTTGCCAGCAACCCCCAATTTTTTCA\r\n",
      ">sq9;size=48715;\r\n",
      "CTGCCCTCAAGCACGGCTTGTGTGTTGGGCCCCCGCCCCCCGGCCTCGGGGGGCGGGCCCGAAAGGCAGCGGCGGCACCGCGTCCGGTCCTCGAGCGTATGGGGCTTCGTCACCCGCTCTGTAGGCCCGGCCGGCGCCCGCCGGCGACCCCAATCAATCTATCCA\r\n",
      ">sq10;size=46093;\r\n",
      "CAACCCTCAAGCCTAGCTTGGTATTGGGTGTCACCGGCACGGTGCGCCTTAAAATCAGTGGCGGTGCCATCTGGCTTCAAGCGTAGTAATACTTCTCGCTCTGGATCCCGGGTGGTTACTTGCCAACAACCCCATATTTTTTAA\r\n",
      ">sq11;size=36850;\r\n",
      "GTACCTTCAAGCATTGCTTGGTGTTGGGTGTTTGTCTCGCCTTTGCGTGTAGACTCGCCTTAAAACAATTGGCAGCCGGCGTATTGATTTCGGAGCGCAGTACATCTCGCGCTTTGCACTCATAACGACGACGTCCAAAAGTACATTTTAACAC\r\n",
      ">sq12;size=36654;\r\n",
      "CTGCCCTCAAGCACGGCTTGTGTGTTGGGCCCCGTCCTCCGATTCCGGGGGACGGGCCCGAAAGGCAGCGGCGGCACCGCGTCCGGTCCTCGAGCGTATGGGGCTTTGTCACCCGCTCTGTAGGCCCGGCCGGCGCTTGCCGATCAACCCAAATTTTTATCCA\r\n",
      ">sq13;size=28817;\r\n",
      "CAACCCTCGAACCCCTCCGGGGGTCCGGCGTTGGGGATCGGGAACCCCTAAGACGGGATCCCGGCCCCGAAATACAGTGGCGGTCTCGCCGCAGCCTCTCATGCGCAGTAGTTTGCACAACTCGCACCGGGAGCGCGGCGCGTCCACGTCCGTAAAACACCCAACTTCTGAAA\r\n",
      ">sq14;size=23782;\r\n",
      "GTACCCTCAAGCTTTGCTTGGTGTTGGGCGTTTTGTCCCGCGTTTGCGTGTGGACTCGCCTTAAAGCGATTGGCAGCCGGCATATTGGCCTTGGAGCGCAGCACATTTTGCGCTTCTCGGTCTACTTGTTGGCGTCCATTAAGCCTATACATTTGC\r\n",
      ">sq15;size=22336;\r\n",
      "ACACCTCAACCCTCCAATGTTTTTGCATTGAAGGCGTTGGTAGTGAGCGCTGCCGGACTTCGGATCGGCTCGCTTTAAAATCATTAGCTGGATCCATTCTGACCTGGTTCTACTCGGCGTAATAAGTTATTATCGTCGAGGACGCCTGGCCTTCTAGGCTGGCGGCCACAGTAAGGGTGTTTGAACCGCTTCTAACGCGTCTTGCTCTTGTAGCAAACACTTGAAC\r\n",
      ">sq16;size=21582;\r\n",
      "AAAACCACTCAAGCTCTTTTGCTTGGTCATGGAAGAAGAGTCCGCTTGCCGGTCTCCCTTTCGAAATGCAATGGCGGAAGGTCTCTTGTACCCAGCGTAGTAATAACTTTTCGCTTTGTGCATTGATTCATTCCTGCCGTCAAACCCCCAATTTTCTTA\r\n",
      ">sq17;size=20957;\r\n",
      "AAATCTCAACCCCGCCGGGTTTTTTATTCGGTAGATGGGCTTTGGATCGTGACTGTTTGCTGGCCTTGTAATGAGACCCAGCTCGGTCGAAATACAAGAGTGGCTGATTCCCAATCCGGCCTGACTCGGCGTGATAATCACACTTCGCCGATTACGGATGGGGTGATAAAGGCTGCTTCCAAGATATATTACTTTTGA\r\n",
      ">sq18;size=20166;\r\n",
      "CCCCCCCACTCAAGCCTTTTCTTTGAAGAAGCTTGGATTACTTTGAAGATGTAGCTGTTGTAGCTGCCCTTCAGAAATTCATAGGCAGTATGGTTGTTCCTGAACCAGACGTAATAATAATAAAACCGTCAGTTTGGAAAGATTGTACTTGCCTTAACCCCACCCATCTTTTTTCTT\r\n",
      ">sq19;size=18894;\r\n",
      "CAACCCTCAAGCTCTGCTTGGTGTTGGGCCCAGCCCGTCGCGGCCGGCCCCAAAGACAGTGGCGGCGCCGTCGGGCCCTAAGCGTAGTACATCTCTCGCTCTAGGGCCCCGTGGTGGCTTGCCAGCAACCCCAACTCCTAT\r\n",
      ">sq20;size=18549;\r\n",
      "CAACCCTCAAGCTCTGCTTGGTGTTGGGCCCTGCCCGCTGCGGCCGGCCCTAAAGACAGTGGCGGTGCCGCCTGGCCCTGAGCGTAGTACATCTCTCGCTCCAGTGCCCGGCGGTGGCCTGCCAGAACCCCAACTCTCGT\r\n",
      ">sq21;size=18122;\r\n",
      "CAACCCTCAAGCACTGCTTGGTGTTGGGCCCTGCCCGTCGCGGCCGGCCCTAAAGACAGTGGCGGCGCCGTCTGGCTCTAAGCGTAGTACAACTCTCGCTCTGGAGCCCTGCGGTAGCTTGCCAGAACCCCTAATCTTAT\r\n",
      ">sq22;size=17917;\r\n",
      "AGAACCTCAAGCGAAAGCTTGGTTTTGGTCTTGCGCGGTTCGCCGTGCTGGTCCGAATTTGATTGGCTGGGCTGATCTAGCGATCGGTCCTTCAGCGTAATAGGTTTTACCCAACTCGCTGAACTTGGAGTGGCCTTGCTGGTCGCGCCCGGCCGTACCTCCCTCACGGGAAACTTTTTG\r\n",
      ">sq23;size=17052;\r\n",
      "CACCCCTCAAAGATGACTCTTTGGCGTTGGGCAATGCCTAAAGGCATGCCTCAAAATCAGCGATGGTGATATTCAACCACAGGCGCACACACGTCGTCTAGCTGGCGGGATGTTGACAGTCAATTGATGAATTTCTAAA\r\n",
      ">sq24;size=16939;\r\n",
      "CTACCCTGGAGCCCTGCTCTGTGATGGGCCCCGTCCTCGCGGACGGGCCCGAAACCCGTGGGCGCCGTCGTCCGGTCCCGAGCGTAGCAAGAGAAATCCCTCGCTCGGAGCATCAGGCGGTGGCCGCCCCGACCCATTTTTACAA\r\n",
      ">sq25;size=16174;\r\n",
      "CAACCCTCGAACCCCTCCGGGGGTCCGGCGTTGGGGATCGGCCCTTAACCGGCCGGCCCCGAAATACAGTGGCGGCCTCGCCGCAGCCTCTCATGCGCAGTAGTTTGCACACTCGCACCGGGAGCGCGGCGCGGCCACAGCCGTAAAACAAACCAAACTCTGAAA\r\n",
      ">sq26;size=14517;\r\n",
      "CAACCCTCAAGCTCTGCTTGGTGTTGGGCCCCGCCCGCTCGCGGCCGGCCCTAAAGACAGTGGCGGCAGCGCCTGGCTCCAAGCGTAGTACAGCTCTCGCTCTGGGGCTAGGCGGTAGCCTGCCAGAACCCCCCTTCTAT\r\n",
      ">sq27;size=13957;\r\n",
      "CAACCCTCAAGCCCTGCTTGGTGTTGGGCCCTGCCCGTTGCGGCCGGCCCTAAAGTCAGTGGCGGCGCCGTCCGGCTCTAAGCGTAGTACATCTCTCGCTCTAGGGCCCCGCGGTGGCTTGCCAGCAACCCCAACTCCTAT\r\n",
      ">sq28;size=13809;\r\n",
      "ATATATCAACCTCTTTAAATTTTGAGAGTGTTTGGATGTGGGGGTGTTATTTTGCTGGCCTTCTCCAAGGTCAGCTCCCCTGAAATGTATTAGCGGAACAATTTGTTGACCGTTCATTGGTGTGATAGCATATCTACGCTATTGACGTAAAGCAAGTTCAGCTTATAACAGTCCATTGACTTGGACAATTCTCTATTTATTA\r\n",
      ">sq29;size=13493;\r\n",
      "CTACCCTGGAGCCCTGCTCTGTGATGGGCCCCGTCCTCGCGGACGGGCCCGAAACCCGTGGGCGCCGTCGTCCGGTCCCGAGCGTAGCAAGAGAAATCCCTCGCTCGGAGCATCAGGCGGTGGCCGCCCTGACCCATTTTTACAA\r\n",
      ">sq30;size=13412;\r\n",
      "CTGCCCTCAAGCACGGCTTGTGTGTTGGGCCCCCGCCCCCCGGTCTCGGGGGGCGGGCCCGAAAGGCAGCGGCGGCACCGCGTCCGGTCCTCGAGCGTATGGGGCTTTGTCACCCGCTCTGTAGGCCCGGCCGGCGCCCGCCGGCGACCCCAATCAATCTATCCA\r\n",
      ">sq31;size=13194;\r\n",
      "CAACCCTCAAGCTCAGCTTGGTGTTGGGCCCCGCCGCCCCGGCGGGCCCTAAAGTCAGTGGCGGTGCCGTCCGGCTCCGAGCGTAGTAATTCTTCTCGCTCTGGAGGTCCGGTCGTGTGCTTGCCATCAACCCCCAATTTTTTTCA\r\n",
      ">sq32;size=12839;\r\n",
      "CTGCCCTCAAGCACGGCTTGTGTGTTGGGCCCCGTCCTCCGATCCCGGGGGACGGGCCCGAAAGGCAGCGGCGGCACCGAGTCCGGTCCTCGAGCGTATGGGGCTTTGTCACCCGCTCTGTAGGCCCGGCCGGCGCTTGCCGATCAACCAAATTTTTTCCA\r\n",
      ">sq33;size=11897;\r\n",
      "CTGCCCTCAAGCACGGCTTGTGTGTTGGGCCCCCGTCCCCCCCTCCCGGGGGACGGGCCCGAAAGGCAGCGGCGGCACCGCGTCCGGTCCTCGAGCGTATGGGGCTTTGTCACCCGCTCTGTAGGCCCGGCCGGCGCCTGCCGACCACCATCAATCTTTTTTTCA\r\n",
      ">sq34;size=11890;\r\n",
      "CAACCCTCAAGCACAGCTTGGTCTTGGGCTTCGCCGCTAACCCGGCGGGTCTTAAAATCAGTGGCGGTGCCGTCGGGCCCTGAGCGCAGTAATCTCTCTCGCTATAGGGTCCCGGCGGATGCTGGCCAGTAACCCCCAATTTTCTAT\r\n",
      ">sq35;size=11733;\r\n",
      "AGTTCTCAACCATACCTCGGTGTGGCTTGGATCTGGGGGTTTTTGCAGGCTTCAAAGAAAGTCGGCTCCCCTGAAAAGCATTAGCGGTGTCCGAGTACCTTTGGTGTGATAACTATCTATGCCTTGGTGTATACGATGCATGCTGCTTCTGAACTTTCATTTTTATTGACAA\r\n",
      ">sq36;size=11229;\r\n",
      "CAACCCTCAAGCATAGCTTGGTCTTGGGCTCCGCCGCTAACCCGGCGGGTCTTAAAATCAGTGGCGGTGCCGTCGGGCCCTGAGCGTAGTAAATCTCCTCGCTATAGGGTCCCGGTGGATACTGGCCAACAACCCCCAATTTTCTAT\r\n",
      ">sq37;size=11110;\r\n",
      "CAACCCTCAAGCTCTGCTTGGTATTGGGCTACACCCGACTGGGTGGGCCTTAAAATCAGTGGCGGTGCCATCTGGCTCTAAGCGTAGTAATTCTTCTCGCTCTGGAGATCTAGGTGTTTGCTTGCCAGCAACCCCCAATTTATCAAA\r\n",
      ">sq38;size=10983;\r\n",
      "CAACCCTCAAGCTCTGCTTGGTGTTGGGCCTCGCCGGTTCCGGCGGGCCTCAAAATCAGTGGCGGTGCCATCTGGCTTCAAGCGTAGTAATTCTTCTCGCTTCAGGAGACCCAGGTGTGTGCTTGCCAGCAACCCCCAACTTCTAT\r\n",
      ">sq39;size=10935;\r\n",
      "CTACCACTCAAGCTCTGCTTGGTTTTGGATACTGTAGGCCTATTATAGGCAGCTACATATCTTAAATATAGACGGCAGTACATACTAGTTCCGAGCGTAGCAGTAAAACATTTCGCTTTTGGAGTTTTAGTATCTAACTTACCGTAAAAAGTACTACTATA\r\n",
      ">sq40;size=10903;\r\n",
      "CTGCCCTCAAGCACGGCTTGTGTGTTGGGCCCCGTCCTCCGATCCCGGGGGACGGGCCCGAAAGGCAGCGGCGGCACCGCGTCCGGTCCTCGAGCGTATGGGGCTTTGTCACCCGCTCTGTAGGCCCGGCCGGCGCTTGCCGATCAACCAAATTTTTATCCA\r\n",
      ">sq41;size=10888;\r\n",
      "CTGCCCTCCAGCCCGGCTGGTGTGTTGGGCCCCGCCCCCCTTCCCGGGGGGGCGGGCCCGAAAGGCAGCGGCGGCACCGCGTCCGGTCCTCGAGCGTATGGGGCTTTGTCACCCGCTCTTGTAGGCCCGGCCGGCGCCAGCCGACCCCCTCAATCTATTTTTTCA\r\n",
      ">sq42;size=10667;\r\n",
      "CAACCCTCAAGCTCTGCTTGGTGTTGGGCCCCGCCGCCCCGGCGGGCCCTAAAGTCAGTGGCGGTGCCGTCCGGCTCCGAGCGTAGTAATTTTTCTCGCTTTGGAGGCCCGGGCGCGTGCTTGCCATCAACCCCCAATTTTTTCA\r\n",
      ">sq43;size=10537;\r\n",
      "AATTCTCAACTGCCCTTTTTTCTTTTTTTAAAAAAGAGGGTGAAGTTGGATTTGGAGCTCTTTGCTGGCTTTTTGTTTCTGGCTGCTCCTAAAAGCATTCCAAGCCCCTTCATTATCTTGGCGCAAAGTATCTTTGACGTGATAATTATCTACGTCGCAGAGAAAGCCTAGAAGAAGGGGGGCTTGTAAAGGATTTGTTTGACCC\r\n",
      ">sq44;size=10260;\r\n",
      "AGTTCTCAACCATACCTCGGTGTGGCTTGGATCTGGGGGTTTTTGCAGGCTTCAAAGAAAGTCGGCTCCCCTGAAAAGCATTAGCGGTGTCCGAGTACCTTTGGTGTGATAACTATCTATGCCTTGGTGTATACGATGCATGCTGCTTCTGAACTTTCATTTTTATTGACAA\r\n",
      ">sq45;size=10077;\r\n",
      "CAACCCTCAAGCTCTGCTTGGTGTTGGGCCCTGCCCGCTGCGGCCGGCCCCAAAGACAGTGGCGGTGCCGCCTGGCCCTGAGCGTAGTACATCTCTCGCTCCAGTGTCCGGCGGTGACCTGCCAGAACCCAAACTCTCGT\r\n",
      ">sq46;size=10068;\r\n",
      "CTGCCCTCAAGCACGGCTTGTGTGTTGGGCTCCGTCCCCCCGGGGACGGGCCCGAAAGGCAGCGGCGGCACCGAGTCCGGTCCTCGAGCGTATGGGGCTTTGTCACCCGCTCTGTAGGCCCGGCCGGCGCCAGCCGACAACCAATCATCCTTTTCA\r\n",
      ">sq47;size=9421;\r\n",
      "CAACCCTCAAGCTCTGCTTGGTGTTGGGCCCCGCCGCCCCGGCGGGCCCTAAAGTCAGTGGCGGTGCCGTCCGGCTCCGAGCGTAGTAATTTTTCTCGCTTTGGAGGCCCGGGCGCGTGCTCGCCATCAACCCCCAATTTTTTTCA\r\n",
      ">sq48;size=9182;\r\n",
      "CAACCCTCAAGCCTAGCTTGGTATTGGGCCTCGCCACTAACCTGGCGGGCCTCAAAATTAGTGGCGGTGCCGTCGTGGCCCTGAGCGTAGTAAATATCCTCGCTATAGGGACCCGGCGGTTACTGGCCAGCAACCCCCAACTTTTCTAA\r\n",
      ">sq49;size=9014;\r\n",
      "ACACCTCAACCCTCCAATGTTTTTGCATTGAAGGTGTTGGTAGTGAGCGCTGCCGGACTTTTGGTCGGCTCGCTTTAAAATCATTAGCTGGATCCATTCTGACCTGGTTCTACTCGGCGTAATAAGTTATTATCGTCGAGGACGCTTGTCTTTCTAGGCAGGCGGCCACAGTAAGGGTGTTTGAACCGCTTCCAACACGTCTTGCTCTTGTAGCAAACACTTGAAC\r\n",
      ">sq50;size=8893;\r\n",
      "CAACCATCAAGCTCTGCTTGCGTTGGGGATCCGCGGCTGCCCGCGGTCCCTCAAAAACAGTGGCGGGCTCGCTAGTCACACCGAGCGTAGTAACTCTACATCGTTCTGGTCGTGCGGCGGGTTCTTGCCGTAAAACCCCCCAATTTCTAA\r\n",
      ">sq51;size=8658;\r\n",
      "CAACCCTCAAGCTCTGCTTGGTGTTGGGCCCGGCCCGCTCGCGGCCGGCCCTAAAGACAGTGGCGGCGGCGTCTGGCTCCAAGCGTAGTACAGCTCTCGCTCTGGGGCTAGGCGGTAGCCTGCCAGAACCCCCCTTCTAT\r\n",
      ">sq52;size=8442;\r\n",
      "CAACCCCTCAAGCTCTGCTTGGTGTTGGGCCCCGCCCGCTCGCGGCCGGCCCTAAAGACAGTGGCGGCAGCGCCTGGCTCCAAGCGTAGTACAATTCTCGCTCTGGTGCTAGGCGGTGGCCTGCCAGAACCCCCCTTCTAT\r\n",
      ">sq53;size=8197;\r\n",
      "CAACCCTCAAGCTCTGCTTGGTGTTGGGCCCCGCCGCCTCGGCGGGCCCTAAAGTCAGTGGCGGTGCCGTCCGGCTCCGAGCGTAGTAATTTTTCTCGCTTTGGAGGCCCGGGCGCGTGCTCGCCATCAACCCCCAATTTTTTCA\r\n",
      ">sq54;size=8186;\r\n",
      "CTGCCCTCAAGCACGGCTTGTGTGTTGGGCTCCGCCCCCCTCCCGGGGGGCGGGCCCGAAAGGCAGCGGCGGCACCGCGTCCGGTCCTCGAGCGTATGGGGCTTTGTCACCCGCTCTGTAGGCCCGGCCGGCGCCCGCCGGCGACCCCAATCAATCTTTCCA\r\n",
      ">sq55;size=7508;\r\n",
      "TCAACCATCAAGCCTGGCTTGTCGTTGGACCTCTTTTACCGCTGAAATATGTGGTAGGTCCGAAAGATAATGACGGCGTCGTGTTTGACCCTAGATGCAACGAGCTTTTTATAGCACGCATTGAAGTGGTCGGCCGACCCGGTCTTTAACCATTATTTTCTAA\r\n",
      ">sq56;size=7109;\r\n",
      "CAACCCTCAAGCTCTGCTTGGTGTTGGGCCCCGCCCGCTCGCGGCCGGCCCTAAAGACAGTGGCGGCAGCGCCTGGCTCCAAGCGTAGTACAATCCTCGCTCTGGTGCTAGGCGGTGGCCTGCCAGAACCCCCCTTCTAT\r\n",
      ">sq57;size=6786;\r\n",
      "TAACCACTCAAGCCTGGCTTGGTATTGGGGCTCGCGGTTCCGCGGCCCTTAAAATCAGTGGCGGTGCCGTCTGGCTCTAAGCGTAGTAATTCTCTCGCTATAGGGTCCTGGCGGTAGCTTGCCAAAATCCCCCTATTTTTTAC\r\n",
      ">sq58;size=6701;\r\n",
      "CTGCCCTCAAGCACGGCTTGTGTGTTGGGCCCCGTCCTCCGATTCCGGGGGACGGGCCCGAAAGGCAGCGGCGGCACCGCGTCCGGTCCTCGAGCGTATGGGGCTTTGTCACCCGCTCTGTAGGCCCGGCCGGCGCTTGCCGATCAACCCAAAATTTTATCCA\r\n",
      ">sq59;size=6674;\r\n",
      "CAACCCTCAAGCTCTGCTTGGTGTTGGGCCCTGCCCGCTGCGGCCGGCCCTAAAGACAGTGGCGGTGCCGCCTGGCCCTGAGCGTAGTACATCTCTCGCTCCAGTGCCTGGCGGTGGCCTGCCAGAACCCCAACTCTCGT\r\n",
      ">sq60;size=6660;\r\n",
      "CAACCCTCAAGCTCTGCTTGGTGTTGGGCCCAGCCCGTCGCGGCCGGCCCCAAAGACAGTGGCGGCGCCGTCGGGCCCTAAGCGTAGTACATCTCTCGCTCTAGGGCCCCGTGGTGGCTTGCCAGCAACCCCAACTTCTAT\r\n",
      ">sq61;size=6655;\r\n",
      "AGTTCTCAACCACATAATTTTTGTGGCTTGGATTGTGGGGGTGTTGCCGGCTTTTATATAAAAGTAGGCTCTCCTTAAATGCATAAGTGGTGTTTAGAAAGCTACGTGTCGGGTGTTGTAAATTGCTAATACACCTTTTTGGCAATTCTAATATGCTGCTTCCAACCCTTTGTTTTGACAA\r\n",
      ">sq62;size=6565;\r\n",
      "AGTCCAAATCACGCCTAGCGTGGTCTTGGGGCATGCCTCTGGGCAGTCCTTAAACGTAGTGGCGGCGCCGTCTGGCTCTAAGCGTAGTAATTTCTCTCGCTATAGGGTCCTGCGGATGCTTGCCAGCAACCCCCAATACAATC\r\n",
      ">sq63;size=6551;\r\n",
      "TAAAACCTCAAAAGAAGTTTTTTTTAATTAAGATTCTTCGTTTGGTCTTGAGTAGTATTCTGTTTTACGACGGGATTCTGTTTGAAATATATTAGTAGAGCATGCTTAGAGGAAAGTTCGAAAGCATTATGATAAACCTTTTATTGGTGTATTAAGATTTATTCTAAATCACTATAATGGTATATCTAGTTTTAGATCTTGCATATCTTCTATTGAAAGCTCTTCTGTAATCTGCTTTTGTTTATAGATTTATCTATAAGCGAAATCAATTTCTATAT\r\n",
      ">sq64;size=6507;\r\n",
      "CAACCCTCAAGCTCAGCTTGGTATTGGGCCCCGCCGACCCGGCGGGCCCTAAAGTCAGTGGCGGTGCCGTCCGGCTCCGAGCGTAGTAATTCTTCTCGCTCTGGAGGTCCGGTCGCGTGCTCGCCAGCAACCCCCAATTTTTTTCA\r\n",
      ">sq65;size=6474;\r\n",
      "AAACACCTCAGTTCTCTTTTTGAGAACTGGACTTGAGTCATCCCAACGGCGGTTTCAAAACTACTGGCGGGTCGCTTGAAATGCAGGTGCGGCTGGACACATCTTCTGAGCTATAAGCATTACTTATTTAATCCCGTCAGACGGATTATTTCTACTGCTACAGCTATATAAGGTCGATTGTCCGTTTGCCCGACTGATGCAGAAAAAACAGAGAGAAATCTTTGTTC\r\n",
      ">sq66;size=6408;\r\n",
      "AAACCCTCAACCCTAGATTGGTTAAAACCTTTCTTTGGTTTGGATTTGGACGTTTGCCGATGATAAGTCGGCTCGTCTTAAAAGTAATAGCTGGATCTGTCTCGCGACATGGTTTGACTTGGCGTAATAAGTATTTCGCTAAGGACATCTTCGGATGGCCGCGTTGCAGGACTAAAGACCGCTTTCTAATCCATTGATCTTACGATTAATATTCTTGAC\r\n",
      ">sq67;size=6186;\r\n",
      "CATTCTTAAATCTATGGATTTAGTGTTGGACAATTCTTCGAGAGAAGATGGTCTGAAATGAATTTTGGCAGAGGCGACTATATAAGCTTTTACAACGTATTAGGTTTTACCATCTCGTTGGAAATATACGGTGAATATAGCAGCTTTGGCGTTATAACTAAAACTTCAAAA\r\n",
      ">sq68;size=6125;\r\n",
      "CACCACTCAAGCCTCGCTTGGTATTGGGCAACGCGGTCCGCCGCGTGCCTCAAATCGTCCGGCTGGGTCTTCTGTCCCCTAAGCGTTGTGGAAACTATTCGCTAAAGGGTGTTCGGGAGGCTACGCCGTAAAACAACCCCATTTCTAA\r\n",
      ">sq69;size=5944;\r\n",
      "CTGCCCTCAAGCACGGCTTGTGTGTTGGGCCCCCGTCCCCCCCTCCCGGGGGACGGGCCCGAAAGGCAGCGGCGGCACCGCGTCCGGTCCTCGAGCGTATGGGGCTTTGTCACCCGCTCTGTAGGCCCGGCCGGCGCCTGCCGACCACCATCAATCTTTTTTTCA\r\n",
      ">sq70;size=5910;\r\n",
      "AACACCTCAACTCCCTTTCTTCTTGAAATGGAGCTGGACTTGAGTGATCCCAACGCTTTATTCATAAAGTGGCGGGTTACTTGAAATGCAGGTGCAGCTGGACTTTTCTCTGAGCTATAAGCATATCTATTTAGTCTGCCTCAAAAACAGATTATTACCTTTGCTGCAGCTAACATAAAGGAGATTAGTTCTTGTGCTGACTGATGCAGGATTCACAAAGACCGCTTCGGCTGTCTTTGTAA\r\n",
      ">sq71;size=5813;\r\n",
      "CTGCCCTCAAGCACGGCTTGTGTGTTGGGCCTCCGTCCTCCTCCCGGGGGACGGGCCCGAAAGGCAGCGGCGGCACCGCGTCCGGTCCTCGAGCGTATGGGGCTTCGTCACCCGCTCTTGTAGGCCCGGCCGGCGCTTGCCGACACATCAATCTTTTTTCCA\r\n",
      ">sq72;size=5672;\r\n",
      "ATCTCTCAACTACATCAATCTTTCTGGTTTGGTGTGGCTTTTGGATGTGGGGGTCTTCTTTTGCTGGCTTCTATTAAATGAGGTCGGCTCCCCTGAAATTTATTAGTGGTATCTGAGCAGAGAGACCTACTACAGGTGTGATAAATTATCTGCACCTTGGTAATGCTGCATGAACAGATTGTGCTGCTTCCAGTGAATTATTTGACAA\r\n",
      ">sq73;size=5650;\r\n",
      "ATATATAAATCAATCTTCTCTTGATGAGTGGTTTGGATGTGGGGGTTTGCTGGCAGCCTCTTTGAGGATTCAGCTCCCCTGAAATGCATTAGCAGAACAAACCCGTTCATTGGTGTGATAACTATCTACGCTATTGAATGTGAGGTGGCAGTTCAGCTTTCTAACAGTCTTTGGACAAATTCATCATTA\r\n",
      ">sq74;size=5607;\r\n",
      "CAACCATCAAGCCCCCGGCTTGCGTTGGAGCCCTGCGGCTGCCGCAGGCTCCCAAATTCAGTGGCGGGCTCGTCGTCGTACCGAGTGCAGTAAACATCCTCGCTCAGGGAACGCGGCGGGTTCTTGCCGTGAAACCCCCCCCACATCAA\r\n",
      ">sq75;size=5578;\r\n",
      "CAACCCTCAAGCACAGCTTGGTCTTGGGCTTCGCCGCTAACCCGGCGGGTCTTAAAATCAGTGGCGGTGCCGTCGGGCCCTGAGCGCAGTAATCTCTCTCGCTATAGGGTCCCGGTGGATGCTGGCCAGTAACCCCCAATTTTCTAT\r\n",
      ">sq76;size=5520;\r\n",
      "GCACTCTCACATCTAACCTTTGGGTTAAAATGTGGAATTGGGATGCGCCGGTTATTATAACGGCCCTCCTAAAATTCAGTTCTTGGCTGCTTCCTACTACAGCAGTTTGGCCTAATAGTTTTGAGTCTTCGATTCAAATCTTTGGCTAACATTTGCTTCAGGATGTCAGTCTTGATATACAGAAATCTCATTCAAA\r\n",
      ">sq77;size=5409;\r\n",
      "AATTCTCAAAGTCTTTTTTCTTTTTTGAAAAGACTTTGGATTTGGAGTGTTGCCGGCTTTATTTGTTGGCTCCTCTTAAATGCATTAGCTTGTTAATCTTTGTGGAATATAGGCTTTGGTTTGATAGTATCTATGCCATTGCTTGTGAAACAAATACCAGCTTCTAATAAACCCTTCATTTGACA\r\n",
      ">sq78;size=5396;\r\n",
      "ACTCTTCAACCCACCAGTTTCTAGTAGACTGTGTGATGTTTGGATCTTGAGTGTTGCTAGTCTGACTAGCTCGTTCGTAATATATTAGCATCTCTAATTCGACTTCGGATTGACTCAGTGTAATAGGACTATTCGCTGAGGACACTTTTATTAGTGGCCGTATGAGAACCAGTAGAAGCTTCCAACTACTTAGTCAACTTTGA\r\n",
      ">sq79;size=5357;\r\n",
      "TCACCCCTCAAGCCCTGTGCTTGGTGTTGGACGGCCAGGTCGAGTAATATCGACCCCTCCCAAAGACAATGACGGCGGCCTGTGGTTCCCCCGGTACACTGAGCTTTTAACTGAGCACGTATCGGACAAGGGCGCCCGGGACACGGTCCTCTCCTTTAGCTAGGAAACTTTTCAA\r\n",
      ">sq80;size=5277;\r\n",
      "GTACCCTCAAGCTCTGCTTGGTGTTGGGTGTTTGTCTTTTCCACGCGATCAGACTCGCCTTAAAATAATTGGCAGCCAGTGTTTTGGTTTTGAAGCGCAGCACAAGTCGCGATTCAGCTTATATCACTAGTTTCCATTAAGCAATTTATCAC\r\n",
      ">sq81;size=4992;\r\n",
      "CAACCCTCAAGCTCTGCTTGGTGTTGGGCCCCGCCCGCTCGCGGCCGGCCCTAAAGACAGTGGCGGCAGCGCCTGGCTCCAAGCGTAGTACAGCTCTCGCTCTGGTGCTAGGCGGTAGCCTGCCAGAACCCCCCCTCTAT\r\n",
      ">sq82;size=4988;\r\n",
      "TCAACCATCAAGCCCGGCTTGTCGTTGGACCCGTTTGTCGCCACAAGCGATAGGTCCGAAAGATAATGAACGGTGTCATGGTGGCCCTAAATGCAACGAGCTTTTAATAGCACGCATCTGGTGGTCGGCAGGCCCAGTCTTAACCCATTATTTCAA\r\n",
      ">sq83;size=4982;\r\n",
      "TCACCCCTCAAGCCCCGCGCTTGGTGTTGGACGGCCGGTCGAGCGATCGACCCCTCCTAAAGACAATGACGGCGGCCTGTGGTTCCCCCGGTACACTGAGCTTTTAATTGAGCACGTATCGGACAAGGGCACCCGGGACCCGGTCCTCTCCTTTAACTAGGAAACTTCTAA\r\n",
      ">sq84;size=4846;\r",
      "\r\n",
      "AATTCTCAACTGCCCTTTTTTCTTTTTTTAAAAAAGAGGGTGAAGTTGGATTTGGAGCTCTTTGCTGGCTTTTTGTTTCTGGCTGCTCCTAAAAGCATTCCAAGCCCCTTCATTATCTTGGCGCAAAGTATCTTTGACGTGATAATTATCTACGTCGCAGAGAAAGCCTAGAAGAAGGGGGACTTGTAAAGGATTTGTTTGACCC\r\n",
      ">sq85;size=4819;\r\n",
      "CAACCCTCAAGCACTGCTTGGTGTTGGGCCCTGCCCGTCGCGGCCGGCCCTAAAGACAGTGGCGGCGCCGTCTGGCTCTAAGCGTAGTACAACTCTCGCTCTGGAGTCCTGCGGTAGCTTGCCAGAACCCCTAATCTTAT\r\n",
      ">sq86;size=4714;\r\n",
      "AACACCTCAACTCCCCTTTCTTTTTTTGAAATGGGAGCTGGACTTGAGTGATCCCAACGCTTTTCTCACCGAAAAGTGGCGGGTTACTTGAAATGCAGGTGCAGCTGGACTTTTCTCTGAGCTAAAAGCATATCTATTTAGTCTGCCTAAAAAACAGATTATTACCTTTGCTGCAGCTAACATAAAGGAGATTAGTTCTTGTGCTGACTGATGCAGGATTCACAGAGACAGCTTCGGCTGGCCTTTGTAA\r\n",
      ">sq87;size=4634;\r\n",
      "CAACCCTCAAGCCCTGCTTGGTGTTGGGGCCCTACGGCTGCCGTAGGCCCTGAAAGGAAGTGGCGGGCTCGCTACAACTCCGAGCGTAGTAATTCATTATCTCGCTAGGGAGGTTGCGGCGTGCTCCTGCCGTTAAAGACCCATCTTTAACCAA\r\n",
      ">sq88;size=4619;\r\n",
      "CAACCCTCAAGCTCTGCTTGGTGTTGGGCCCAGCCCGTCGCGGCCGGCCCCAAAGACAGTGGCGGCGCCGTCAGGCCCTAAGCGTAGTACATCTCTCGCTCTAGGGCCCCGCGGTGGCTTGCCAGCAACCCCAACTCCTAT\r\n",
      ">sq89;size=4582;\r\n",
      "GCACTCTCACACCTAACCTTTGGGTTTTGGCGTGGAATTGGAATGCGCCAACTCTTCACAGGTTGGCCCTTCTAAAATGTAGTTCTTGGCTGTCACCTAACACAGCAGTTTGGCCTAATAGTTTTGGCATTCATTGTCAAATCTTTGGCTAACATTTGCTCCAGGAGTCAGTCTCGATAATACAGAAAACTCATTCAAA\r\n",
      ">sq90;size=4580;\r\n",
      "TAACCACTCAAGCCTCGGCTTGGTCTTGGGGTTCGCGGTCTCGCGTCCCTTAAAATCAGTGGCGGTGCCGTCTGGCTCTAAGCGTAGTAATTCTCTCGCTATAGGGTCCCGGCGGTTGCCTGCCAGAACCCCCCATTTTTTAC\r\n",
      ">sq91;size=4573;\r\n",
      "CACCACTCAAGCCTGGCTTGGTGTTGGGCGACGTCCCCTTTGGGGACACGCCTCGAAACGCTCGGCGGCGTGGCACCGGCTTTAAGCGTAGCAGAATCTTTCGCTTTAAAAGTCGGGGCCCCGTCTGCCGGAAGACCTACTCGCAA\r\n",
      ">sq92;size=4563;\r\n",
      "AGTTCTCAACCATACTTCGGTGTGGCTTGGATTTGGGGGGTTTTGCAGGCTTCAAAGAAAGTCGGCTCTCCTGAAAAGCATTAGCGGTATCCGAGTACCTTTGGTGTGATAACTATCTATGCCTTGGTGTATACGATGCATGCTGCTTCTGAACTTGCGTCTTGCGCATTTTATTGACAA\r\n",
      ">sq93;size=4528;\r\n",
      "CAACCCTCAAGCTCTGCTTGGTGTTGGGCCCTGCCCGCTGCGGCCGGCCCCAAAGACAGTGGCGGTGCCGCCTGGCCCTGAGCGTAGTACATCTCTCGCTCCAGTGTCCGGCGGTGGCCTGCCAGAACCCAAACTCTCGT\r\n",
      ">sq94;size=4520;\r\n",
      "ATATATCAACCTTCTCTTTTTGAGTGGTTTGGATGTGGGGGTTTGCTGGCCTCTTAAAAGGTCTTGGCTCTCCTGAAATACATTAGCAGAACAACCCTGTTCATTGGTGTGATAACTATCTACGCTATTGAATGTGAAGGGCAGTTTGGCTTTCTAACAGTCCTTGGACAAGCTCATCATTA\r\n",
      ">sq95;size=4456;\r\n",
      "CAACCCTCAAGCAACTTCTGCTTGGTGTTGGGGATCGGCCGTCAAACGCCGCCCCCGAAATCTATTGGCGATCTCGCTGTAGCTTCCTATGCGTAGTAGTAACATCTCGCATCTGGAGAGCGGCGCGGTCATGCCGTAAAACACCCAACTTTTCA\r\n",
      ">sq96;size=4419;\r\n",
      "AAATATCAACCTTGACTTGGGTTTTGTGCTCGAGTCTTGGCTTGGATGTGGGTGCTTGCCGCTTTAACGAGCGGCTCACCTTAAATGTATTAGCTGGATCTGTCTTTGAGACTTGGTTTGACTTGGCGTAATAAGTATTTCGCTAAGGACATTCTTCGGAATGGCCTCGTTTCTGGGACGCTTGTCCGCTTTCCAATACAAGTTCCATTCGTGGACATGACTTTTTATT\r\n",
      ">sq97;size=4381;\r\n",
      "ACATTATCTTGCTTACAATGTTTCAAAGCACTGTAGGGGAGGATTTGGGATTTCTGCTAGTGGAGTAATTCACTAATAGTAGTTTCCTTAAAATGATTCAGTTTGTATGGCATCTAGCGGAAGGCGCTGCATTGTGTTAAGACTTTGCAAACTACCTGCCTAGCTAGGTTATGATTATAATGGGACCGGGGTCCTTTTAGTCACTTTCCTAGTTTTCGGCTTTTGGTTTGTAATGTTCTGAGATAATGCCTTCTACTGTGCTTTGCAGGTTGTTTTTTAACCTTAGAGTGATCTAAGGACTTCATTATGTGCTGCAGTTAGCTCACATTTTGTATCAA\r\n",
      ">sq98;size=4328;\r\n",
      "CAACCCTCAAGCTCTGCTTGGTGTTGGGCCCCGCCGCCCCGGCGGGCCCTAAAGTCAGTGGCGGTGCCGTCCGGCTCCGAGCGTAGTAATTTTTCTCGCTTTGGAGGCCCGGTCGCGTGCTTGCCATCAACCCCCAATTTTTTTCA\r\n",
      ">sq99;size=4319;\r\n",
      "GTACCCTCAAGCTTTGCTTGGTGTTGGGCGTTTTGTCCCGCGTTTGCGTGTGGACTCGCCTTAAAGCGATTGGCAGCCGGCATATTGGCCTTGGAGCGCAGCACATTTTGCGTTTCTCGGTCTACTTGTTGGCGTCCATTAAGCCTATACATTTGC\r\n",
      ">sq100;size=4288;\r\n",
      "ACACCTCAACCCTCCAATGTTTTTGCATTGAAGGCGTTGGTAGTGAGCGCTGCCGGACTTCGGATCGGCTCGCTTTAAAATTATTAGCTGGATCCATTCTGACCTGGTTCTACTCGGCGTAATAAGTTATTATCGTCGAGGACGCCTGGCCTTCTAGGCTGGCGGCCACAGTAAGGGTGTTTGAACCGCTTCTAACGCGTCTTGCTCTTGTAGCAAACACTTGAAC\r\n"
     ]
    }
   ],
   "source": [
    "!head -200 CHTC/Dada2_Results/DADA2_seqs_FungITSx.ITS2.fasta"
   ]
  },
  {
   "cell_type": "code",
   "execution_count": 49,
   "metadata": {},
   "outputs": [
    {
     "name": "stdout",
     "output_type": "stream",
     "text": [
      ">sq83;size=4982;\r\n",
      "TCACCCCTCAAGCCCCGCGCTTGGTGTTGGACGGCCGGTCGAGCGATCGACCCCTCCTAAAGACAATGACGGCGGCCTGTGGTTCCCCCGGTACACTGAGCTTTTAATTGAGCACGTATCGGACAAGGGCACCCGGGACCCGGTCCTCTCCTTTAACTAGGAAACTTCTAA\r\n",
      ">sq84;size=4846;\r\n",
      "AATTCTCAACTGCCCTTTTTTCTTTTTTTAAAAAAGAGGGTGAAGTTGGATTTGGAGCTCTTTGCTGGCTTTTTGTTTCTGGCTGCTCCTAAAAGCATTCCAAGCCCCTTCATTATCTTGGCGCAAAGTATCTTTGACGTGATAATTATCTACGTCGCAGAGAAAGCCTAGAAGAAGGGGGACTTGTAAAGGATTTGTTTGACCC\r\n",
      ">sq85;size=4819;\r\n",
      "--\r\n",
      "--\r\n",
      ">sq839;size=259;\r\n",
      "TAACCACTCAAGCCTCGGCTTGGTCTTGGGGTTCGCGGTCTCGCGGCCCTTAAAATCAGTGGCGGTGCCGTCTGGCTCTAAGCGTAGTAATTTTCTCGCTATAGGGTCTAGGCGACCACCTGCCAGAACCCCCCATTCTTTAC\r\n",
      ">sq840;size=259;\r\n",
      "AGTTCTCAACCATACCCTGGGTGTCTCCTGGGTGTGGCTTGGATTTGGGGGGTTTTGCAGGCTTTCTTTGAAAGAACAAAGTCGGCTCCCCTGAAAAGCATTAGTGGTATCTGAGCTACCTTGGGTGTGATTAACTATCTATGCCCTTGGTGTATGTATGCAAATGCATGAACAGATTGTGCTGCTTCTGAACTTGCGTCTTGCGCATTTGACAA\r\n",
      "--\r\n",
      "AGTTCTCAACCATACCCTGGGTGTCTCCTGGGTGTGGCTTGGATTTGGGGGGTTTTGCAGGCTTTCTTTGAAAGAACAAAGTCGGCTCCCCTGAAAAGCATTAGTGGTATCTGAGCTACCTTGGGTGTGATTAACTATCTATGCCCTTGGTGTATGTATGCAAATGCATGAACAGATTGTGCTGCTTCTGAACTTGCGTCTTGCGCATTTGACAA\r\n",
      ">sq841;size=256;\r\n",
      "AACATCAATCCCCAGTGGTTTTCTGAACCGCCGGCGGACTTGGACCTGGGCGTCTGCCTCACAAGGCTCGCCTCAAATGACTCAGTGGGAACTCTTTGACCTACGCCTGACGTAATAAGTTTCGTCTCGGCCGGTCGCTGGGCCCGCTCACAACACCCCATATCTTTTGA\r\n",
      "--\r\n",
      "AACATCAATCCCCAGTGGTTTTCTGAACCGCCGGCGGACTTGGACCTGGGCGTCTGCCTCACAAGGCTCGCCTCAAATGACTCAGTGGGAACTCTTTGACCTACGCCTGACGTAATAAGTTTCGTCTCGGCCGGTCGCTGGGCCCGCTCACAACACCCCATATCTTTTGA\r\n",
      ">sq842;size=254;\r\n",
      "CAACCCTCACGCCCCGCGTGGTCTTGGGCCGAGCCCCCCCGGCTGGCCTCAAAAGCAGTGGCGGTGCCTCTGGGCCCTGAGCGTAGTAAACACTTCCGCTACAGGGCTCCCGAGCGCGCTGGCCAAACCCCAACTCTTTA\r\n",
      "--\r\n",
      "CAACCCTCACGCCCCGCGTGGTCTTGGGCCGAGCCCCCCCGGCTGGCCTCAAAAGCAGTGGCGGTGCCTCTGGGCCCTGAGCGTAGTAAACACTTCCGCTACAGGGCTCCCGAGCGCGCTGGCCAAACCCCAACTCTTTA\r\n",
      ">sq843;size=254;\r\n",
      "ATATATCAATCTCTTCAGCTTTTGCTTGTTGAGTATTGGATGTGGGGGCCTTTTTTGCTGGTCTTTTAAAAGAGGTCAGCTCCCCTAAAATGTATTAGCGGAACAATTTGTTGACCGTTCATTAGTGTGATAATTATCTACGCTATTGACGTGAGGCAGTTCAGCTTCTAACAGTCTATTAACTTGGACAGTTTTTCATTA\r\n",
      "--\r\n",
      "ATATATCAATCTCTTCAGCTTTTGCTTGTTGAGTATTGGATGTGGGGGCCTTTTTTGCTGGTCTTTTAAAAGAGGTCAGCTCCCCTAAAATGTATTAGCGGAACAATTTGTTGACCGTTCATTAGTGTGATAATTATCTACGCTATTGACGTGAGGCAGTTCAGCTTCTAACAGTCTATTAACTTGGACAGTTTTTCATTA\r\n",
      ">sq844;size=252;\r\n",
      "CAACCCTCAAGCGCAGCTTGGTCTTGGGCTTCGCCGCTGACGCGGCGGGTCTTAAAATCAGTGGCGGTGCCGTCGGGCCCTGAGCGTAGTACATCTCCTCGCTATAGGACCCCGGCGGATGCTGGCCAGCAACCCCCAATCTTCCAT\r\n",
      "--\r\n",
      "CAACCCTCAAGCGCAGCTTGGTCTTGGGCTTCGCCGCTGACGCGGCGGGTCTTAAAATCAGTGGCGGTGCCGTCGGGCCCTGAGCGTAGTACATCTCCTCGCTATAGGACCCCGGCGGATGCTGGCCAGCAACCCCCAATCTTCCAT\r\n",
      ">sq845;size=252;\r\n",
      "CAACCCTCAAGCTCTGCTTGGTGTTGGGCCATGCCCTCGCGGCCGGCCCCAAAGCCAGTGGCGGTGCCGTCCGGCTCTAAGCGTAGTACATCTCTCGCTCTAGGGCCCCGCGGTTGCCTGCCAGAACCCAAACTCTTAT\r\n",
      "--\r\n",
      "CAACCCTCAAGCTCTGCTTGGTGTTGGGCCATGCCCTCGCGGCCGGCCCCAAAGCCAGTGGCGGTGCCGTCCGGCTCTAAGCGTAGTACATCTCTCGCTCTAGGGCCCCGCGGTTGCCTGCCAGAACCCAAACTCTTAT\r\n",
      ">sq846;size=251;\r\n",
      "AATTCTCAACCTTGCCAGCTTTTACGAGTCGGCGTAGGCTTGGATGTGGGGGTTGCCGGCTTCTTCAGAGGTCGGCTCTCCTTAAATGCATTAGCGGAACCTTTGTGGACCGTCTCTGGTGTGATAATTATCTACGCCATTGCCGTGAAGCAGCTTTACATGGGGTTCAGCTCATAACCGTCCATTAACTTGGACAACTCTTGACA\r\n",
      "--\r\n",
      "AATTCTCAACCTTGCCAGCTTTTACGAGTCGGCGTAGGCTTGGATGTGGGGGTTGCCGGCTTCTTCAGAGGTCGGCTCTCCTTAAATGCATTAGCGGAACCTTTGTGGACCGTCTCTGGTGTGATAATTATCTACGCCATTGCCGTGAAGCAGCTTTACATGGGGTTCAGCTCATAACCGTCCATTAACTTGGACAACTCTTGACA\r\n",
      ">sq847;size=251;\r\n",
      "CTGCCCTCAAGCACGGCTTGTGTGTTGGGCCCCGTCCTCCGATCCCGGGGGACGGGCCCGAAAGGCAGCGGCGGCACCGCGTCCGGTCCTCGAGCGTATGGGGCTTCGTCTTCCGCTCTTGTAGGCCCGGCCGGCGCTTGCCGACAACAATCAATCTTTTTTCA\r\n",
      "--\r\n",
      "CTGCCCTCAAGCACGGCTTGTGTGTTGGGCCCCGTCCTCCGATCCCGGGGGACGGGCCCGAAAGGCAGCGGCGGCACCGCGTCCGGTCCTCGAGCGTATGGGGCTTCGTCTTCCGCTCTTGTAGGCCCGGCCGGCGCTTGCCGACAACAATCAATCTTTTTTCA\r\n",
      ">sq848;size=251;\r\n",
      "TAACCCTCAAGCCTAGCTTGGTGTTGGAGCCTGCCTCTGGGCAGCTCTTAAAATCAGTGGCGGTGCCGTCTGGCTCTAAGCGTAGTAATTTTTCTCGCTACAGAGTCCCGGCGGTTGCTTGCCAACAACCCCAAATTTTCTAT\r\n",
      "--\r\n",
      "TAACCCTCAAGCCTAGCTTGGTGTTGGAGCCTGCCTCTGGGCAGCTCTTAAAATCAGTGGCGGTGCCGTCTGGCTCTAAGCGTAGTAATTTTTCTCGCTACAGAGTCCCGGCGGTTGCTTGCCAACAACCCCAAATTTTCTAT\r\n",
      ">sq849;size=251;\r\n",
      "CAACCCTCACGCCTGGCGTGGTATTGGGCTCGCCCTGTAGGGCCTGCCTCAAAGTCAGTGGCGGCACCGTTTGACCCCTAAGCGTAGTAATACTCGTCGCTTCTGGTGTCCGGCGGAGGCCTGCCAGCAACCCCCAAATTTTTTAAA\r\n",
      ">sq850;size=251;\r\n"
     ]
    }
   ],
   "source": [
    "!grep -2 \"sq84\" CHTC/Dada2_Results/DADA2_seqs_FungITSx.ITS2.fasta"
   ]
  },
  {
   "cell_type": "code",
   "execution_count": null,
   "metadata": {
    "collapsed": true
   },
   "outputs": [],
   "source": []
  }
 ],
 "metadata": {
  "kernelspec": {
   "display_name": "Python 3",
   "language": "python",
   "name": "python3"
  },
  "language_info": {
   "codemirror_mode": {
    "name": "ipython",
    "version": 3
   },
   "file_extension": ".py",
   "mimetype": "text/x-python",
   "name": "python",
   "nbconvert_exporter": "python",
   "pygments_lexer": "ipython3",
   "version": "3.6.0"
  }
 },
 "nbformat": 4,
 "nbformat_minor": 2
}
