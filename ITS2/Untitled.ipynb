{
 "cells": [
  {
   "cell_type": "code",
   "execution_count": 34,
   "metadata": {},
   "outputs": [],
   "source": [
    "M1 = readRDS(\"EL\")"
   ]
  },
  {
   "cell_type": "code",
   "execution_count": 50,
   "metadata": {},
   "outputs": [],
   "source": [
    "M = M1[1:10000,]"
   ]
  },
  {
   "cell_type": "code",
   "execution_count": 36,
   "metadata": {},
   "outputs": [
    {
     "data": {
      "text/html": [
       "<table>\n",
       "<thead><tr><th scope=col>Rep</th><th scope=col>X1</th><th scope=col>X2</th><th scope=col>X3</th></tr></thead>\n",
       "<tbody>\n",
       "\t<tr><td>1         </td><td>Bsq3      </td><td>Bsq7      </td><td>Bsq3 Bsq7 </td></tr>\n",
       "\t<tr><td>1         </td><td>Bsq3      </td><td>Bsq9      </td><td>Bsq3 Bsq9 </td></tr>\n",
       "\t<tr><td>1         </td><td>Bsq3      </td><td>Bsq13     </td><td>Bsq3 Bsq13</td></tr>\n",
       "\t<tr><td>1         </td><td>Bsq3      </td><td>Bsq15     </td><td>Bsq3 Bsq15</td></tr>\n",
       "\t<tr><td>1         </td><td>Bsq3      </td><td>Bsq16     </td><td>Bsq3 Bsq16</td></tr>\n",
       "\t<tr><td>1         </td><td>Bsq3      </td><td>Bsq19     </td><td>Bsq3 Bsq19</td></tr>\n",
       "</tbody>\n",
       "</table>\n"
      ],
      "text/latex": [
       "\\begin{tabular}{r|llll}\n",
       " Rep & X1 & X2 & X3\\\\\n",
       "\\hline\n",
       "\t 1          & Bsq3       & Bsq7       & Bsq3 Bsq7 \\\\\n",
       "\t 1          & Bsq3       & Bsq9       & Bsq3 Bsq9 \\\\\n",
       "\t 1          & Bsq3       & Bsq13      & Bsq3 Bsq13\\\\\n",
       "\t 1          & Bsq3       & Bsq15      & Bsq3 Bsq15\\\\\n",
       "\t 1          & Bsq3       & Bsq16      & Bsq3 Bsq16\\\\\n",
       "\t 1          & Bsq3       & Bsq19      & Bsq3 Bsq19\\\\\n",
       "\\end{tabular}\n"
      ],
      "text/markdown": [
       "\n",
       "Rep | X1 | X2 | X3 | \n",
       "|---|---|---|---|---|---|\n",
       "| 1          | Bsq3       | Bsq7       | Bsq3 Bsq7  | \n",
       "| 1          | Bsq3       | Bsq9       | Bsq3 Bsq9  | \n",
       "| 1          | Bsq3       | Bsq13      | Bsq3 Bsq13 | \n",
       "| 1          | Bsq3       | Bsq15      | Bsq3 Bsq15 | \n",
       "| 1          | Bsq3       | Bsq16      | Bsq3 Bsq16 | \n",
       "| 1          | Bsq3       | Bsq19      | Bsq3 Bsq19 | \n",
       "\n",
       "\n"
      ],
      "text/plain": [
       "  Rep X1   X2    X3        \n",
       "1 1   Bsq3 Bsq7  Bsq3 Bsq7 \n",
       "2 1   Bsq3 Bsq9  Bsq3 Bsq9 \n",
       "3 1   Bsq3 Bsq13 Bsq3 Bsq13\n",
       "4 1   Bsq3 Bsq15 Bsq3 Bsq15\n",
       "5 1   Bsq3 Bsq16 Bsq3 Bsq16\n",
       "6 1   Bsq3 Bsq19 Bsq3 Bsq19"
      ]
     },
     "metadata": {},
     "output_type": "display_data"
    }
   ],
   "source": [
    "head(M)"
   ]
  },
  {
   "cell_type": "code",
   "execution_count": 26,
   "metadata": {},
   "outputs": [
    {
     "data": {
      "text/html": [
       "<table>\n",
       "<thead><tr><th scope=col>Rep</th><th scope=col>X1</th><th scope=col>X2</th><th scope=col>X3</th></tr></thead>\n",
       "<tbody>\n",
       "\t<tr><td>1         </td><td>Bsq3      </td><td>Bsq7      </td><td>Bsq3 Bsq7 </td></tr>\n",
       "\t<tr><td>1         </td><td>Bsq3      </td><td>Bsq9      </td><td>Bsq3 Bsq9 </td></tr>\n",
       "\t<tr><td>1         </td><td>Bsq3      </td><td>Bsq13     </td><td>Bsq13 Bsq3</td></tr>\n",
       "\t<tr><td>1         </td><td>Bsq3      </td><td>Bsq15     </td><td>Bsq15 Bsq3</td></tr>\n",
       "\t<tr><td>1         </td><td>Bsq3      </td><td>Bsq16     </td><td>Bsq16 Bsq3</td></tr>\n",
       "\t<tr><td>1         </td><td>Bsq3      </td><td>Bsq19     </td><td>Bsq19 Bsq3</td></tr>\n",
       "</tbody>\n",
       "</table>\n"
      ],
      "text/latex": [
       "\\begin{tabular}{r|llll}\n",
       " Rep & X1 & X2 & X3\\\\\n",
       "\\hline\n",
       "\t 1          & Bsq3       & Bsq7       & Bsq3 Bsq7 \\\\\n",
       "\t 1          & Bsq3       & Bsq9       & Bsq3 Bsq9 \\\\\n",
       "\t 1          & Bsq3       & Bsq13      & Bsq13 Bsq3\\\\\n",
       "\t 1          & Bsq3       & Bsq15      & Bsq15 Bsq3\\\\\n",
       "\t 1          & Bsq3       & Bsq16      & Bsq16 Bsq3\\\\\n",
       "\t 1          & Bsq3       & Bsq19      & Bsq19 Bsq3\\\\\n",
       "\\end{tabular}\n"
      ],
      "text/markdown": [
       "\n",
       "Rep | X1 | X2 | X3 | \n",
       "|---|---|---|---|---|---|\n",
       "| 1          | Bsq3       | Bsq7       | Bsq3 Bsq7  | \n",
       "| 1          | Bsq3       | Bsq9       | Bsq3 Bsq9  | \n",
       "| 1          | Bsq3       | Bsq13      | Bsq13 Bsq3 | \n",
       "| 1          | Bsq3       | Bsq15      | Bsq15 Bsq3 | \n",
       "| 1          | Bsq3       | Bsq16      | Bsq16 Bsq3 | \n",
       "| 1          | Bsq3       | Bsq19      | Bsq19 Bsq3 | \n",
       "\n",
       "\n"
      ],
      "text/plain": [
       "  Rep X1   X2    X3        \n",
       "1 1   Bsq3 Bsq7  Bsq3 Bsq7 \n",
       "2 1   Bsq3 Bsq9  Bsq3 Bsq9 \n",
       "3 1   Bsq3 Bsq13 Bsq13 Bsq3\n",
       "4 1   Bsq3 Bsq15 Bsq15 Bsq3\n",
       "5 1   Bsq3 Bsq16 Bsq16 Bsq3\n",
       "6 1   Bsq3 Bsq19 Bsq19 Bsq3"
      ]
     },
     "metadata": {},
     "output_type": "display_data"
    },
    {
     "data": {
      "text/plain": [
       "Time difference of 1.465031 secs"
      ]
     },
     "metadata": {},
     "output_type": "display_data"
    }
   ],
   "source": [
    "start_time <- Sys.time()\n",
    "for (i in 1:dim(M)[1]){\n",
    "    d = sort(c(paste(M$X1[i]),paste(M$X2[i])))\n",
    "    M$X3[i] = paste(d[1],d[2])\n",
    "}\n",
    "end_time <- Sys.time()\n",
    "\n",
    "head(M)\n",
    "\n",
    "end_time - start_time"
   ]
  },
  {
   "cell_type": "code",
   "execution_count": 41,
   "metadata": {},
   "outputs": [],
   "source": [
    "library(\"parallel\")"
   ]
  },
  {
   "cell_type": "code",
   "execution_count": 48,
   "metadata": {},
   "outputs": [
    {
     "data": {
      "text/html": [
       "<table>\n",
       "<thead><tr><th scope=col>Rep</th><th scope=col>X1</th><th scope=col>X2</th><th scope=col>X3</th></tr></thead>\n",
       "<tbody>\n",
       "\t<tr><td>1         </td><td>Bsq3      </td><td>Bsq7      </td><td>Bsq3 Bsq7 </td></tr>\n",
       "\t<tr><td>1         </td><td>Bsq3      </td><td>Bsq9      </td><td>Bsq3 Bsq9 </td></tr>\n",
       "\t<tr><td>1         </td><td>Bsq3      </td><td>Bsq13     </td><td>Bsq13 Bsq3</td></tr>\n",
       "\t<tr><td>1         </td><td>Bsq3      </td><td>Bsq15     </td><td>Bsq15 Bsq3</td></tr>\n",
       "\t<tr><td>1         </td><td>Bsq3      </td><td>Bsq16     </td><td>Bsq16 Bsq3</td></tr>\n",
       "\t<tr><td>1         </td><td>Bsq3      </td><td>Bsq19     </td><td>Bsq19 Bsq3</td></tr>\n",
       "</tbody>\n",
       "</table>\n"
      ],
      "text/latex": [
       "\\begin{tabular}{r|llll}\n",
       " Rep & X1 & X2 & X3\\\\\n",
       "\\hline\n",
       "\t 1          & Bsq3       & Bsq7       & Bsq3 Bsq7 \\\\\n",
       "\t 1          & Bsq3       & Bsq9       & Bsq3 Bsq9 \\\\\n",
       "\t 1          & Bsq3       & Bsq13      & Bsq13 Bsq3\\\\\n",
       "\t 1          & Bsq3       & Bsq15      & Bsq15 Bsq3\\\\\n",
       "\t 1          & Bsq3       & Bsq16      & Bsq16 Bsq3\\\\\n",
       "\t 1          & Bsq3       & Bsq19      & Bsq19 Bsq3\\\\\n",
       "\\end{tabular}\n"
      ],
      "text/markdown": [
       "\n",
       "Rep | X1 | X2 | X3 | \n",
       "|---|---|---|---|---|---|\n",
       "| 1          | Bsq3       | Bsq7       | Bsq3 Bsq7  | \n",
       "| 1          | Bsq3       | Bsq9       | Bsq3 Bsq9  | \n",
       "| 1          | Bsq3       | Bsq13      | Bsq13 Bsq3 | \n",
       "| 1          | Bsq3       | Bsq15      | Bsq15 Bsq3 | \n",
       "| 1          | Bsq3       | Bsq16      | Bsq16 Bsq3 | \n",
       "| 1          | Bsq3       | Bsq19      | Bsq19 Bsq3 | \n",
       "\n",
       "\n"
      ],
      "text/plain": [
       "  Rep X1   X2    X3        \n",
       "1 1   Bsq3 Bsq7  Bsq3 Bsq7 \n",
       "2 1   Bsq3 Bsq9  Bsq3 Bsq9 \n",
       "3 1   Bsq3 Bsq13 Bsq13 Bsq3\n",
       "4 1   Bsq3 Bsq15 Bsq15 Bsq3\n",
       "5 1   Bsq3 Bsq16 Bsq16 Bsq3\n",
       "6 1   Bsq3 Bsq19 Bsq19 Bsq3"
      ]
     },
     "metadata": {},
     "output_type": "display_data"
    },
    {
     "data": {
      "text/plain": [
       "Time difference of 8.00436 secs"
      ]
     },
     "metadata": {},
     "output_type": "display_data"
    }
   ],
   "source": [
    "start_time <- Sys.time()\n",
    "\n",
    "#M$X3 = apply(M,1,function(x) paste(sort(c(paste(x[2]),paste(x[3])))[1],sort(c(paste(x[2]),paste(x[3])))[2]))\n",
    "M$X3 = mcmapply(function(a,b) paste(sort(c(paste(a),paste(b)))[1],sort(c(paste(a),paste(b)))[2]),a=M$X1,b=M$X2)\n",
    "end_time <- Sys.time()\n",
    "\n",
    "head(M)\n",
    "\n",
    "end_time - start_time"
   ]
  },
  {
   "cell_type": "code",
   "execution_count": 59,
   "metadata": {},
   "outputs": [
    {
     "data": {
      "text/html": [
       "<table>\n",
       "<thead><tr><th scope=col>Rep</th><th scope=col>X1</th><th scope=col>X2</th><th scope=col>X3</th></tr></thead>\n",
       "<tbody>\n",
       "\t<tr><td>1         </td><td>Bsq3      </td><td>Bsq7      </td><td>Bsq3 Bsq7 </td></tr>\n",
       "\t<tr><td>1         </td><td>Bsq3      </td><td>Bsq9      </td><td>Bsq3 Bsq9 </td></tr>\n",
       "\t<tr><td>1         </td><td>Bsq3      </td><td>Bsq13     </td><td>Bsq13 Bsq3</td></tr>\n",
       "\t<tr><td>1         </td><td>Bsq3      </td><td>Bsq15     </td><td>Bsq15 Bsq3</td></tr>\n",
       "\t<tr><td>1         </td><td>Bsq3      </td><td>Bsq16     </td><td>Bsq16 Bsq3</td></tr>\n",
       "\t<tr><td>1         </td><td>Bsq3      </td><td>Bsq19     </td><td>Bsq19 Bsq3</td></tr>\n",
       "</tbody>\n",
       "</table>\n"
      ],
      "text/latex": [
       "\\begin{tabular}{r|llll}\n",
       " Rep & X1 & X2 & X3\\\\\n",
       "\\hline\n",
       "\t 1          & Bsq3       & Bsq7       & Bsq3 Bsq7 \\\\\n",
       "\t 1          & Bsq3       & Bsq9       & Bsq3 Bsq9 \\\\\n",
       "\t 1          & Bsq3       & Bsq13      & Bsq13 Bsq3\\\\\n",
       "\t 1          & Bsq3       & Bsq15      & Bsq15 Bsq3\\\\\n",
       "\t 1          & Bsq3       & Bsq16      & Bsq16 Bsq3\\\\\n",
       "\t 1          & Bsq3       & Bsq19      & Bsq19 Bsq3\\\\\n",
       "\\end{tabular}\n"
      ],
      "text/markdown": [
       "\n",
       "Rep | X1 | X2 | X3 | \n",
       "|---|---|---|---|---|---|\n",
       "| 1          | Bsq3       | Bsq7       | Bsq3 Bsq7  | \n",
       "| 1          | Bsq3       | Bsq9       | Bsq3 Bsq9  | \n",
       "| 1          | Bsq3       | Bsq13      | Bsq13 Bsq3 | \n",
       "| 1          | Bsq3       | Bsq15      | Bsq15 Bsq3 | \n",
       "| 1          | Bsq3       | Bsq16      | Bsq16 Bsq3 | \n",
       "| 1          | Bsq3       | Bsq19      | Bsq19 Bsq3 | \n",
       "\n",
       "\n"
      ],
      "text/plain": [
       "  Rep X1   X2    X3        \n",
       "1 1   Bsq3 Bsq7  Bsq3 Bsq7 \n",
       "2 1   Bsq3 Bsq9  Bsq3 Bsq9 \n",
       "3 1   Bsq3 Bsq13 Bsq13 Bsq3\n",
       "4 1   Bsq3 Bsq15 Bsq15 Bsq3\n",
       "5 1   Bsq3 Bsq16 Bsq16 Bsq3\n",
       "6 1   Bsq3 Bsq19 Bsq19 Bsq3"
      ]
     },
     "metadata": {},
     "output_type": "display_data"
    },
    {
     "data": {
      "text/plain": [
       "Time difference of 0.6132798 secs"
      ]
     },
     "metadata": {},
     "output_type": "display_data"
    }
   ],
   "source": [
    "start_time <- Sys.time()\n",
    "\n",
    "M$X3 = apply(M,1,function(x) paste(sort(c(paste(x[2]),paste(x[3])))[1],sort(c(paste(x[2]),paste(x[3])))[2]))\n",
    "#M$X3 = mcmapply(function(a,b) paste(sort(c(paste(a),paste(b)))[1],sort(c(paste(a),paste(b)))[2]),a=M$X1,b=M$X2)\n",
    "end_time <- Sys.time()\n",
    "\n",
    "head(M)\n",
    "\n",
    "end_time - start_time"
   ]
  },
  {
   "cell_type": "code",
   "execution_count": null,
   "metadata": {},
   "outputs": [],
   "source": []
  }
 ],
 "metadata": {
  "kernelspec": {
   "display_name": "R",
   "language": "R",
   "name": "ir"
  },
  "language_info": {
   "codemirror_mode": "r",
   "file_extension": ".r",
   "mimetype": "text/x-r-source",
   "name": "R",
   "pygments_lexer": "r",
   "version": "3.4.3"
  }
 },
 "nbformat": 4,
 "nbformat_minor": 2
}
