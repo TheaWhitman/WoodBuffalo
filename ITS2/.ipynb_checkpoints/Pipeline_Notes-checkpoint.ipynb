{
 "cells": [
  {
   "cell_type": "markdown",
   "metadata": {},
   "source": [
    "## Notes on dada2 settings default QIIME2 vs custom for fungi"
   ]
  },
  {
   "cell_type": "markdown",
   "metadata": {},
   "source": [
    "Running dada2 settings under default QIIME2 settings resulted in 1031 OTUs total, whereas making my own custom dada2 script, I had almost 3x that, 2786 OTUs.\n",
    "Those additional OTUs almost definitely included some plants (62 in the default, 257 in the custom).\n",
    "The error figures didn't get way better, I don't think, but both followed the basic expected shape.\n",
    "It made more sense to see more OTUs ID'd as morels in the custom pathway. However, it seemed like we were maybe missing some of the species that were ID'd in the basic run, so that seems weird.\n",
    "One option would be to consolidate at the genus level for fungi. However, that only works for taxa classified down to genus.\n",
    "\n",
    "One way of thinking about it is, did the samples match anything in the UNITE database? \n",
    "\n",
    "Custom had 2709636 sequences\n",
    "Initial had 2302796 sequences\n",
    "So... not that big of a change, actually - 20% more sequences, but 300% more OTUs. So lots of singletons.\n",
    "So, that said, tightening some of the parameters might improve OTU quality in some ways without losing a lot of seqs."
   ]
  },
  {
   "cell_type": "markdown",
   "metadata": {},
   "source": [
    "Possible points to change dada2 pipeline in CHTC\n",
    "maxEE - 2 cut a _lot_ of reads, prior to merging; 5 did seem good.\n",
    "using full seqs on learn errors and dada2 set (3M)\n",
    "Dereplication doesn't do much\n",
    "Definitely want pool=TRUE\n",
    "Using suggested fungal \"band size\" (32) - however, this is based on expected introns. Could be much bigger - maybe try 64?\n",
    "Could probably play with Omega_A more - ran 1e-2 last time, definitely has large effect\n",
    "Could also adjust what happens when merging - how much tolerance for errors?\n",
    "\n",
    "\n",
    "Given that I run ITSx on the sequences, that should help.\n",
    "\n",
    "Github chatter is about pre-merging the sequences with PEAR. I can see that'd be a good idea for me to try, maybe more useful than trying to optimize the dada2 parameters separately.\n",
    "https://github.com/benjjneb/dada2/issues/327\n",
    "\n",
    "Will proceed with that next."
   ]
  }
 ],
 "metadata": {
  "kernelspec": {
   "display_name": "R",
   "language": "R",
   "name": "ir"
  },
  "language_info": {
   "codemirror_mode": "r",
   "file_extension": ".r",
   "mimetype": "text/x-r-source",
   "name": "R",
   "pygments_lexer": "r",
   "version": "3.4.1"
  }
 },
 "nbformat": 4,
 "nbformat_minor": 2
}
