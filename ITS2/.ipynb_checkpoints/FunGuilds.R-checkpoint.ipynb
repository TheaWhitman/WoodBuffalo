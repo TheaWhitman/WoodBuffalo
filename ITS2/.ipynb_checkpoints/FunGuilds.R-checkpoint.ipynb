{
 "cells": [
  {
   "cell_type": "code",
   "execution_count": 1,
   "metadata": {},
   "outputs": [
    {
     "data": {
      "text/html": [
       "<table>\n",
       "<thead><tr><th></th><th scope=col>Kingdom</th><th scope=col>Phylum</th><th scope=col>Class</th><th scope=col>Order</th><th scope=col>Family</th><th scope=col>Genus</th><th scope=col>Species</th></tr></thead>\n",
       "<tbody>\n",
       "\t<tr><th scope=row>sq1</th><td>                                </td><td>Ascomycota                      </td><td>Eurotiomycetes                  </td><td>Eurotiales                      </td><td>Trichocomaceae                  </td><td>Penicillium                     </td><td>                                </td></tr>\n",
       "\t<tr><th scope=row>sq2</th><td>                                </td><td>Ascomycota                      </td><td>Eurotiomycetes                  </td><td>Eurotiales                      </td><td>Trichocomaceae                  </td><td>Penicillium                     </td><td>                                </td></tr>\n",
       "\t<tr><th scope=row>sq3</th><td>                                </td><td>Ascomycota                      </td><td>Eurotiomycetes                  </td><td>Eurotiales                      </td><td>Trichocomaceae                  </td><td>Penicillium                     </td><td>unidentified                    </td></tr>\n",
       "\t<tr><th scope=row>sq4</th><td>                                </td><td>Ascomycota                      </td><td>Eurotiomycetes                  </td><td>Eurotiales                      </td><td>Trichocomaceae                  </td><td>Penicillium                     </td><td>                                </td></tr>\n",
       "\t<tr><th scope=row>sq5</th><td>                                </td><td>Ascomycota                      </td><td>Sordariomycetes                 </td><td>                                </td><td>                                </td><td>                                </td><td>                                </td></tr>\n",
       "\t<tr><th scope=row>sq6</th><td>                                </td><td>Ascomycota                      </td><td>Leotiomycetes                   </td><td>Leotiomycetes_ord_Incertae_sedis</td><td>                                </td><td>                                </td><td>                                </td></tr>\n",
       "</tbody>\n",
       "</table>\n"
      ],
      "text/latex": [
       "\\begin{tabular}{r|lllllll}\n",
       "  & Kingdom & Phylum & Class & Order & Family & Genus & Species\\\\\n",
       "\\hline\n",
       "\tsq1 &                                  & Ascomycota                       & Eurotiomycetes                   & Eurotiales                       & Trichocomaceae                   & Penicillium                      &                                 \\\\\n",
       "\tsq2 &                                  & Ascomycota                       & Eurotiomycetes                   & Eurotiales                       & Trichocomaceae                   & Penicillium                      &                                 \\\\\n",
       "\tsq3 &                                  & Ascomycota                       & Eurotiomycetes                   & Eurotiales                       & Trichocomaceae                   & Penicillium                      & unidentified                    \\\\\n",
       "\tsq4 &                                  & Ascomycota                       & Eurotiomycetes                   & Eurotiales                       & Trichocomaceae                   & Penicillium                      &                                 \\\\\n",
       "\tsq5 &                                  & Ascomycota                       & Sordariomycetes                  &                                  &                                  &                                  &                                 \\\\\n",
       "\tsq6 &                                        & Ascomycota                             & Leotiomycetes                          & Leotiomycetes\\_ord\\_Incertae\\_sedis &                                        &                                        &                                       \\\\\n",
       "\\end{tabular}\n"
      ],
      "text/markdown": [
       "\n",
       "| <!--/--> | Kingdom | Phylum | Class | Order | Family | Genus | Species | \n",
       "|---|---|---|---|---|---|\n",
       "| sq1 |                                  | Ascomycota                       | Eurotiomycetes                   | Eurotiales                       | Trichocomaceae                   | Penicillium                      |                                  | \n",
       "| sq2 |                                  | Ascomycota                       | Eurotiomycetes                   | Eurotiales                       | Trichocomaceae                   | Penicillium                      |                                  | \n",
       "| sq3 |                                  | Ascomycota                       | Eurotiomycetes                   | Eurotiales                       | Trichocomaceae                   | Penicillium                      | unidentified                     | \n",
       "| sq4 |                                  | Ascomycota                       | Eurotiomycetes                   | Eurotiales                       | Trichocomaceae                   | Penicillium                      |                                  | \n",
       "| sq5 |                                  | Ascomycota                       | Sordariomycetes                  |                                  |                                  |                                  |                                  | \n",
       "| sq6 |                                  | Ascomycota                       | Leotiomycetes                    | Leotiomycetes_ord_Incertae_sedis |                                  |                                  |                                  | \n",
       "\n",
       "\n"
      ],
      "text/plain": [
       "    Kingdom Phylum     Class           Order                           \n",
       "sq1         Ascomycota Eurotiomycetes  Eurotiales                      \n",
       "sq2         Ascomycota Eurotiomycetes  Eurotiales                      \n",
       "sq3         Ascomycota Eurotiomycetes  Eurotiales                      \n",
       "sq4         Ascomycota Eurotiomycetes  Eurotiales                      \n",
       "sq5         Ascomycota Sordariomycetes                                 \n",
       "sq6         Ascomycota Leotiomycetes   Leotiomycetes_ord_Incertae_sedis\n",
       "    Family         Genus       Species     \n",
       "sq1 Trichocomaceae Penicillium             \n",
       "sq2 Trichocomaceae Penicillium             \n",
       "sq3 Trichocomaceae Penicillium unidentified\n",
       "sq4 Trichocomaceae Penicillium             \n",
       "sq5                                        \n",
       "sq6                                        "
      ]
     },
     "metadata": {},
     "output_type": "display_data"
    }
   ],
   "source": [
    "# loading R packages\n",
    "library(phyloseq)\n",
    "ps = readRDS(file=\"CHTC/Dada2_Results_OA20_PEAR/ps.fungi\")\n",
    "ps.tax = tax_table(ps)\n",
    "head(ps.tax)"
   ]
  },
  {
   "cell_type": "code",
   "execution_count": 8,
   "metadata": {},
   "outputs": [],
   "source": [
    "OTU_ID = data.frame(OTU_ID=rownames(ps.tax))\n",
    "Taxonomy = data.frame(Taxonomy=paste(ps.tax[,1],ps.tax[,2],ps.tax[,3],ps.tax[,4],ps.tax[,5],ps.tax[,6],ps.tax[,7], sep=\";\"))"
   ]
  },
  {
   "cell_type": "code",
   "execution_count": 9,
   "metadata": {},
   "outputs": [
    {
     "data": {
      "text/html": [
       "<ol class=list-inline>\n",
       "\t<li>5629</li>\n",
       "\t<li>2</li>\n",
       "</ol>\n"
      ],
      "text/latex": [
       "\\begin{enumerate*}\n",
       "\\item 5629\n",
       "\\item 2\n",
       "\\end{enumerate*}\n"
      ],
      "text/markdown": [
       "1. 5629\n",
       "2. 2\n",
       "\n",
       "\n"
      ],
      "text/plain": [
       "[1] 5629    2"
      ]
     },
     "metadata": {},
     "output_type": "display_data"
    }
   ],
   "source": [
    "Funguild = data.frame(OTU_ID,Taxonomy)\n",
    "Funguild <- data.frame(matrix(unlist(Funguild), ncol=2, byrow=F),stringsAsFactors=FALSE)\n",
    "colnames(Funguild) = c(\"OTU_ID\",\"taxonomy\")\n",
    "dim(Funguild)"
   ]
  },
  {
   "cell_type": "code",
   "execution_count": 13,
   "metadata": {},
   "outputs": [],
   "source": [
    "write.table(Funguild, file = \"CHTC/Dada2_Results_OA20_PEAR/Funguild.txt\",quote=FALSE,sep = \"\\t\",row.names=FALSE)"
   ]
  },
  {
   "cell_type": "code",
   "execution_count": null,
   "metadata": {
    "collapsed": true
   },
   "outputs": [],
   "source": [
    "!python ../../../Databases/Funguilds.py -otu CHTC/Dada2_Results_OA20_PEAR/Funguild.txt -db fungi"
   ]
  },
  {
   "cell_type": "code",
   "execution_count": 18,
   "metadata": {},
   "outputs": [
    {
     "name": "stderr",
     "output_type": "stream",
     "text": [
      "Warning message in scan(file = file, what = what, sep = sep, quote = quote, dec = dec, :\n",
      "“EOF within quoted string”Warning message in scan(file = file, what = what, sep = sep, quote = quote, dec = dec, :\n",
      "“number of items read is not a multiple of the number of columns”"
     ]
    },
    {
     "data": {
      "text/html": [
       "<table>\n",
       "<thead><tr><th scope=col>OTU_ID</th><th scope=col>Taxon</th><th scope=col>Taxon.Level</th><th scope=col>Trophic.Mode</th><th scope=col>Guild</th><th scope=col>Growth.Morphology</th><th scope=col>Confidence.Ranking</th><th scope=col>Notes</th><th scope=col>Citation.Source</th></tr></thead>\n",
       "<tbody>\n",
       "\t<tr><td>sq1                                                                                                                                                                </td><td>Eurotiales                                                                                                                                                         </td><td> 7                                                                                                                                                                 </td><td>Saprotroph                                                                                                                                                         </td><td>Undefined Saprotroph                                                                                                                                               </td><td>Microfungus                                                                                                                                                        </td><td>Possible                                                                                                                                                           </td><td>NULL                                                                                                                                                               </td><td>Sterkenburg E, et al. 2015. New Phytologist 207:1145-1158                                                                                                          </td></tr>\n",
       "\t<tr><td>sq10                                                                                                                                                               </td><td>Eurotiales                                                                                                                                                         </td><td> 7                                                                                                                                                                 </td><td>Saprotroph                                                                                                                                                         </td><td>Undefined Saprotroph                                                                                                                                               </td><td>Microfungus                                                                                                                                                        </td><td>Possible                                                                                                                                                           </td><td>NULL                                                                                                                                                               </td><td>Sterkenburg E, et al. 2015. New Phytologist 207:1145-1158                                                                                                          </td></tr>\n",
       "\t<tr><td>sq100                                                                                                                                                              </td><td>Oidiodendron                                                                                                                                                       </td><td>13                                                                                                                                                                 </td><td>Pathotroph-Symbiotroph                                                                                                                                             </td><td>Ericoid Mycorrhizal                                                                                                                                                </td><td>Dark Septate Endophyte                                                                                                                                             </td><td>Probable                                                                                                                                                           </td><td>NULL                                                                                                                                                               </td><td>Newsham 2011. New Phytologist 190:783-793 (as DSE)                                                                                                                 </td></tr>\n",
       "\t<tr><td>sq1003                                                                                                                                                             </td><td>Hygrocybe                                                                                                                                                          </td><td>13                                                                                                                                                                 </td><td>Saprotroph-Symbiotroph                                                                                                                                             </td><td>Undefined Saprotroph-Undefined Biotroph                                                                                                                            </td><td>Agaricoid                                                                                                                                                          </td><td>Probable                                                                                                                                                           </td><td>Previously classified as Hygrophorus; carbon signature suggests biotrophy with bryophytes, grasses, or understory plants                                           </td><td>Tedersoo L, et al. 2014. Science 346:1256688;Lodge et al. 2014. Fungal Diversity 64:1-99; Lodge 2014. Omphalina 5:2-6; Seitzman et al. 2011. Mycologia 103:280-290.</td></tr>\n",
       "\t<tr><td>sq1004                                                                                                                                                             </td><td>Cortinarius                                                                                                                                                        </td><td>13                                                                                                                                                                 </td><td>Symbiotroph                                                                                                                                                        </td><td>Ectomycorrhizal                                                                                                                                                    </td><td>NULL                                                                                                                                                               </td><td>Highly Probable                                                                                                                                                    </td><td>NULL                                                                                                                                                               </td><td>Rinaldi AC, et al. 2008. Fungal Diversity 33:1-45; Tedersoo L, et al. 2010. Mycorrhiza 20:217-263; http://mycorrhizas.info/ecmf.html                               </td></tr>\n",
       "\t<tr><td>sq1005                                                                                                                                                             </td><td>Cladophialophora                                                                                                                                                   </td><td>13                                                                                                                                                                 </td><td>Saprotroph                                                                                                                                                         </td><td>Undefined Saprotroph                                                                                                                                               </td><td>Facultative Yeast                                                                                                                                                  </td><td>Probable                                                                                                                                                           </td><td>NULL                                                                                                                                                               </td><td>James TY, et al. 2006. Nature 443:818-822                                                                                                                          </td></tr>\n",
       "</tbody>\n",
       "</table>\n"
      ],
      "text/latex": [
       "\\begin{tabular}{r|lllllllll}\n",
       " OTU\\_ID & Taxon & Taxon.Level & Trophic.Mode & Guild & Growth.Morphology & Confidence.Ranking & Notes & Citation.Source\\\\\n",
       "\\hline\n",
       "\t sq1                                                                                                                                                                 & Eurotiales                                                                                                                                                          &  7                                                                                                                                                                  & Saprotroph                                                                                                                                                          & Undefined Saprotroph                                                                                                                                                & Microfungus                                                                                                                                                         & Possible                                                                                                                                                            & NULL                                                                                                                                                                & Sterkenburg E, et al. 2015. New Phytologist 207:1145-1158                                                                                                          \\\\\n",
       "\t sq10                                                                                                                                                                & Eurotiales                                                                                                                                                          &  7                                                                                                                                                                  & Saprotroph                                                                                                                                                          & Undefined Saprotroph                                                                                                                                                & Microfungus                                                                                                                                                         & Possible                                                                                                                                                            & NULL                                                                                                                                                                & Sterkenburg E, et al. 2015. New Phytologist 207:1145-1158                                                                                                          \\\\\n",
       "\t sq100                                                                                                                                                               & Oidiodendron                                                                                                                                                        & 13                                                                                                                                                                  & Pathotroph-Symbiotroph                                                                                                                                              & Ericoid Mycorrhizal                                                                                                                                                 & Dark Septate Endophyte                                                                                                                                              & Probable                                                                                                                                                            & NULL                                                                                                                                                                & Newsham 2011. New Phytologist 190:783-793 (as DSE)                                                                                                                 \\\\\n",
       "\t sq1003                                                                                                                                                              & Hygrocybe                                                                                                                                                           & 13                                                                                                                                                                  & Saprotroph-Symbiotroph                                                                                                                                              & Undefined Saprotroph-Undefined Biotroph                                                                                                                             & Agaricoid                                                                                                                                                           & Probable                                                                                                                                                            & Previously classified as Hygrophorus; carbon signature suggests biotrophy with bryophytes, grasses, or understory plants                                            & Tedersoo L, et al. 2014. Science 346:1256688;Lodge et al. 2014. Fungal Diversity 64:1-99; Lodge 2014. Omphalina 5:2-6; Seitzman et al. 2011. Mycologia 103:280-290.\\\\\n",
       "\t sq1004                                                                                                                                                              & Cortinarius                                                                                                                                                         & 13                                                                                                                                                                  & Symbiotroph                                                                                                                                                         & Ectomycorrhizal                                                                                                                                                     & NULL                                                                                                                                                                & Highly Probable                                                                                                                                                     & NULL                                                                                                                                                                & Rinaldi AC, et al. 2008. Fungal Diversity 33:1-45; Tedersoo L, et al. 2010. Mycorrhiza 20:217-263; http://mycorrhizas.info/ecmf.html                               \\\\\n",
       "\t sq1005                                                                                                                                                              & Cladophialophora                                                                                                                                                    & 13                                                                                                                                                                  & Saprotroph                                                                                                                                                          & Undefined Saprotroph                                                                                                                                                & Facultative Yeast                                                                                                                                                   & Probable                                                                                                                                                            & NULL                                                                                                                                                                & James TY, et al. 2006. Nature 443:818-822                                                                                                                          \\\\\n",
       "\\end{tabular}\n"
      ],
      "text/markdown": [
       "\n",
       "OTU_ID | Taxon | Taxon.Level | Trophic.Mode | Guild | Growth.Morphology | Confidence.Ranking | Notes | Citation.Source | \n",
       "|---|---|---|---|---|---|\n",
       "| sq1                                                                                                                                                                 | Eurotiales                                                                                                                                                          |  7                                                                                                                                                                  | Saprotroph                                                                                                                                                          | Undefined Saprotroph                                                                                                                                                | Microfungus                                                                                                                                                         | Possible                                                                                                                                                            | NULL                                                                                                                                                                | Sterkenburg E, et al. 2015. New Phytologist 207:1145-1158                                                                                                           | \n",
       "| sq10                                                                                                                                                                | Eurotiales                                                                                                                                                          |  7                                                                                                                                                                  | Saprotroph                                                                                                                                                          | Undefined Saprotroph                                                                                                                                                | Microfungus                                                                                                                                                         | Possible                                                                                                                                                            | NULL                                                                                                                                                                | Sterkenburg E, et al. 2015. New Phytologist 207:1145-1158                                                                                                           | \n",
       "| sq100                                                                                                                                                               | Oidiodendron                                                                                                                                                        | 13                                                                                                                                                                  | Pathotroph-Symbiotroph                                                                                                                                              | Ericoid Mycorrhizal                                                                                                                                                 | Dark Septate Endophyte                                                                                                                                              | Probable                                                                                                                                                            | NULL                                                                                                                                                                | Newsham 2011. New Phytologist 190:783-793 (as DSE)                                                                                                                  | \n",
       "| sq1003                                                                                                                                                              | Hygrocybe                                                                                                                                                           | 13                                                                                                                                                                  | Saprotroph-Symbiotroph                                                                                                                                              | Undefined Saprotroph-Undefined Biotroph                                                                                                                             | Agaricoid                                                                                                                                                           | Probable                                                                                                                                                            | Previously classified as Hygrophorus; carbon signature suggests biotrophy with bryophytes, grasses, or understory plants                                            | Tedersoo L, et al. 2014. Science 346:1256688;Lodge et al. 2014. Fungal Diversity 64:1-99; Lodge 2014. Omphalina 5:2-6; Seitzman et al. 2011. Mycologia 103:280-290. | \n",
       "| sq1004                                                                                                                                                              | Cortinarius                                                                                                                                                         | 13                                                                                                                                                                  | Symbiotroph                                                                                                                                                         | Ectomycorrhizal                                                                                                                                                     | NULL                                                                                                                                                                | Highly Probable                                                                                                                                                     | NULL                                                                                                                                                                | Rinaldi AC, et al. 2008. Fungal Diversity 33:1-45; Tedersoo L, et al. 2010. Mycorrhiza 20:217-263; http://mycorrhizas.info/ecmf.html                                | \n",
       "| sq1005                                                                                                                                                              | Cladophialophora                                                                                                                                                    | 13                                                                                                                                                                  | Saprotroph                                                                                                                                                          | Undefined Saprotroph                                                                                                                                                | Facultative Yeast                                                                                                                                                   | Probable                                                                                                                                                            | NULL                                                                                                                                                                | James TY, et al. 2006. Nature 443:818-822                                                                                                                           | \n",
       "\n",
       "\n"
      ],
      "text/plain": [
       "  OTU_ID Taxon            Taxon.Level Trophic.Mode          \n",
       "1 sq1    Eurotiales        7          Saprotroph            \n",
       "2 sq10   Eurotiales        7          Saprotroph            \n",
       "3 sq100  Oidiodendron     13          Pathotroph-Symbiotroph\n",
       "4 sq1003 Hygrocybe        13          Saprotroph-Symbiotroph\n",
       "5 sq1004 Cortinarius      13          Symbiotroph           \n",
       "6 sq1005 Cladophialophora 13          Saprotroph            \n",
       "  Guild                                   Growth.Morphology     \n",
       "1 Undefined Saprotroph                    Microfungus           \n",
       "2 Undefined Saprotroph                    Microfungus           \n",
       "3 Ericoid Mycorrhizal                     Dark Septate Endophyte\n",
       "4 Undefined Saprotroph-Undefined Biotroph Agaricoid             \n",
       "5 Ectomycorrhizal                         NULL                  \n",
       "6 Undefined Saprotroph                    Facultative Yeast     \n",
       "  Confidence.Ranking\n",
       "1 Possible          \n",
       "2 Possible          \n",
       "3 Probable          \n",
       "4 Probable          \n",
       "5 Highly Probable   \n",
       "6 Probable          \n",
       "  Notes                                                                                                                   \n",
       "1 NULL                                                                                                                    \n",
       "2 NULL                                                                                                                    \n",
       "3 NULL                                                                                                                    \n",
       "4 Previously classified as Hygrophorus; carbon signature suggests biotrophy with bryophytes, grasses, or understory plants\n",
       "5 NULL                                                                                                                    \n",
       "6 NULL                                                                                                                    \n",
       "  Citation.Source                                                                                                                                                    \n",
       "1 Sterkenburg E, et al. 2015. New Phytologist 207:1145-1158                                                                                                          \n",
       "2 Sterkenburg E, et al. 2015. New Phytologist 207:1145-1158                                                                                                          \n",
       "3 Newsham 2011. New Phytologist 190:783-793 (as DSE)                                                                                                                 \n",
       "4 Tedersoo L, et al. 2014. Science 346:1256688;Lodge et al. 2014. Fungal Diversity 64:1-99; Lodge 2014. Omphalina 5:2-6; Seitzman et al. 2011. Mycologia 103:280-290.\n",
       "5 Rinaldi AC, et al. 2008. Fungal Diversity 33:1-45; Tedersoo L, et al. 2010. Mycorrhiza 20:217-263; http://mycorrhizas.info/ecmf.html                               \n",
       "6 James TY, et al. 2006. Nature 443:818-822                                                                                                                          "
      ]
     },
     "metadata": {},
     "output_type": "display_data"
    }
   ],
   "source": [
    "Funguilds.guilds = (read.table(\"CHTC/Dada2_Results_OA20_PEAR/Funguild.guilds.txt\",sep=\"\\t\",header=TRUE))\n",
    "Funguilds.guilds = Funguilds.guilds[,c(1,3:7,9,10,11)]\n",
    "head(Funguilds.guilds)"
   ]
  },
  {
   "cell_type": "code",
   "execution_count": null,
   "metadata": {
    "collapsed": true
   },
   "outputs": [],
   "source": [
    "write.table(Funguilds.guilds, file = \"../../SeqData/Funguild.guilds.txt\",append = FALSE, quote=FALSE, sep = \"\\t\",row.names=FALSE, col.names=TRUE)"
   ]
  }
 ],
 "metadata": {
  "kernelspec": {
   "display_name": "R",
   "language": "R",
   "name": "ir"
  },
  "language_info": {
   "codemirror_mode": "r",
   "file_extension": ".r",
   "mimetype": "text/x-r-source",
   "name": "R",
   "pygments_lexer": "r",
   "version": "3.4.1"
  }
 },
 "nbformat": 4,
 "nbformat_minor": 2
}
