{
 "cells": [
  {
   "cell_type": "code",
   "execution_count": 1,
   "metadata": {},
   "outputs": [
    {
     "name": "stdout",
     "output_type": "stream",
     "text": [
      "dna-sequences.fasta            feature-table.biom.summary.txt\r\n",
      "feature-table.biom\r\n"
     ]
    }
   ],
   "source": [
    "!ls OTU_table/"
   ]
  },
  {
   "cell_type": "code",
   "execution_count": 2,
   "metadata": {
    "collapsed": true
   },
   "outputs": [
    {
     "name": "stdout",
     "output_type": "stream",
     "text": [
      "ITSx -- Identifies ITS sequences and extracts the ITS region\r\n",
      "by Johan Bengtsson-Palme et al., University of Gothenburg\r\n",
      "Version: 1.0.11\r\n",
      "-----------------------------------------------------------------\r\n",
      "Usage: ITSx -i <input file> -o <output file>\r\n",
      "Options:\r\n",
      "-i {file} : DNA FASTA input file to investigate\r\n",
      "-o {file} : Base for the names of output file(s)\r\n",
      "-p {directory} : A path to a directory of HMM-profile collections representing ITS conserved regions, default is in the same directory as ITSx itself\r\n",
      "--date {T or F} : Adds a date and time stamp to the output directory, off (F) by default\r\n",
      "--reset {T or F} : Re-creates the HMM-database before ITSx is run, off (F) by default\r\n",
      "\r\n",
      "Sequence selection options:\r\n",
      "-t {character code} : Profile set to use for the search, see the User's Guide (comma-separated), default is all\r\n",
      "-E {value} : Domain E-value cutoff for a sequence to be included in the output, default = 1e-5\r\n",
      "-S {value} : Domain score cutoff for a sequence to be included in the output, default = 0\r\n",
      "-N {value} : The minimal number of domains that must match a sequence before it is included, default = 2\r\n",
      "--selection_priority {sum, domains, eval, score} : Selects what will be of highest priority when determining the origin of the sequence, default is sum\r\n",
      "--search_eval {value} : The E-value cutoff used in the HMMER search, high numbers may slow down the process, cannot be used with the --search_score option, default is 0.01\r\n",
      "--search_score {value} : The score cutoff used in the HMMER search, low numbers may slow down the process, cannot be used with the --search_eval option, default is to used E-value cutoff, not score\r\n",
      "--allow_single_domain {e-value,score or F} : Allow inclusion of sequences that only find a single domain, given that they meet the given E-value and score thresholds, on with parameters 1e-9,0 by default\r\n",
      "--allow_reorder {T or F} : Allows profiles to be in the wrong order on extracted sequences, off (F) by default\r\n",
      "--complement {T or F} : Checks both DNA strands against the database, creating reverse complements, on (T) by default\r\n",
      "--cpu {value} : the number of CPU threads to use, default is 1\r\n",
      "--multi_thread {T or F} : Multi-thread the HMMER-search, on (T) if number of CPUs (--cpu option > 1), else off (F) by default\r\n",
      "--heuristics {T or F} : Selects whether to use HMMER's heuristic filtering, off (F) by default\r\n",
      "\r\n",
      "Output options:\r\n",
      "--summary {T or F} : Summary of results output, on (T) by default\r\n",
      "--graphical {T or F} : 'Graphical' output, on (T) by default\r\n",
      "--fasta {T or F} : FASTA-format output of extracted ITS sequences, on (T) by default\r\n",
      "--preserve {T or F} : Preserve sequence headers in input file instead of printing out ITSx headers, off (F) by default\r\n",
      "--save_regions {SSU,ITS1,5.8S,ITS2,LSU,all,none} : A comma separated list of regions to output separate FASTA files for, 'ITS1,ITS2' by default\r\n",
      "--anchor {integer or HMM} : Saves an additional number of bases before and after each extracted region. If set to 'HMM' all bases matching the corresponding HMM will be output, default = 0\r\n",
      "--only_full {T or F} : If true, output is limited to full-length regions, off (F) by default\r\n",
      "--partial {integer} : Saves additional FASTA-files for full and partial ITS sequences longer than the specified cutoff, default = 0 (off)\r\n",
      "--concat {T or F} : Saves a FASTA-file with concatenated ITS sequences (with 5.8S removed), off (F) by default\r\n",
      "--minlen {integer} : Minimum length the ITS regions must be to be outputted in the concatenated file (see above), default = 0\r\n",
      "--positions {T or F} : Table format output containing the positions ITS sequences were found in, on (T) by default\r\n",
      "--table {T or F} : Table format output of sequences containing probable ITS sequences, off (F) by default\r\n",
      "--not_found {T or F} : Saves a list of non-found entries, on (T) by default\r\n",
      "--detailed_results {T or F} : Saves a tab-separated list of all results, off (F) by default\r\n",
      "--truncate {T or F} : Truncates the FASTA output to only contain the actual ITS sequences found, on (T) by default\r\n",
      "--silent {T or F} : Supresses printing progress info to stderr, off (F) by default\r\n",
      "--graph_scale {value} : Sets the scale of the graph output, if value is zero, a percentage view is shown, default = 0\r\n",
      "--save_raw {T or F} : Saves all raw data for searches etc. instead of removing it on finish, off (F) by default\r\n",
      "\r\n",
      "-h : displays this help message\r\n",
      "--help : displays this help message\r\n",
      "--bugs : displays the bug fixes and known bugs in this version of ITSx\r\n",
      "--license : displays licensing information\r\n",
      "-----------------------------------------------------------------\r\n"
     ]
    }
   ],
   "source": [
    "!ITSx --help"
   ]
  },
  {
   "cell_type": "markdown",
   "metadata": {},
   "source": [
    "## Running on custom DADA2 script OTUs"
   ]
  },
  {
   "cell_type": "code",
   "execution_count": 3,
   "metadata": {},
   "outputs": [
    {
     "name": "stdout",
     "output_type": "stream",
     "text": [
      "ITSx -- Identifies ITS sequences and extracts the ITS region\n",
      "by Johan Bengtsson-Palme et al., University of Gothenburg\n",
      "Version: 1.0.11\n",
      "-----------------------------------------------------------------\n",
      "Sat Sep  2 20:01:35 2017 : Preparing HMM database (should be quick)...\n",
      "Sat Sep  2 20:01:36 2017 : Checking and handling input sequence data (should not take long)...\n",
      "Sat Sep  2 20:01:36 2017 : Doing paralellised comparison to HMM database (this may take a long while)...\n",
      "    Sat Sep  2 20:01:36 2017 : Bryophyta analysis of main strand finished.\n",
      "    Sat Sep  2 20:01:36 2017 : Bacillariophyta analysis of main strand finished.\n",
      "    Sat Sep  2 20:01:37 2017 : Amoebozoa analysis of main strand finished.\n",
      "    Sat Sep  2 20:01:37 2017 : Euglenozoa analysis of main strand finished.\n",
      "    Sat Sep  2 20:01:38 2017 : Rhodophyta analysis of main strand finished.\n",
      "    Sat Sep  2 20:01:38 2017 : Phaeophyceae analysis of main strand finished.\n",
      "    Sat Sep  2 20:01:38 2017 : Chlorophyta analysis of main strand finished.\n",
      "    Sat Sep  2 20:01:39 2017 : Alveolates analysis of main strand finished.\n",
      "    Sat Sep  2 20:01:39 2017 : Marchantiophyta analysis of main strand finished.\n",
      "    Sat Sep  2 20:01:39 2017 : Haptophyceae analysis of main strand finished.\n",
      "    Sat Sep  2 20:01:40 2017 : Raphidophyceae analysis of main strand finished.\n",
      "    Sat Sep  2 20:01:41 2017 : Oomycota analysis of main strand finished.\n",
      "    Sat Sep  2 20:01:41 2017 : Rhizaria analysis of main strand finished.\n",
      "    Sat Sep  2 20:01:41 2017 : Synurophyceae analysis of main strand finished.\n",
      "    Sat Sep  2 20:01:41 2017 : Eustigmatophyceae analysis of main strand finished.\n",
      "    Sat Sep  2 20:01:45 2017 : Alveolates analysis of complementary strand finished.\n",
      "    Sat Sep  2 20:01:45 2017 : Bryophyta analysis of complementary strand finished.\n",
      "    Sat Sep  2 20:01:46 2017 : Bacillariophyta analysis of complementary strand finished.\n",
      "    Sat Sep  2 20:01:47 2017 : Amoebozoa analysis of complementary strand finished.\n",
      "    Sat Sep  2 20:01:48 2017 : Euglenozoa analysis of complementary strand finished.\n",
      "    Sat Sep  2 20:01:50 2017 : Tracheophyta analysis of main strand finished.\n",
      "    Sat Sep  2 20:01:53 2017 : Chlorophyta analysis of complementary strand finished.\n",
      "    Sat Sep  2 20:01:54 2017 : Rhodophyta analysis of complementary strand finished.\n",
      "    Sat Sep  2 20:01:54 2017 : Phaeophyceae analysis of complementary strand finished.\n",
      "    Sat Sep  2 20:01:55 2017 : Marchantiophyta analysis of complementary strand finished.\n",
      "    Sat Sep  2 20:01:57 2017 : Metazoa analysis of main strand finished.\n",
      "    Sat Sep  2 20:01:59 2017 : Oomycota analysis of complementary strand finished.\n",
      "    Sat Sep  2 20:02:00 2017 : Haptophyceae analysis of complementary strand finished.\n",
      "    Sat Sep  2 20:02:00 2017 : Raphidophyceae analysis of complementary strand finished.\n",
      "    Sat Sep  2 20:02:02 2017 : Rhizaria analysis of complementary strand finished.\n",
      "    Sat Sep  2 20:02:02 2017 : Synurophyceae analysis of complementary strand finished.\n",
      "    Sat Sep  2 20:02:04 2017 : Fungi analysis of main strand finished.\n",
      "    Sat Sep  2 20:02:04 2017 : Eustigmatophyceae analysis of complementary strand finished.\n",
      "    Sat Sep  2 20:02:10 2017 : Tracheophyta analysis of complementary strand finished.\n",
      "    Sat Sep  2 20:02:11 2017 : Metazoa analysis of complementary strand finished.\n",
      "    Sat Sep  2 20:02:13 2017 : Fungi analysis of complementary strand finished.\n",
      "    Sat Sep  2 20:02:13 2017 : All processes finished.\n",
      "Sat Sep  2 20:02:13 2017 : Parallel HMM-scan finished.\n",
      "Sat Sep  2 20:02:13 2017 : Analysing results of HMM-scan (this might take quite some time)...\n",
      "Sat Sep  2 20:02:13 2017 : Extraction finished!\n",
      "-----------------------------------------------------------------\n",
      "Thank you for using ITSx!\n",
      "Please report bugs or unsupported lineages to itsx@microbiology.se\n",
      "\n"
     ]
    }
   ],
   "source": [
    "!ITSx -i DADA2_seqs.fasta -o DADA2_seqs_ITSx.fasta -N 2 --cpu 4 --preserve T\n",
    "# Preserve keeps the same sequence IDs, rather than renaming with length, classification, etc."
   ]
  },
  {
   "cell_type": "code",
   "execution_count": 1,
   "metadata": {},
   "outputs": [
    {
     "name": "stdout",
     "output_type": "stream",
     "text": [
      "ITSx run started at Thu Aug 31 12:26:52 2017.\r\n",
      "-----------------------------------------------------------------\r\n",
      "Number of sequences in input file:       \t1051\r\n",
      "Sequences detected as ITS by ITSx:\t1040\r\n",
      "  On main strand:         \t0\r\n",
      "  On complementary strand:\t1040\r\n",
      "Sequences detected as chimeric by ITSx:\t0\r\n",
      "ITS sequences by preliminary origin:\r\n",
      "  Alveolates:      \t0\r\n",
      "  Amoebozoa:       \t0\r\n",
      "  Bacillariophyta: \t0\r\n",
      "  Brown algae:     \t0\r\n",
      "  Bryophytes:      \t0\r\n",
      "  Euglenozoa:      \t0\r\n",
      "  Eustigmatophytes:\t0\r\n",
      "  Fungi:           \t963\r\n",
      "  Green algae:     \t2\r\n",
      "  Liverworts:      \t2\r\n",
      "  Metazoa:         \t0\r\n",
      "  Microsporidia:   \t0\r\n",
      "  Oomycetes:       \t0\r\n",
      "  Prymnesiophytes: \t0\r\n",
      "  Raphidophytes:   \t0\r\n",
      "  Red algae:       \t10\r\n",
      "  Rhizaria:        \t0\r\n",
      "  Synurophyceae:   \t1\r\n",
      "  Tracheophyta:    \t62\r\n",
      "-----------------------------------------------------------------\r\n",
      "ITSx run finished at Thu Aug 31 12:30:31 2017.\r\n"
     ]
    }
   ],
   "source": [
    "!head -40 OTU_table/dna-sequences-ITSx.fasta.summary.txt\n",
    "# Including all categories catches more samples (1040 vs 1036 with just fungi, out of 1051 total from dada2)\n",
    "# This includes liverworts, which we know were in the system - observed Marchantia in the field.\n",
    "# For now, keeping them in.\n",
    "\n",
    "# Taylor et al. found 98% seqs left after ITSx; this is on track with that (99%)\n",
    "\n",
    "# Blasting some of the sequences ITSx didn't pick out yields no good matches in NCBI"
   ]
  },
  {
   "cell_type": "code",
   "execution_count": null,
   "metadata": {
    "collapsed": true
   },
   "outputs": [],
   "source": []
  }
 ],
 "metadata": {
  "kernelspec": {
   "display_name": "Python 3",
   "language": "python",
   "name": "python3"
  },
  "language_info": {
   "codemirror_mode": {
    "name": "ipython",
    "version": 3
   },
   "file_extension": ".py",
   "mimetype": "text/x-python",
   "name": "python",
   "nbconvert_exporter": "python",
   "pygments_lexer": "ipython3",
   "version": "3.6.0"
  }
 },
 "nbformat": 4,
 "nbformat_minor": 2
}
